{
 "cells": [
  {
   "cell_type": "code",
   "execution_count": 1,
   "metadata": {},
   "outputs": [],
   "source": [
    "import pandas as pd \n",
    "import numpy as np \n",
    "import matplotlib.pyplot as plt \n",
    "import os \n",
    "import sys\n",
    "import pickle"
   ]
  },
  {
   "cell_type": "code",
   "execution_count": 2,
   "metadata": {},
   "outputs": [],
   "source": [
    "%load_ext autoreload\n",
    "%autoreload 2"
   ]
  },
  {
   "cell_type": "code",
   "execution_count": 3,
   "metadata": {},
   "outputs": [],
   "source": [
    "sys.path.append(os.path.abspath(\"../src\"))"
   ]
  },
  {
   "cell_type": "code",
   "execution_count": 4,
   "metadata": {},
   "outputs": [],
   "source": [
    "import gather_data as struct"
   ]
  },
  {
   "cell_type": "code",
   "execution_count": 5,
   "metadata": {},
   "outputs": [],
   "source": [
    "data_path = '../Data/NetflixViewingHistory.csv'\n",
    "with open('../Data/api_key.pkl', 'rb') as hnd:\n",
    "    key = pickle.load(hnd)['api_key']"
   ]
  },
  {
   "cell_type": "code",
   "execution_count": 6,
   "metadata": {},
   "outputs": [
    {
     "name": "stdout",
     "output_type": "stream",
     "text": [
      "Total number of TV Show + Movies:  1405\n",
      "TV Show vs Movie\n",
      "Dataframe shape:  (1405, 6)\n",
      "Starting Movie data pull \n",
      "Existing pickle exists\n",
      "Number of movies:  48\n",
      "Number of missing movies:  3\n",
      "12    BoJack Horseman Christmas Special: Sabrina's C...\n",
      "31                       Samurai Champloo: Unholy Union\n",
      "45                     House of Cards: Season 1 (Recap)\n",
      "Name: title_query, dtype: object\n",
      "Starting TV data pull \n",
      "Existing pickle exists\n",
      "Number of total shows watched:  1357\n",
      "Number of unique shows watched:  74\n",
      "Number of missing TV shows:  0\n",
      "Series([], Name: Show Name, dtype: object)\n"
     ]
    }
   ],
   "source": [
    "data_pipeline = struct.DataPipeline(data_path, key)\n",
    "data_pipeline.execute()"
   ]
  },
  {
   "cell_type": "code",
   "execution_count": 7,
   "metadata": {
    "scrolled": true
   },
   "outputs": [
    {
     "data": {
      "text/plain": [
       "['__class__',\n",
       " '__delattr__',\n",
       " '__dict__',\n",
       " '__dir__',\n",
       " '__doc__',\n",
       " '__eq__',\n",
       " '__format__',\n",
       " '__ge__',\n",
       " '__getattribute__',\n",
       " '__gt__',\n",
       " '__hash__',\n",
       " '__init__',\n",
       " '__init_subclass__',\n",
       " '__le__',\n",
       " '__lt__',\n",
       " '__module__',\n",
       " '__ne__',\n",
       " '__new__',\n",
       " '__reduce__',\n",
       " '__reduce_ex__',\n",
       " '__repr__',\n",
       " '__setattr__',\n",
       " '__sizeof__',\n",
       " '__str__',\n",
       " '__subclasshook__',\n",
       " '__weakref__',\n",
       " 'all_movies_results_df',\n",
       " 'all_tv_results_df',\n",
       " 'data_path',\n",
       " 'execute',\n",
       " 'generate_movie_df',\n",
       " 'generate_tv_df',\n",
       " 'get_TV_show_details',\n",
       " 'get_movie_API_results',\n",
       " 'movie_df',\n",
       " 'parse_netflix',\n",
       " 'search',\n",
       " 'tv_df']"
      ]
     },
     "execution_count": 7,
     "metadata": {},
     "output_type": "execute_result"
    }
   ],
   "source": [
    "dir(data_pipeline)"
   ]
  },
  {
   "cell_type": "code",
   "execution_count": 8,
   "metadata": {},
   "outputs": [],
   "source": [
    "shows = data_pipeline.all_tv_results_df"
   ]
  },
  {
   "cell_type": "code",
   "execution_count": 9,
   "metadata": {},
   "outputs": [
    {
     "data": {
      "text/plain": [
       "(1357, 25)"
      ]
     },
     "execution_count": 9,
     "metadata": {},
     "output_type": "execute_result"
    }
   ],
   "source": [
    "shows.shape"
   ]
  },
  {
   "cell_type": "code",
   "execution_count": 10,
   "metadata": {},
   "outputs": [
    {
     "data": {
      "text/plain": [
       "20"
      ]
     },
     "execution_count": 10,
     "metadata": {},
     "output_type": "execute_result"
    }
   ],
   "source": [
    "pd.options.display.max_columns"
   ]
  },
  {
   "cell_type": "code",
   "execution_count": 11,
   "metadata": {},
   "outputs": [
    {
     "data": {
      "text/html": [
       "<div>\n",
       "<style scoped>\n",
       "    .dataframe tbody tr th:only-of-type {\n",
       "        vertical-align: middle;\n",
       "    }\n",
       "\n",
       "    .dataframe tbody tr th {\n",
       "        vertical-align: top;\n",
       "    }\n",
       "\n",
       "    .dataframe thead th {\n",
       "        text-align: right;\n",
       "    }\n",
       "</style>\n",
       "<table border=\"1\" class=\"dataframe\">\n",
       "  <thead>\n",
       "    <tr style=\"text-align: right;\">\n",
       "      <th></th>\n",
       "      <th>Title</th>\n",
       "      <th>Date</th>\n",
       "      <th>Show Name</th>\n",
       "      <th>Season</th>\n",
       "      <th>Episode Name</th>\n",
       "      <th>TV_Show_flag</th>\n",
       "      <th>homepage</th>\n",
       "      <th>id</th>\n",
       "      <th>in_production</th>\n",
       "      <th>n_network</th>\n",
       "      <th>...</th>\n",
       "      <th>popularity</th>\n",
       "      <th>primary_network</th>\n",
       "      <th>primary_production_co</th>\n",
       "      <th>query_term</th>\n",
       "      <th>release_date</th>\n",
       "      <th>runtime</th>\n",
       "      <th>status</th>\n",
       "      <th>type</th>\n",
       "      <th>vote_average</th>\n",
       "      <th>vote_count</th>\n",
       "    </tr>\n",
       "  </thead>\n",
       "  <tbody>\n",
       "    <tr>\n",
       "      <th>0</th>\n",
       "      <td>Dating Around: Season 1: Gurki</td>\n",
       "      <td>2019-03-03</td>\n",
       "      <td>Dating Around</td>\n",
       "      <td>1</td>\n",
       "      <td>Gurki</td>\n",
       "      <td>TV_Show</td>\n",
       "      <td>https://www.netflix.com/title/80204889</td>\n",
       "      <td>86807</td>\n",
       "      <td>True</td>\n",
       "      <td>1</td>\n",
       "      <td>...</td>\n",
       "      <td>0.915</td>\n",
       "      <td>Netflix</td>\n",
       "      <td></td>\n",
       "      <td>Dating Around</td>\n",
       "      <td>2019-02-14</td>\n",
       "      <td>30</td>\n",
       "      <td>Returning Series</td>\n",
       "      <td>Reality</td>\n",
       "      <td>6.0</td>\n",
       "      <td>1</td>\n",
       "    </tr>\n",
       "    <tr>\n",
       "      <th>1</th>\n",
       "      <td>Dating Around: Season 1: Luke</td>\n",
       "      <td>2019-03-03</td>\n",
       "      <td>Dating Around</td>\n",
       "      <td>1</td>\n",
       "      <td>Luke</td>\n",
       "      <td>TV_Show</td>\n",
       "      <td>https://www.netflix.com/title/80204889</td>\n",
       "      <td>86807</td>\n",
       "      <td>True</td>\n",
       "      <td>1</td>\n",
       "      <td>...</td>\n",
       "      <td>0.915</td>\n",
       "      <td>Netflix</td>\n",
       "      <td></td>\n",
       "      <td>Dating Around</td>\n",
       "      <td>2019-02-14</td>\n",
       "      <td>30</td>\n",
       "      <td>Returning Series</td>\n",
       "      <td>Reality</td>\n",
       "      <td>6.0</td>\n",
       "      <td>1</td>\n",
       "    </tr>\n",
       "    <tr>\n",
       "      <th>2</th>\n",
       "      <td>The Umbrella Academy: Season 1: We Only See Ea...</td>\n",
       "      <td>2019-02-19</td>\n",
       "      <td>The Umbrella Academy</td>\n",
       "      <td>1</td>\n",
       "      <td>We Only See Each Other at Weddings and Funerals</td>\n",
       "      <td>TV_Show</td>\n",
       "      <td>https://www.netflix.com/title/80186863</td>\n",
       "      <td>75006</td>\n",
       "      <td>True</td>\n",
       "      <td>1</td>\n",
       "      <td>...</td>\n",
       "      <td>64.690</td>\n",
       "      <td>Netflix</td>\n",
       "      <td>Dark Horse Entertainment</td>\n",
       "      <td>The Umbrella Academy</td>\n",
       "      <td>2019-02-15</td>\n",
       "      <td>60</td>\n",
       "      <td>Returning Series</td>\n",
       "      <td>Scripted</td>\n",
       "      <td>7.7</td>\n",
       "      <td>111</td>\n",
       "    </tr>\n",
       "    <tr>\n",
       "      <th>3</th>\n",
       "      <td>American Vandal: Season 1: Nailed</td>\n",
       "      <td>2018-11-19</td>\n",
       "      <td>American Vandal</td>\n",
       "      <td>1</td>\n",
       "      <td>Nailed</td>\n",
       "      <td>TV_Show</td>\n",
       "      <td>https://www.netflix.com/title/80117545</td>\n",
       "      <td>73126</td>\n",
       "      <td>False</td>\n",
       "      <td>1</td>\n",
       "      <td>...</td>\n",
       "      <td>6.797</td>\n",
       "      <td>Netflix</td>\n",
       "      <td>3 Arts Entertainment</td>\n",
       "      <td>American Vandal</td>\n",
       "      <td>2017-09-15</td>\n",
       "      <td>35</td>\n",
       "      <td>Ended</td>\n",
       "      <td>Miniseries</td>\n",
       "      <td>7.9</td>\n",
       "      <td>73</td>\n",
       "    </tr>\n",
       "    <tr>\n",
       "      <th>4</th>\n",
       "      <td>American Vandal: Season 1: A Limp Alibi</td>\n",
       "      <td>2018-11-19</td>\n",
       "      <td>American Vandal</td>\n",
       "      <td>1</td>\n",
       "      <td>A Limp Alibi</td>\n",
       "      <td>TV_Show</td>\n",
       "      <td>https://www.netflix.com/title/80117545</td>\n",
       "      <td>73126</td>\n",
       "      <td>False</td>\n",
       "      <td>1</td>\n",
       "      <td>...</td>\n",
       "      <td>6.797</td>\n",
       "      <td>Netflix</td>\n",
       "      <td>3 Arts Entertainment</td>\n",
       "      <td>American Vandal</td>\n",
       "      <td>2017-09-15</td>\n",
       "      <td>35</td>\n",
       "      <td>Ended</td>\n",
       "      <td>Miniseries</td>\n",
       "      <td>7.9</td>\n",
       "      <td>73</td>\n",
       "    </tr>\n",
       "  </tbody>\n",
       "</table>\n",
       "<p>5 rows × 25 columns</p>\n",
       "</div>"
      ],
      "text/plain": [
       "                                               Title       Date  \\\n",
       "0                     Dating Around: Season 1: Gurki 2019-03-03   \n",
       "1                      Dating Around: Season 1: Luke 2019-03-03   \n",
       "2  The Umbrella Academy: Season 1: We Only See Ea... 2019-02-19   \n",
       "3                  American Vandal: Season 1: Nailed 2018-11-19   \n",
       "4            American Vandal: Season 1: A Limp Alibi 2018-11-19   \n",
       "\n",
       "              Show Name Season  \\\n",
       "0         Dating Around      1   \n",
       "1         Dating Around      1   \n",
       "2  The Umbrella Academy      1   \n",
       "3       American Vandal      1   \n",
       "4       American Vandal      1   \n",
       "\n",
       "                                      Episode Name TV_Show_flag  \\\n",
       "0                                            Gurki      TV_Show   \n",
       "1                                             Luke      TV_Show   \n",
       "2  We Only See Each Other at Weddings and Funerals      TV_Show   \n",
       "3                                           Nailed      TV_Show   \n",
       "4                                     A Limp Alibi      TV_Show   \n",
       "\n",
       "                                 homepage     id  in_production  n_network  \\\n",
       "0  https://www.netflix.com/title/80204889  86807           True          1   \n",
       "1  https://www.netflix.com/title/80204889  86807           True          1   \n",
       "2  https://www.netflix.com/title/80186863  75006           True          1   \n",
       "3  https://www.netflix.com/title/80117545  73126          False          1   \n",
       "4  https://www.netflix.com/title/80117545  73126          False          1   \n",
       "\n",
       "   ...  popularity primary_network     primary_production_co  \\\n",
       "0  ...       0.915         Netflix                             \n",
       "1  ...       0.915         Netflix                             \n",
       "2  ...      64.690         Netflix  Dark Horse Entertainment   \n",
       "3  ...       6.797         Netflix      3 Arts Entertainment   \n",
       "4  ...       6.797         Netflix      3 Arts Entertainment   \n",
       "\n",
       "             query_term release_date  runtime            status        type  \\\n",
       "0         Dating Around   2019-02-14       30  Returning Series     Reality   \n",
       "1         Dating Around   2019-02-14       30  Returning Series     Reality   \n",
       "2  The Umbrella Academy   2019-02-15       60  Returning Series    Scripted   \n",
       "3       American Vandal   2017-09-15       35             Ended  Miniseries   \n",
       "4       American Vandal   2017-09-15       35             Ended  Miniseries   \n",
       "\n",
       "  vote_average vote_count  \n",
       "0          6.0          1  \n",
       "1          6.0          1  \n",
       "2          7.7        111  \n",
       "3          7.9         73  \n",
       "4          7.9         73  \n",
       "\n",
       "[5 rows x 25 columns]"
      ]
     },
     "execution_count": 11,
     "metadata": {},
     "output_type": "execute_result"
    }
   ],
   "source": [
    "shows.head()"
   ]
  },
  {
   "cell_type": "markdown",
   "metadata": {},
   "source": [
    "## Simple Agg Metrics"
   ]
  },
  {
   "cell_type": "code",
   "execution_count": 12,
   "metadata": {
    "scrolled": true
   },
   "outputs": [
    {
     "data": {
      "text/plain": [
       "Friends                              171\n",
       "30 Rock                              134\n",
       "The Office (U.S.)                    115\n",
       "Parks and Recreation                  90\n",
       "White Collar                          81\n",
       "The Blacklist                         79\n",
       "Dexter                                78\n",
       "House of Cards                        58\n",
       "Unbreakable Kimmy Schmidt             39\n",
       "BoJack Horseman                       36\n",
       "Brickleberry                          36\n",
       "Orange Is the New Black               29\n",
       "Marvel's Daredevil                    26\n",
       "Narcos                                21\n",
       "Black Mirror                          19\n",
       "Peaky Blinders                        18\n",
       "Scrubs                                18\n",
       "How to Get Away With Murder           17\n",
       "Gossip Girl                           16\n",
       "Chelsea                               14\n",
       "Archer                                13\n",
       "Marvel's Luke Cage                    13\n",
       "Arrow                                 12\n",
       "That '70s Show                        11\n",
       "Queen of the South                    11\n",
       "The Crown                             10\n",
       "The Get Down                          10\n",
       "Marco Polo                            10\n",
       "GLOW                                  10\n",
       "Skins                                 10\n",
       "                                    ... \n",
       "Hip-Hop Evolution                      4\n",
       "The Cleveland Show                     4\n",
       "American Horror Story                  3\n",
       "Santa Clarita Diet                     3\n",
       "Prison Break                           3\n",
       "Futurama                               3\n",
       "Family Guy                             3\n",
       "Marvel's The Punisher                  3\n",
       "The Boondocks                          2\n",
       "The Game                               2\n",
       "Dating Around                          2\n",
       "Malcolm in the Middle                  2\n",
       "Robot Chicken                          2\n",
       "It's Always Sunny in Philadelphia      2\n",
       "Numb3rs                                2\n",
       "Portlandia                             2\n",
       "Marvel's Iron Fist                     1\n",
       "Spartacus                              1\n",
       "The Umbrella Academy                   1\n",
       "Marvel's Agents of S.H.I.E.L.D.        1\n",
       "Disjointed                             1\n",
       "F is for Family                        1\n",
       "Dave Chappelle                         1\n",
       "American Dad!                          1\n",
       "Planet Earth                           1\n",
       "Boys Over Flowers                      1\n",
       "Criminal Minds                         1\n",
       "The Vampire Diaries                    1\n",
       "Fullmetal Alchemist                    1\n",
       "Revenge                                1\n",
       "Name: Show Name, Length: 74, dtype: int64"
      ]
     },
     "execution_count": 12,
     "metadata": {},
     "output_type": "execute_result"
    }
   ],
   "source": [
    "shows['Show Name'].value_counts(ascending=False)"
   ]
  },
  {
   "cell_type": "code",
   "execution_count": null,
   "metadata": {},
   "outputs": [],
   "source": []
  },
  {
   "cell_type": "code",
   "execution_count": 13,
   "metadata": {
    "scrolled": true
   },
   "outputs": [
    {
     "data": {
      "text/plain": [
       "Scripted      1316\n",
       "Miniseries      25\n",
       "Talk Show       14\n",
       "Reality          2\n",
       "Name: type, dtype: int64"
      ]
     },
     "execution_count": 13,
     "metadata": {},
     "output_type": "execute_result"
    }
   ],
   "source": [
    "shows['type'].value_counts()"
   ]
  },
  {
   "cell_type": "code",
   "execution_count": 14,
   "metadata": {
    "scrolled": true
   },
   "outputs": [
    {
     "data": {
      "text/plain": [
       "NBC               589\n",
       "Netflix           351\n",
       "USA Network        92\n",
       "Showtime           78\n",
       "ABC                42\n",
       "Comedy Central     36\n",
       "FOX                34\n",
       "The CW             31\n",
       "BBC One            19\n",
       "Channel 4          19\n",
       "FX                 18\n",
       "E4                 10\n",
       "Rai 1               8\n",
       "BBC Two             6\n",
       "Fuji TV             5\n",
       "HBO Canada          4\n",
       "Spike               4\n",
       "Adult Swim          4\n",
       "CBS                 3\n",
       "IFC                 2\n",
       "ANIMAX              1\n",
       "TBS                 1\n",
       "Name: primary_network, dtype: int64"
      ]
     },
     "execution_count": 14,
     "metadata": {},
     "output_type": "execute_result"
    }
   ],
   "source": [
    "shows['primary_network'].value_counts()"
   ]
  },
  {
   "cell_type": "code",
   "execution_count": null,
   "metadata": {},
   "outputs": [],
   "source": []
  },
  {
   "cell_type": "markdown",
   "metadata": {},
   "source": [
    "## Check Date Metrics"
   ]
  },
  {
   "cell_type": "code",
   "execution_count": 15,
   "metadata": {},
   "outputs": [
    {
     "data": {
      "text/html": [
       "        <script type=\"text/javascript\">\n",
       "        window.PlotlyConfig = {MathJaxConfig: 'local'};\n",
       "        if (window.MathJax) {MathJax.Hub.Config({SVG: {font: \"STIX-Web\"}});}\n",
       "        if (typeof require !== 'undefined') {\n",
       "        require.undef(\"plotly\");\n",
       "        requirejs.config({\n",
       "            paths: {\n",
       "                'plotly': ['https://cdn.plot.ly/plotly-latest.min']\n",
       "            }\n",
       "        });\n",
       "        require(['plotly'], function(Plotly) {\n",
       "            window._Plotly = Plotly;\n",
       "        });\n",
       "        }\n",
       "        </script>\n",
       "        "
      ]
     },
     "metadata": {},
     "output_type": "display_data"
    }
   ],
   "source": [
    "import plotly\n",
    "import plotly.graph_objs as go\n",
    "from plotly.offline import download_plotlyjs, init_notebook_mode, plot, iplot\n",
    "init_notebook_mode(connected=True)\n"
   ]
  },
  {
   "cell_type": "code",
   "execution_count": 16,
   "metadata": {},
   "outputs": [],
   "source": [
    "freq_val = 'M'\n",
    "month_gb = shows.groupby(pd.Grouper(key='Date',freq= freq_val))"
   ]
  },
  {
   "cell_type": "code",
   "execution_count": 17,
   "metadata": {
    "scrolled": true
   },
   "outputs": [
    {
     "name": "stdout",
     "output_type": "stream",
     "text": [
      "2013-09-30 00:00:00 (5, 25)\n",
      "2013-10-31 00:00:00 (29, 25)\n",
      "2014-03-31 00:00:00 (1, 25)\n",
      "2014-04-30 00:00:00 (7, 25)\n",
      "2014-05-31 00:00:00 (21, 25)\n",
      "2014-06-30 00:00:00 (10, 25)\n",
      "2014-07-31 00:00:00 (19, 25)\n",
      "2014-10-31 00:00:00 (1, 25)\n",
      "2014-11-30 00:00:00 (11, 25)\n",
      "2015-01-31 00:00:00 (5, 25)\n",
      "2015-02-28 00:00:00 (4, 25)\n",
      "2015-04-30 00:00:00 (11, 25)\n",
      "2015-05-31 00:00:00 (7, 25)\n",
      "2015-09-30 00:00:00 (14, 25)\n",
      "2015-10-31 00:00:00 (12, 25)\n",
      "2015-11-30 00:00:00 (18, 25)\n",
      "2015-12-31 00:00:00 (9, 25)\n",
      "2016-01-31 00:00:00 (2, 25)\n",
      "2016-02-29 00:00:00 (1, 25)\n",
      "2016-03-31 00:00:00 (22, 25)\n",
      "2016-04-30 00:00:00 (33, 25)\n",
      "2016-05-31 00:00:00 (50, 25)\n",
      "2016-06-30 00:00:00 (128, 25)\n",
      "2016-07-31 00:00:00 (147, 25)\n",
      "2016-08-31 00:00:00 (131, 25)\n",
      "2016-09-30 00:00:00 (34, 25)\n",
      "2016-10-31 00:00:00 (62, 25)\n",
      "2016-11-30 00:00:00 (86, 25)\n",
      "2016-12-31 00:00:00 (68, 25)\n",
      "2017-01-31 00:00:00 (38, 25)\n",
      "2017-02-28 00:00:00 (14, 25)\n",
      "2017-03-31 00:00:00 (22, 25)\n",
      "2017-04-30 00:00:00 (50, 25)\n",
      "2017-05-31 00:00:00 (51, 25)\n",
      "2017-06-30 00:00:00 (18, 25)\n",
      "2017-07-31 00:00:00 (29, 25)\n",
      "2017-08-31 00:00:00 (74, 25)\n",
      "2017-09-30 00:00:00 (16, 25)\n",
      "2017-10-31 00:00:00 (14, 25)\n",
      "2017-11-30 00:00:00 (19, 25)\n",
      "2017-12-31 00:00:00 (12, 25)\n",
      "2018-01-31 00:00:00 (9, 25)\n",
      "2018-02-28 00:00:00 (6, 25)\n",
      "2018-03-31 00:00:00 (14, 25)\n",
      "2018-04-30 00:00:00 (5, 25)\n",
      "2018-07-31 00:00:00 (10, 25)\n",
      "2018-09-30 00:00:00 (1, 25)\n",
      "2018-11-30 00:00:00 (4, 25)\n",
      "2019-02-28 00:00:00 (1, 25)\n",
      "2019-03-31 00:00:00 (2, 25)\n"
     ]
    }
   ],
   "source": [
    "for n,data in month_gb:\n",
    "    if data.shape[0]==0: \n",
    "        continue\n",
    "        \n",
    "    print(n, data.shape)"
   ]
  },
  {
   "cell_type": "code",
   "execution_count": 18,
   "metadata": {},
   "outputs": [],
   "source": [
    "month_gb_size = pd.DataFrame(month_gb.size()).rename({0:'Size'}, axis=1)"
   ]
  },
  {
   "cell_type": "code",
   "execution_count": 19,
   "metadata": {},
   "outputs": [],
   "source": [
    "month_gb_size['Number of Unique Shows'] = month_gb['Show Name'].nunique()"
   ]
  },
  {
   "cell_type": "code",
   "execution_count": 20,
   "metadata": {},
   "outputs": [],
   "source": [
    "month_gb_size['Average Runtime Shows'] = month_gb['runtime'].mean()\n",
    "month_gb_size['Sum Runtime Shows'] = month_gb['runtime'].sum()"
   ]
  },
  {
   "cell_type": "code",
   "execution_count": 21,
   "metadata": {},
   "outputs": [],
   "source": [
    "type_cnts = shows['type'].value_counts()"
   ]
  },
  {
   "cell_type": "code",
   "execution_count": 22,
   "metadata": {},
   "outputs": [],
   "source": [
    "for show_type in type_cnts.index:\n",
    "    month_gb_size['type_'+show_type] = month_gb['type'].apply(lambda x: sum(x == show_type))"
   ]
  },
  {
   "cell_type": "code",
   "execution_count": 23,
   "metadata": {},
   "outputs": [
    {
     "data": {
      "text/plain": [
       "(67, 8)"
      ]
     },
     "execution_count": 23,
     "metadata": {},
     "output_type": "execute_result"
    }
   ],
   "source": [
    "month_gb_size.shape"
   ]
  },
  {
   "cell_type": "code",
   "execution_count": 24,
   "metadata": {},
   "outputs": [
    {
     "data": {
      "text/plain": [
       "array([ 0,  1, 12])"
      ]
     },
     "execution_count": 24,
     "metadata": {},
     "output_type": "execute_result"
    }
   ],
   "source": [
    "month_gb_size['type_Talk Show'].unique()"
   ]
  },
  {
   "cell_type": "code",
   "execution_count": 25,
   "metadata": {},
   "outputs": [
    {
     "data": {
      "text/html": [
       "<div>\n",
       "<style scoped>\n",
       "    .dataframe tbody tr th:only-of-type {\n",
       "        vertical-align: middle;\n",
       "    }\n",
       "\n",
       "    .dataframe tbody tr th {\n",
       "        vertical-align: top;\n",
       "    }\n",
       "\n",
       "    .dataframe thead th {\n",
       "        text-align: right;\n",
       "    }\n",
       "</style>\n",
       "<table border=\"1\" class=\"dataframe\">\n",
       "  <thead>\n",
       "    <tr style=\"text-align: right;\">\n",
       "      <th></th>\n",
       "      <th>Size</th>\n",
       "      <th>Number of Unique Shows</th>\n",
       "      <th>Average Runtime Shows</th>\n",
       "      <th>Sum Runtime Shows</th>\n",
       "      <th>type_Scripted</th>\n",
       "      <th>type_Miniseries</th>\n",
       "      <th>type_Talk Show</th>\n",
       "      <th>type_Reality</th>\n",
       "    </tr>\n",
       "    <tr>\n",
       "      <th>Date</th>\n",
       "      <th></th>\n",
       "      <th></th>\n",
       "      <th></th>\n",
       "      <th></th>\n",
       "      <th></th>\n",
       "      <th></th>\n",
       "      <th></th>\n",
       "      <th></th>\n",
       "    </tr>\n",
       "  </thead>\n",
       "  <tbody>\n",
       "    <tr>\n",
       "      <th>2013-09-30</th>\n",
       "      <td>5</td>\n",
       "      <td>2</td>\n",
       "      <td>23.200000</td>\n",
       "      <td>116</td>\n",
       "      <td>5</td>\n",
       "      <td>0</td>\n",
       "      <td>0</td>\n",
       "      <td>0</td>\n",
       "    </tr>\n",
       "    <tr>\n",
       "      <th>2013-10-31</th>\n",
       "      <td>29</td>\n",
       "      <td>4</td>\n",
       "      <td>51.103448</td>\n",
       "      <td>1482</td>\n",
       "      <td>29</td>\n",
       "      <td>0</td>\n",
       "      <td>0</td>\n",
       "      <td>0</td>\n",
       "    </tr>\n",
       "    <tr>\n",
       "      <th>2013-11-30</th>\n",
       "      <td>0</td>\n",
       "      <td>0</td>\n",
       "      <td>NaN</td>\n",
       "      <td>0</td>\n",
       "      <td>0</td>\n",
       "      <td>0</td>\n",
       "      <td>0</td>\n",
       "      <td>0</td>\n",
       "    </tr>\n",
       "    <tr>\n",
       "      <th>2013-12-31</th>\n",
       "      <td>0</td>\n",
       "      <td>0</td>\n",
       "      <td>NaN</td>\n",
       "      <td>0</td>\n",
       "      <td>0</td>\n",
       "      <td>0</td>\n",
       "      <td>0</td>\n",
       "      <td>0</td>\n",
       "    </tr>\n",
       "    <tr>\n",
       "      <th>2014-01-31</th>\n",
       "      <td>0</td>\n",
       "      <td>0</td>\n",
       "      <td>NaN</td>\n",
       "      <td>0</td>\n",
       "      <td>0</td>\n",
       "      <td>0</td>\n",
       "      <td>0</td>\n",
       "      <td>0</td>\n",
       "    </tr>\n",
       "  </tbody>\n",
       "</table>\n",
       "</div>"
      ],
      "text/plain": [
       "            Size  Number of Unique Shows  Average Runtime Shows  \\\n",
       "Date                                                              \n",
       "2013-09-30     5                       2              23.200000   \n",
       "2013-10-31    29                       4              51.103448   \n",
       "2013-11-30     0                       0                    NaN   \n",
       "2013-12-31     0                       0                    NaN   \n",
       "2014-01-31     0                       0                    NaN   \n",
       "\n",
       "            Sum Runtime Shows  type_Scripted  type_Miniseries  type_Talk Show  \\\n",
       "Date                                                                            \n",
       "2013-09-30                116              5                0               0   \n",
       "2013-10-31               1482             29                0               0   \n",
       "2013-11-30                  0              0                0               0   \n",
       "2013-12-31                  0              0                0               0   \n",
       "2014-01-31                  0              0                0               0   \n",
       "\n",
       "            type_Reality  \n",
       "Date                      \n",
       "2013-09-30             0  \n",
       "2013-10-31             0  \n",
       "2013-11-30             0  \n",
       "2013-12-31             0  \n",
       "2014-01-31             0  "
      ]
     },
     "execution_count": 25,
     "metadata": {},
     "output_type": "execute_result"
    }
   ],
   "source": [
    "month_gb_size.head()"
   ]
  },
  {
   "cell_type": "code",
   "execution_count": 26,
   "metadata": {},
   "outputs": [
    {
     "data": {
      "text/plain": [
       "(67, 8)"
      ]
     },
     "execution_count": 26,
     "metadata": {},
     "output_type": "execute_result"
    }
   ],
   "source": [
    "month_gb_size[month_gb_size != 0].shape"
   ]
  },
  {
   "cell_type": "code",
   "execution_count": 27,
   "metadata": {},
   "outputs": [
    {
     "ename": "TypeError",
     "evalue": "sort_values() missing 1 required positional argument: 'by'",
     "output_type": "error",
     "traceback": [
      "\u001b[0;31m---------------------------------------------------------------------------\u001b[0m",
      "\u001b[0;31mTypeError\u001b[0m                                 Traceback (most recent call last)",
      "\u001b[0;32m<ipython-input-27-bea67fa87a03>\u001b[0m in \u001b[0;36m<module>\u001b[0;34m\u001b[0m\n\u001b[0;32m----> 1\u001b[0;31m \u001b[0mmonth_gb_size\u001b[0m\u001b[0;34m.\u001b[0m\u001b[0msort_values\u001b[0m\u001b[0;34m(\u001b[0m\u001b[0mascending\u001b[0m\u001b[0;34m=\u001b[0m\u001b[0;32mFalse\u001b[0m\u001b[0;34m)\u001b[0m\u001b[0;34m.\u001b[0m\u001b[0mhead\u001b[0m\u001b[0;34m(\u001b[0m\u001b[0;34m)\u001b[0m\u001b[0;34m\u001b[0m\u001b[0;34m\u001b[0m\u001b[0m\n\u001b[0m",
      "\u001b[0;31mTypeError\u001b[0m: sort_values() missing 1 required positional argument: 'by'"
     ]
    }
   ],
   "source": [
    "month_gb_size.sort_values(ascending=False).head()"
   ]
  },
  {
   "cell_type": "code",
   "execution_count": 28,
   "metadata": {},
   "outputs": [],
   "source": [
    "cnt_trace = go.Scatter(\n",
    "    x = month_gb_size.index, \n",
    "    y = month_gb_size.values, \n",
    "    name = 'Count')\n",
    "\n",
    "layout = dict(title= 'Size by ' + freq_val, \n",
    "             yaxis=dict(title=\"Number of Shows Watched\"),\n",
    "             xaxis=dict(title='Date'))\n",
    "fig = go.Figure(data = [cnt_trace], layout=layout)"
   ]
  },
  {
   "cell_type": "code",
   "execution_count": 29,
   "metadata": {},
   "outputs": [
    {
     "data": {
      "application/vnd.plotly.v1+json": {
       "config": {
        "linkText": "Export to plot.ly",
        "plotlyServerURL": "https://plot.ly",
        "showLink": false
       },
       "data": [
        {
         "name": "Count",
         "type": "scatter",
         "uid": "a51a0ae9-3751-40ba-a8fb-d2d4ed7f6853",
         "x": [
          "2013-09-30",
          "2013-10-31",
          "2013-11-30",
          "2013-12-31",
          "2014-01-31",
          "2014-02-28",
          "2014-03-31",
          "2014-04-30",
          "2014-05-31",
          "2014-06-30",
          "2014-07-31",
          "2014-08-31",
          "2014-09-30",
          "2014-10-31",
          "2014-11-30",
          "2014-12-31",
          "2015-01-31",
          "2015-02-28",
          "2015-03-31",
          "2015-04-30",
          "2015-05-31",
          "2015-06-30",
          "2015-07-31",
          "2015-08-31",
          "2015-09-30",
          "2015-10-31",
          "2015-11-30",
          "2015-12-31",
          "2016-01-31",
          "2016-02-29",
          "2016-03-31",
          "2016-04-30",
          "2016-05-31",
          "2016-06-30",
          "2016-07-31",
          "2016-08-31",
          "2016-09-30",
          "2016-10-31",
          "2016-11-30",
          "2016-12-31",
          "2017-01-31",
          "2017-02-28",
          "2017-03-31",
          "2017-04-30",
          "2017-05-31",
          "2017-06-30",
          "2017-07-31",
          "2017-08-31",
          "2017-09-30",
          "2017-10-31",
          "2017-11-30",
          "2017-12-31",
          "2018-01-31",
          "2018-02-28",
          "2018-03-31",
          "2018-04-30",
          "2018-05-31",
          "2018-06-30",
          "2018-07-31",
          "2018-08-31",
          "2018-09-30",
          "2018-10-31",
          "2018-11-30",
          "2018-12-31",
          "2019-01-31",
          "2019-02-28",
          "2019-03-31"
         ],
         "y": [
          [
           5,
           2,
           23.2,
           116,
           5,
           0,
           0,
           0
          ],
          [
           29,
           4,
           51.10344827586207,
           1482,
           29,
           0,
           0,
           0
          ],
          [
           0,
           0,
           null,
           0,
           0,
           0,
           0,
           0
          ],
          [
           0,
           0,
           null,
           0,
           0,
           0,
           0,
           0
          ],
          [
           0,
           0,
           null,
           0,
           0,
           0,
           0,
           0
          ],
          [
           0,
           0,
           null,
           0,
           0,
           0,
           0,
           0
          ],
          [
           1,
           1,
           22,
           22,
           1,
           0,
           0,
           0
          ],
          [
           7,
           1,
           50,
           350,
           7,
           0,
           0,
           0
          ],
          [
           21,
           4,
           31.523809523809526,
           662,
           21,
           0,
           0,
           0
          ],
          [
           10,
           3,
           39.6,
           396,
           10,
           0,
           0,
           0
          ],
          [
           19,
           6,
           44.68421052631579,
           849,
           19,
           0,
           0,
           0
          ],
          [
           0,
           0,
           null,
           0,
           0,
           0,
           0,
           0
          ],
          [
           0,
           0,
           null,
           0,
           0,
           0,
           0,
           0
          ],
          [
           1,
           1,
           43,
           43,
           1,
           0,
           0,
           0
          ],
          [
           11,
           1,
           43,
           473,
           11,
           0,
           0,
           0
          ],
          [
           0,
           0,
           null,
           0,
           0,
           0,
           0,
           0
          ],
          [
           5,
           1,
           22,
           110,
           5,
           0,
           0,
           0
          ],
          [
           4,
           1,
           42,
           168,
           4,
           0,
           0,
           0
          ],
          [
           0,
           0,
           null,
           0,
           0,
           0,
           0,
           0
          ],
          [
           11,
           4,
           41.36363636363637,
           455,
           11,
           0,
           0,
           0
          ],
          [
           7,
           1,
           52,
           364,
           7,
           0,
           0,
           0
          ],
          [
           0,
           0,
           null,
           0,
           0,
           0,
           0,
           0
          ],
          [
           0,
           0,
           null,
           0,
           0,
           0,
           0,
           0
          ],
          [
           0,
           0,
           null,
           0,
           0,
           0,
           0,
           0
          ],
          [
           14,
           2,
           43,
           602,
           14,
           0,
           0,
           0
          ],
          [
           12,
           3,
           39.833333333333336,
           478,
           12,
           0,
           0,
           0
          ],
          [
           18,
           5,
           44.111111111111114,
           794,
           18,
           0,
           0,
           0
          ],
          [
           9,
           2,
           49.22222222222222,
           443,
           9,
           0,
           0,
           0
          ],
          [
           2,
           1,
           24,
           48,
           2,
           0,
           0,
           0
          ],
          [
           1,
           1,
           25,
           25,
           1,
           0,
           0,
           0
          ],
          [
           22,
           5,
           44.72727272727273,
           984,
           22,
           0,
           0,
           0
          ],
          [
           33,
           4,
           40.24242424242424,
           1328,
           33,
           0,
           0,
           0
          ],
          [
           50,
           3,
           45.78,
           2289,
           50,
           0,
           0,
           0
          ],
          [
           128,
           8,
           31.828125,
           4074,
           128,
           0,
           0,
           0
          ],
          [
           147,
           8,
           30.258503401360546,
           4448,
           146,
           1,
           0,
           0
          ],
          [
           131,
           7,
           22.732824427480917,
           2978,
           131,
           0,
           0,
           0
          ],
          [
           34,
           4,
           38.294117647058826,
           1302,
           34,
           0,
           0,
           0
          ],
          [
           62,
           7,
           46.37096774193548,
           2875,
           61,
           0,
           1,
           0
          ],
          [
           86,
           7,
           32.22093023255814,
           2771,
           86,
           0,
           0,
           0
          ],
          [
           68,
           10,
           31.102941176470587,
           2115,
           64,
           4,
           0,
           0
          ],
          [
           38,
           2,
           28.63157894736842,
           1088,
           38,
           0,
           0,
           0
          ],
          [
           14,
           1,
           22,
           308,
           14,
           0,
           0,
           0
          ],
          [
           22,
           1,
           22,
           484,
           22,
           0,
           0,
           0
          ],
          [
           50,
           5,
           26.58,
           1329,
           50,
           0,
           0,
           0
          ],
          [
           51,
           2,
           22.313725490196077,
           1138,
           51,
           0,
           0,
           0
          ],
          [
           18,
           2,
           38.888888888888886,
           700,
           18,
           0,
           0,
           0
          ],
          [
           29,
           4,
           34.13793103448276,
           990,
           29,
           0,
           0,
           0
          ],
          [
           74,
           10,
           43.75675675675676,
           3238,
           46,
           16,
           12,
           0
          ],
          [
           16,
           6,
           36.375,
           582,
           16,
           0,
           0,
           0
          ],
          [
           14,
           2,
           51.642857142857146,
           723,
           14,
           0,
           0,
           0
          ],
          [
           19,
           4,
           49.36842105263158,
           938,
           19,
           0,
           0,
           0
          ],
          [
           12,
           3,
           50.25,
           603,
           11,
           0,
           1,
           0
          ],
          [
           9,
           2,
           48.333333333333336,
           435,
           9,
           0,
           0,
           0
          ],
          [
           6,
           1,
           55,
           330,
           6,
           0,
           0,
           0
          ],
          [
           14,
           2,
           58.57142857142857,
           820,
           14,
           0,
           0,
           0
          ],
          [
           5,
           1,
           55,
           275,
           5,
           0,
           0,
           0
          ],
          [
           0,
           0,
           null,
           0,
           0,
           0,
           0,
           0
          ],
          [
           0,
           0,
           null,
           0,
           0,
           0,
           0,
           0
          ],
          [
           10,
           2,
           21,
           210,
           10,
           0,
           0,
           0
          ],
          [
           0,
           0,
           null,
           0,
           0,
           0,
           0,
           0
          ],
          [
           1,
           1,
           20,
           20,
           1,
           0,
           0,
           0
          ],
          [
           0,
           0,
           null,
           0,
           0,
           0,
           0,
           0
          ],
          [
           4,
           1,
           35,
           140,
           0,
           4,
           0,
           0
          ],
          [
           0,
           0,
           null,
           0,
           0,
           0,
           0,
           0
          ],
          [
           0,
           0,
           null,
           0,
           0,
           0,
           0,
           0
          ],
          [
           1,
           1,
           60,
           60,
           1,
           0,
           0,
           0
          ],
          [
           2,
           1,
           30,
           60,
           0,
           0,
           0,
           2
          ]
         ]
        }
       ],
       "layout": {
        "title": {
         "text": "Size by M"
        },
        "xaxis": {
         "title": {
          "text": "Date"
         }
        },
        "yaxis": {
         "title": {
          "text": "Number of Shows Watched"
         }
        }
       }
      },
      "text/html": [
       "<div>\n",
       "        \n",
       "        \n",
       "            <div id=\"6ced5a9a-1b04-4d36-a1af-6b284838cd63\" class=\"plotly-graph-div\" style=\"height:525px; width:100%;\"></div>\n",
       "            <script type=\"text/javascript\">\n",
       "                require([\"plotly\"], function(Plotly) {\n",
       "                    window.PLOTLYENV=window.PLOTLYENV || {};\n",
       "                    window.PLOTLYENV.BASE_URL='https://plot.ly';\n",
       "                    \n",
       "                if (document.getElementById(\"6ced5a9a-1b04-4d36-a1af-6b284838cd63\")) {\n",
       "                    Plotly.newPlot(\n",
       "                        '6ced5a9a-1b04-4d36-a1af-6b284838cd63',\n",
       "                        [{\"name\": \"Count\", \"type\": \"scatter\", \"uid\": \"a51a0ae9-3751-40ba-a8fb-d2d4ed7f6853\", \"x\": [\"2013-09-30\", \"2013-10-31\", \"2013-11-30\", \"2013-12-31\", \"2014-01-31\", \"2014-02-28\", \"2014-03-31\", \"2014-04-30\", \"2014-05-31\", \"2014-06-30\", \"2014-07-31\", \"2014-08-31\", \"2014-09-30\", \"2014-10-31\", \"2014-11-30\", \"2014-12-31\", \"2015-01-31\", \"2015-02-28\", \"2015-03-31\", \"2015-04-30\", \"2015-05-31\", \"2015-06-30\", \"2015-07-31\", \"2015-08-31\", \"2015-09-30\", \"2015-10-31\", \"2015-11-30\", \"2015-12-31\", \"2016-01-31\", \"2016-02-29\", \"2016-03-31\", \"2016-04-30\", \"2016-05-31\", \"2016-06-30\", \"2016-07-31\", \"2016-08-31\", \"2016-09-30\", \"2016-10-31\", \"2016-11-30\", \"2016-12-31\", \"2017-01-31\", \"2017-02-28\", \"2017-03-31\", \"2017-04-30\", \"2017-05-31\", \"2017-06-30\", \"2017-07-31\", \"2017-08-31\", \"2017-09-30\", \"2017-10-31\", \"2017-11-30\", \"2017-12-31\", \"2018-01-31\", \"2018-02-28\", \"2018-03-31\", \"2018-04-30\", \"2018-05-31\", \"2018-06-30\", \"2018-07-31\", \"2018-08-31\", \"2018-09-30\", \"2018-10-31\", \"2018-11-30\", \"2018-12-31\", \"2019-01-31\", \"2019-02-28\", \"2019-03-31\"], \"y\": [[5.0, 2.0, 23.2, 116.0, 5.0, 0.0, 0.0, 0.0], [29.0, 4.0, 51.10344827586207, 1482.0, 29.0, 0.0, 0.0, 0.0], [0.0, 0.0, null, 0.0, 0.0, 0.0, 0.0, 0.0], [0.0, 0.0, null, 0.0, 0.0, 0.0, 0.0, 0.0], [0.0, 0.0, null, 0.0, 0.0, 0.0, 0.0, 0.0], [0.0, 0.0, null, 0.0, 0.0, 0.0, 0.0, 0.0], [1.0, 1.0, 22.0, 22.0, 1.0, 0.0, 0.0, 0.0], [7.0, 1.0, 50.0, 350.0, 7.0, 0.0, 0.0, 0.0], [21.0, 4.0, 31.523809523809526, 662.0, 21.0, 0.0, 0.0, 0.0], [10.0, 3.0, 39.6, 396.0, 10.0, 0.0, 0.0, 0.0], [19.0, 6.0, 44.68421052631579, 849.0, 19.0, 0.0, 0.0, 0.0], [0.0, 0.0, null, 0.0, 0.0, 0.0, 0.0, 0.0], [0.0, 0.0, null, 0.0, 0.0, 0.0, 0.0, 0.0], [1.0, 1.0, 43.0, 43.0, 1.0, 0.0, 0.0, 0.0], [11.0, 1.0, 43.0, 473.0, 11.0, 0.0, 0.0, 0.0], [0.0, 0.0, null, 0.0, 0.0, 0.0, 0.0, 0.0], [5.0, 1.0, 22.0, 110.0, 5.0, 0.0, 0.0, 0.0], [4.0, 1.0, 42.0, 168.0, 4.0, 0.0, 0.0, 0.0], [0.0, 0.0, null, 0.0, 0.0, 0.0, 0.0, 0.0], [11.0, 4.0, 41.36363636363637, 455.0, 11.0, 0.0, 0.0, 0.0], [7.0, 1.0, 52.0, 364.0, 7.0, 0.0, 0.0, 0.0], [0.0, 0.0, null, 0.0, 0.0, 0.0, 0.0, 0.0], [0.0, 0.0, null, 0.0, 0.0, 0.0, 0.0, 0.0], [0.0, 0.0, null, 0.0, 0.0, 0.0, 0.0, 0.0], [14.0, 2.0, 43.0, 602.0, 14.0, 0.0, 0.0, 0.0], [12.0, 3.0, 39.833333333333336, 478.0, 12.0, 0.0, 0.0, 0.0], [18.0, 5.0, 44.111111111111114, 794.0, 18.0, 0.0, 0.0, 0.0], [9.0, 2.0, 49.22222222222222, 443.0, 9.0, 0.0, 0.0, 0.0], [2.0, 1.0, 24.0, 48.0, 2.0, 0.0, 0.0, 0.0], [1.0, 1.0, 25.0, 25.0, 1.0, 0.0, 0.0, 0.0], [22.0, 5.0, 44.72727272727273, 984.0, 22.0, 0.0, 0.0, 0.0], [33.0, 4.0, 40.24242424242424, 1328.0, 33.0, 0.0, 0.0, 0.0], [50.0, 3.0, 45.78, 2289.0, 50.0, 0.0, 0.0, 0.0], [128.0, 8.0, 31.828125, 4074.0, 128.0, 0.0, 0.0, 0.0], [147.0, 8.0, 30.258503401360546, 4448.0, 146.0, 1.0, 0.0, 0.0], [131.0, 7.0, 22.732824427480917, 2978.0, 131.0, 0.0, 0.0, 0.0], [34.0, 4.0, 38.294117647058826, 1302.0, 34.0, 0.0, 0.0, 0.0], [62.0, 7.0, 46.37096774193548, 2875.0, 61.0, 0.0, 1.0, 0.0], [86.0, 7.0, 32.22093023255814, 2771.0, 86.0, 0.0, 0.0, 0.0], [68.0, 10.0, 31.102941176470587, 2115.0, 64.0, 4.0, 0.0, 0.0], [38.0, 2.0, 28.63157894736842, 1088.0, 38.0, 0.0, 0.0, 0.0], [14.0, 1.0, 22.0, 308.0, 14.0, 0.0, 0.0, 0.0], [22.0, 1.0, 22.0, 484.0, 22.0, 0.0, 0.0, 0.0], [50.0, 5.0, 26.58, 1329.0, 50.0, 0.0, 0.0, 0.0], [51.0, 2.0, 22.313725490196077, 1138.0, 51.0, 0.0, 0.0, 0.0], [18.0, 2.0, 38.888888888888886, 700.0, 18.0, 0.0, 0.0, 0.0], [29.0, 4.0, 34.13793103448276, 990.0, 29.0, 0.0, 0.0, 0.0], [74.0, 10.0, 43.75675675675676, 3238.0, 46.0, 16.0, 12.0, 0.0], [16.0, 6.0, 36.375, 582.0, 16.0, 0.0, 0.0, 0.0], [14.0, 2.0, 51.642857142857146, 723.0, 14.0, 0.0, 0.0, 0.0], [19.0, 4.0, 49.36842105263158, 938.0, 19.0, 0.0, 0.0, 0.0], [12.0, 3.0, 50.25, 603.0, 11.0, 0.0, 1.0, 0.0], [9.0, 2.0, 48.333333333333336, 435.0, 9.0, 0.0, 0.0, 0.0], [6.0, 1.0, 55.0, 330.0, 6.0, 0.0, 0.0, 0.0], [14.0, 2.0, 58.57142857142857, 820.0, 14.0, 0.0, 0.0, 0.0], [5.0, 1.0, 55.0, 275.0, 5.0, 0.0, 0.0, 0.0], [0.0, 0.0, null, 0.0, 0.0, 0.0, 0.0, 0.0], [0.0, 0.0, null, 0.0, 0.0, 0.0, 0.0, 0.0], [10.0, 2.0, 21.0, 210.0, 10.0, 0.0, 0.0, 0.0], [0.0, 0.0, null, 0.0, 0.0, 0.0, 0.0, 0.0], [1.0, 1.0, 20.0, 20.0, 1.0, 0.0, 0.0, 0.0], [0.0, 0.0, null, 0.0, 0.0, 0.0, 0.0, 0.0], [4.0, 1.0, 35.0, 140.0, 0.0, 4.0, 0.0, 0.0], [0.0, 0.0, null, 0.0, 0.0, 0.0, 0.0, 0.0], [0.0, 0.0, null, 0.0, 0.0, 0.0, 0.0, 0.0], [1.0, 1.0, 60.0, 60.0, 1.0, 0.0, 0.0, 0.0], [2.0, 1.0, 30.0, 60.0, 0.0, 0.0, 0.0, 2.0]]}],\n",
       "                        {\"title\": {\"text\": \"Size by M\"}, \"xaxis\": {\"title\": {\"text\": \"Date\"}}, \"yaxis\": {\"title\": {\"text\": \"Number of Shows Watched\"}}},\n",
       "                        {\"showLink\": false, \"linkText\": \"Export to plot.ly\", \"plotlyServerURL\": \"https://plot.ly\", \"responsive\": true}\n",
       "                    ).then(function(){\n",
       "                            \n",
       "var gd = document.getElementById('6ced5a9a-1b04-4d36-a1af-6b284838cd63');\n",
       "var x = new MutationObserver(function (mutations, observer) {{\n",
       "        var display = window.getComputedStyle(gd).display;\n",
       "        if (!display || display === 'none') {{\n",
       "            console.log([gd, 'removed!']);\n",
       "            Plotly.purge(gd);\n",
       "            observer.disconnect();\n",
       "        }}\n",
       "}});\n",
       "\n",
       "// Listen for the removal of the full notebook cells\n",
       "var notebookContainer = gd.closest('#notebook-container');\n",
       "if (notebookContainer) {{\n",
       "    x.observe(notebookContainer, {childList: true});\n",
       "}}\n",
       "\n",
       "// Listen for the clearing of the current output cell\n",
       "var outputEl = gd.closest('.output');\n",
       "if (outputEl) {{\n",
       "    x.observe(outputEl, {childList: true});\n",
       "}}\n",
       "\n",
       "                        })\n",
       "                };\n",
       "                });\n",
       "            </script>\n",
       "        </div>"
      ]
     },
     "metadata": {},
     "output_type": "display_data"
    }
   ],
   "source": [
    "iplot(fig)"
   ]
  },
  {
   "cell_type": "code",
   "execution_count": 46,
   "metadata": {},
   "outputs": [
    {
     "data": {
      "text/plain": [
       "<matplotlib.axes._subplots.AxesSubplot at 0x7f48cd6f9d30>"
      ]
     },
     "execution_count": 46,
     "metadata": {},
     "output_type": "execute_result"
    },
    {
     "data": {
      "image/png": "[encoded data removed]",
      "text/plain": [
       "<Figure size 432x288 with 1 Axes>"
      ]
     },
     "metadata": {
      "needs_background": "light"
     },
     "output_type": "display_data"
    }
   ],
   "source": [
    "month_gb_size.plot()"
   ]
  },
  {
   "cell_type": "code",
   "execution_count": 40,
   "metadata": {},
   "outputs": [
    {
     "data": {
      "text/plain": [
       "<matplotlib.axes._subplots.AxesSubplot at 0x7f48cd610160>"
      ]
     },
     "execution_count": 40,
     "metadata": {},
     "output_type": "execute_result"
    },
    {
     "data": {
      "image/png": "[encoded data removed]",
      "text/plain": [
       "<Figure size 432x288 with 1 Axes>"
      ]
     },
     "metadata": {
      "needs_background": "light"
     },
     "output_type": "display_data"
    }
   ],
   "source": [
    "month_gb_size.plot()"
   ]
  },
  {
   "cell_type": "code",
   "execution_count": null,
   "metadata": {},
   "outputs": [],
   "source": []
  }
 ],
 "metadata": {
  "kernelspec": {
   "display_name": "Python 3",
   "language": "python",
   "name": "python3"
  },
  "language_info": {
   "codemirror_mode": {
    "name": "ipython",
    "version": 3
   },
   "file_extension": ".py",
   "mimetype": "text/x-python",
   "name": "python",
   "nbconvert_exporter": "python",
   "pygments_lexer": "ipython3",
   "version": "3.6.7"
  },
  "toc": {
   "base_numbering": 1,
   "nav_menu": {},
   "number_sections": true,
   "sideBar": true,
   "skip_h1_title": false,
   "title_cell": "Table of Contents",
   "title_sidebar": "Contents",
   "toc_cell": false,
   "toc_position": {},
   "toc_section_display": true,
   "toc_window_display": false
  }
 },
 "nbformat": 4,
 "nbformat_minor": 2
}
