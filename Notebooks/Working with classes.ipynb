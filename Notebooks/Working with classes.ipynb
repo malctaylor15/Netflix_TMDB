{
 "cells": [
  {
   "cell_type": "code",
   "execution_count": 14,
   "metadata": {},
   "outputs": [],
   "source": [
    "import pandas as pd \n",
    "import numpy as np \n",
    "import matplotlib.pyplot as plt \n",
    "import os \n",
    "import sys\n",
    "import pickle"
   ]
  },
  {
   "cell_type": "code",
   "execution_count": 15,
   "metadata": {},
   "outputs": [
    {
     "name": "stdout",
     "output_type": "stream",
     "text": [
      "The autoreload extension is already loaded. To reload it, use:\n",
      "  %reload_ext autoreload\n"
     ]
    }
   ],
   "source": [
    "%load_ext autoreload\n",
    "%autoreload 2"
   ]
  },
  {
   "cell_type": "code",
   "execution_count": 16,
   "metadata": {},
   "outputs": [],
   "source": [
    "sys.path.append(os.path.abspath(\"../src\"))"
   ]
  },
  {
   "cell_type": "code",
   "execution_count": 17,
   "metadata": {},
   "outputs": [],
   "source": [
    "import gather_data as struct"
   ]
  },
  {
   "cell_type": "code",
   "execution_count": 18,
   "metadata": {},
   "outputs": [],
   "source": [
    "data_path = '../Data/NetflixViewingHistory.csv'\n",
    "with open('../Data/api_key.pkl', 'rb') as hnd:\n",
    "    key = pickle.load(hnd)['api_key']"
   ]
  },
  {
   "cell_type": "code",
   "execution_count": 21,
   "metadata": {},
   "outputs": [
    {
     "name": "stdout",
     "output_type": "stream",
     "text": [
      "Total number of TV Show + Movies:  1405\n",
      "TV Show vs Movie\n",
      "Dataframe shape:  (1405, 6)\n",
      "Starting Movie data pull \n",
      "Existing pickle exists\n",
      "Number of movies:  48\n",
      "Number of missing movies:  3\n",
      "12    BoJack Horseman Christmas Special: Sabrina's C...\n",
      "31                       Samurai Champloo: Unholy Union\n",
      "45                     House of Cards: Season 1 (Recap)\n",
      "Name: title_query, dtype: object\n",
      "Starting TV data pull \n",
      "Existing pickle exists\n",
      "Number of total shows watched:  1357\n"
     ]
    },
    {
     "ename": "UnboundLocalError",
     "evalue": "local variable 'unique_shows' referenced before assignment",
     "output_type": "error",
     "traceback": [
      "\u001b[0;31m---------------------------------------------------------------------------\u001b[0m",
      "\u001b[0;31mUnboundLocalError\u001b[0m                         Traceback (most recent call last)",
      "\u001b[0;32m<ipython-input-21-35500870c743>\u001b[0m in \u001b[0;36m<module>\u001b[0;34m\u001b[0m\n\u001b[1;32m      1\u001b[0m \u001b[0mdata_pipeline\u001b[0m \u001b[0;34m=\u001b[0m \u001b[0mstruct\u001b[0m\u001b[0;34m.\u001b[0m\u001b[0mDataPipeline\u001b[0m\u001b[0;34m(\u001b[0m\u001b[0mdata_path\u001b[0m\u001b[0;34m,\u001b[0m \u001b[0mkey\u001b[0m\u001b[0;34m)\u001b[0m\u001b[0;34m\u001b[0m\u001b[0;34m\u001b[0m\u001b[0m\n\u001b[0;32m----> 2\u001b[0;31m \u001b[0mdata_pipeline\u001b[0m\u001b[0;34m.\u001b[0m\u001b[0mexecute\u001b[0m\u001b[0;34m(\u001b[0m\u001b[0;34m)\u001b[0m\u001b[0;34m\u001b[0m\u001b[0;34m\u001b[0m\u001b[0m\n\u001b[0m",
      "\u001b[0;32m~/Documents/Github_projects/Netflix_TMDB/src/gather_data.py\u001b[0m in \u001b[0;36mexecute\u001b[0;34m(self)\u001b[0m\n\u001b[1;32m     19\u001b[0m         \u001b[0mnetflix_df\u001b[0m \u001b[0;34m=\u001b[0m \u001b[0mself\u001b[0m\u001b[0;34m.\u001b[0m\u001b[0mparse_netflix\u001b[0m\u001b[0;34m(\u001b[0m\u001b[0mself\u001b[0m\u001b[0;34m.\u001b[0m\u001b[0mdata_path\u001b[0m\u001b[0;34m)\u001b[0m\u001b[0;34m\u001b[0m\u001b[0;34m\u001b[0m\u001b[0m\n\u001b[1;32m     20\u001b[0m         \u001b[0mmovie_df\u001b[0m \u001b[0;34m=\u001b[0m \u001b[0mself\u001b[0m\u001b[0;34m.\u001b[0m\u001b[0mgenerate_movie_df\u001b[0m\u001b[0;34m(\u001b[0m\u001b[0mnetflix_df\u001b[0m\u001b[0;34m)\u001b[0m\u001b[0;34m\u001b[0m\u001b[0;34m\u001b[0m\u001b[0m\n\u001b[0;32m---> 21\u001b[0;31m         \u001b[0mtv_df\u001b[0m \u001b[0;34m=\u001b[0m \u001b[0mself\u001b[0m\u001b[0;34m.\u001b[0m\u001b[0mgenerate_tv_df\u001b[0m\u001b[0;34m(\u001b[0m\u001b[0mnetflix_df\u001b[0m\u001b[0;34m)\u001b[0m\u001b[0;34m\u001b[0m\u001b[0;34m\u001b[0m\u001b[0m\n\u001b[0m\u001b[1;32m     22\u001b[0m \u001b[0;34m\u001b[0m\u001b[0m\n\u001b[1;32m     23\u001b[0m     \u001b[0;32mdef\u001b[0m \u001b[0mparse_netflix\u001b[0m\u001b[0;34m(\u001b[0m\u001b[0mself\u001b[0m\u001b[0;34m,\u001b[0m \u001b[0mdata_path\u001b[0m\u001b[0;34m,\u001b[0m \u001b[0mshow\u001b[0m\u001b[0;34m=\u001b[0m\u001b[0;32mTrue\u001b[0m\u001b[0;34m)\u001b[0m\u001b[0;34m:\u001b[0m\u001b[0;34m\u001b[0m\u001b[0;34m\u001b[0m\u001b[0m\n",
      "\u001b[0;32m~/Documents/Github_projects/Netflix_TMDB/src/gather_data.py\u001b[0m in \u001b[0;36mgenerate_tv_df\u001b[0;34m(self, netflix_df, pkl_path, show)\u001b[0m\n\u001b[1;32m    173\u001b[0m             \u001b[0mprint\u001b[0m\u001b[0;34m(\u001b[0m\u001b[0;34m\"Number of total shows watched: \"\u001b[0m\u001b[0;34m,\u001b[0m \u001b[0mself\u001b[0m\u001b[0;34m.\u001b[0m\u001b[0mall_tv_results_df\u001b[0m\u001b[0;34m.\u001b[0m\u001b[0mshape\u001b[0m\u001b[0;34m[\u001b[0m\u001b[0;36m0\u001b[0m\u001b[0;34m]\u001b[0m\u001b[0;34m)\u001b[0m\u001b[0;34m\u001b[0m\u001b[0;34m\u001b[0m\u001b[0m\n\u001b[1;32m    174\u001b[0m             \u001b[0mmissing_movies\u001b[0m \u001b[0;34m=\u001b[0m \u001b[0mself\u001b[0m\u001b[0;34m.\u001b[0m\u001b[0mall_tv_results_df\u001b[0m\u001b[0;34m[\u001b[0m\u001b[0mself\u001b[0m\u001b[0;34m.\u001b[0m\u001b[0mall_tv_results_df\u001b[0m\u001b[0;34m[\u001b[0m\u001b[0;34m'id'\u001b[0m\u001b[0;34m]\u001b[0m\u001b[0;34m.\u001b[0m\u001b[0misna\u001b[0m\u001b[0;34m(\u001b[0m\u001b[0;34m)\u001b[0m\u001b[0;34m]\u001b[0m\u001b[0;34m\u001b[0m\u001b[0;34m\u001b[0m\u001b[0m\n\u001b[0;32m--> 175\u001b[0;31m             \u001b[0mprint\u001b[0m\u001b[0;34m(\u001b[0m\u001b[0;34m\"Number of unique shows watched: \"\u001b[0m\u001b[0;34m,\u001b[0m \u001b[0mlen\u001b[0m\u001b[0;34m(\u001b[0m\u001b[0munique_shows\u001b[0m\u001b[0;34m)\u001b[0m\u001b[0;34m)\u001b[0m\u001b[0;34m\u001b[0m\u001b[0;34m\u001b[0m\u001b[0m\n\u001b[0m\u001b[1;32m    176\u001b[0m             \u001b[0mprint\u001b[0m\u001b[0;34m(\u001b[0m\u001b[0;34m\"Number of missing TV shows: \"\u001b[0m\u001b[0;34m,\u001b[0m \u001b[0mmissing_movies\u001b[0m\u001b[0;34m.\u001b[0m\u001b[0mshape\u001b[0m\u001b[0;34m[\u001b[0m\u001b[0;36m0\u001b[0m\u001b[0;34m]\u001b[0m\u001b[0;34m)\u001b[0m\u001b[0;34m\u001b[0m\u001b[0;34m\u001b[0m\u001b[0m\n\u001b[1;32m    177\u001b[0m             \u001b[0mprint\u001b[0m\u001b[0;34m(\u001b[0m\u001b[0mmissing_movies\u001b[0m\u001b[0;34m[\u001b[0m\u001b[0;34m'Show Name'\u001b[0m\u001b[0;34m]\u001b[0m\u001b[0;34m)\u001b[0m\u001b[0;34m\u001b[0m\u001b[0;34m\u001b[0m\u001b[0m\n",
      "\u001b[0;31mUnboundLocalError\u001b[0m: local variable 'unique_shows' referenced before assignment"
     ]
    }
   ],
   "source": [
    "data_pipeline = struct.DataPipeline(data_path, key)\n",
    "data_pipeline.execute()"
   ]
  },
  {
   "cell_type": "code",
   "execution_count": null,
   "metadata": {},
   "outputs": [],
   "source": []
  },
  {
   "cell_type": "code",
   "execution_count": null,
   "metadata": {},
   "outputs": [],
   "source": [
    "shows = data_pipeline.all_tv_results_df"
   ]
  },
  {
   "cell_type": "code",
   "execution_count": 12,
   "metadata": {},
   "outputs": [
    {
     "data": {
      "text/plain": [
       "(1357, 25)"
      ]
     },
     "execution_count": 12,
     "metadata": {},
     "output_type": "execute_result"
    }
   ],
   "source": [
    "shows.shape"
   ]
  },
  {
   "cell_type": "code",
   "execution_count": null,
   "metadata": {},
   "outputs": [],
   "source": []
  },
  {
   "cell_type": "code",
   "execution_count": 13,
   "metadata": {},
   "outputs": [
    {
     "data": {
      "text/html": [
       "<div>\n",
       "<style scoped>\n",
       "    .dataframe tbody tr th:only-of-type {\n",
       "        vertical-align: middle;\n",
       "    }\n",
       "\n",
       "    .dataframe tbody tr th {\n",
       "        vertical-align: top;\n",
       "    }\n",
       "\n",
       "    .dataframe thead th {\n",
       "        text-align: right;\n",
       "    }\n",
       "</style>\n",
       "<table border=\"1\" class=\"dataframe\">\n",
       "  <thead>\n",
       "    <tr style=\"text-align: right;\">\n",
       "      <th></th>\n",
       "      <th>Title</th>\n",
       "      <th>Date</th>\n",
       "      <th>Show Name</th>\n",
       "      <th>Season</th>\n",
       "      <th>Episode Name</th>\n",
       "      <th>TV_Show_flag</th>\n",
       "      <th>homepage</th>\n",
       "      <th>imdb_id</th>\n",
       "      <th>in_production</th>\n",
       "      <th>n_network</th>\n",
       "      <th>...</th>\n",
       "      <th>popularity</th>\n",
       "      <th>primary_network</th>\n",
       "      <th>primary_production_co</th>\n",
       "      <th>query_term</th>\n",
       "      <th>release_date</th>\n",
       "      <th>runtime</th>\n",
       "      <th>status</th>\n",
       "      <th>type</th>\n",
       "      <th>vote_average</th>\n",
       "      <th>vote_count</th>\n",
       "    </tr>\n",
       "  </thead>\n",
       "  <tbody>\n",
       "    <tr>\n",
       "      <th>0</th>\n",
       "      <td>Dating Around: Season 1: Gurki</td>\n",
       "      <td>2019-03-03</td>\n",
       "      <td>Dating Around</td>\n",
       "      <td>1</td>\n",
       "      <td>Gurki</td>\n",
       "      <td>TV_Show</td>\n",
       "      <td>https://www.netflix.com/title/80204889</td>\n",
       "      <td>86807</td>\n",
       "      <td>True</td>\n",
       "      <td>1</td>\n",
       "      <td>...</td>\n",
       "      <td>0.915</td>\n",
       "      <td>Netflix</td>\n",
       "      <td></td>\n",
       "      <td>Dating Around</td>\n",
       "      <td>2019-02-14</td>\n",
       "      <td>30</td>\n",
       "      <td>Returning Series</td>\n",
       "      <td>Reality</td>\n",
       "      <td>6.0</td>\n",
       "      <td>1</td>\n",
       "    </tr>\n",
       "    <tr>\n",
       "      <th>1</th>\n",
       "      <td>Dating Around: Season 1: Luke</td>\n",
       "      <td>2019-03-03</td>\n",
       "      <td>Dating Around</td>\n",
       "      <td>1</td>\n",
       "      <td>Luke</td>\n",
       "      <td>TV_Show</td>\n",
       "      <td>https://www.netflix.com/title/80204889</td>\n",
       "      <td>86807</td>\n",
       "      <td>True</td>\n",
       "      <td>1</td>\n",
       "      <td>...</td>\n",
       "      <td>0.915</td>\n",
       "      <td>Netflix</td>\n",
       "      <td></td>\n",
       "      <td>Dating Around</td>\n",
       "      <td>2019-02-14</td>\n",
       "      <td>30</td>\n",
       "      <td>Returning Series</td>\n",
       "      <td>Reality</td>\n",
       "      <td>6.0</td>\n",
       "      <td>1</td>\n",
       "    </tr>\n",
       "    <tr>\n",
       "      <th>2</th>\n",
       "      <td>The Umbrella Academy: Season 1: We Only See Ea...</td>\n",
       "      <td>2019-02-19</td>\n",
       "      <td>The Umbrella Academy</td>\n",
       "      <td>1</td>\n",
       "      <td>We Only See Each Other at Weddings and Funerals</td>\n",
       "      <td>TV_Show</td>\n",
       "      <td>https://www.netflix.com/title/80186863</td>\n",
       "      <td>75006</td>\n",
       "      <td>True</td>\n",
       "      <td>1</td>\n",
       "      <td>...</td>\n",
       "      <td>64.690</td>\n",
       "      <td>Netflix</td>\n",
       "      <td>Dark Horse Entertainment</td>\n",
       "      <td>The Umbrella Academy</td>\n",
       "      <td>2019-02-15</td>\n",
       "      <td>60</td>\n",
       "      <td>Returning Series</td>\n",
       "      <td>Scripted</td>\n",
       "      <td>7.7</td>\n",
       "      <td>111</td>\n",
       "    </tr>\n",
       "    <tr>\n",
       "      <th>3</th>\n",
       "      <td>American Vandal: Season 1: Nailed</td>\n",
       "      <td>2018-11-19</td>\n",
       "      <td>American Vandal</td>\n",
       "      <td>1</td>\n",
       "      <td>Nailed</td>\n",
       "      <td>TV_Show</td>\n",
       "      <td>https://www.netflix.com/title/80117545</td>\n",
       "      <td>73126</td>\n",
       "      <td>False</td>\n",
       "      <td>1</td>\n",
       "      <td>...</td>\n",
       "      <td>6.797</td>\n",
       "      <td>Netflix</td>\n",
       "      <td>3 Arts Entertainment</td>\n",
       "      <td>American Vandal</td>\n",
       "      <td>2017-09-15</td>\n",
       "      <td>35</td>\n",
       "      <td>Ended</td>\n",
       "      <td>Miniseries</td>\n",
       "      <td>7.9</td>\n",
       "      <td>73</td>\n",
       "    </tr>\n",
       "    <tr>\n",
       "      <th>4</th>\n",
       "      <td>American Vandal: Season 1: A Limp Alibi</td>\n",
       "      <td>2018-11-19</td>\n",
       "      <td>American Vandal</td>\n",
       "      <td>1</td>\n",
       "      <td>A Limp Alibi</td>\n",
       "      <td>TV_Show</td>\n",
       "      <td>https://www.netflix.com/title/80117545</td>\n",
       "      <td>73126</td>\n",
       "      <td>False</td>\n",
       "      <td>1</td>\n",
       "      <td>...</td>\n",
       "      <td>6.797</td>\n",
       "      <td>Netflix</td>\n",
       "      <td>3 Arts Entertainment</td>\n",
       "      <td>American Vandal</td>\n",
       "      <td>2017-09-15</td>\n",
       "      <td>35</td>\n",
       "      <td>Ended</td>\n",
       "      <td>Miniseries</td>\n",
       "      <td>7.9</td>\n",
       "      <td>73</td>\n",
       "    </tr>\n",
       "  </tbody>\n",
       "</table>\n",
       "<p>5 rows × 25 columns</p>\n",
       "</div>"
      ],
      "text/plain": [
       "                                               Title       Date  \\\n",
       "0                     Dating Around: Season 1: Gurki 2019-03-03   \n",
       "1                      Dating Around: Season 1: Luke 2019-03-03   \n",
       "2  The Umbrella Academy: Season 1: We Only See Ea... 2019-02-19   \n",
       "3                  American Vandal: Season 1: Nailed 2018-11-19   \n",
       "4            American Vandal: Season 1: A Limp Alibi 2018-11-19   \n",
       "\n",
       "              Show Name Season  \\\n",
       "0         Dating Around      1   \n",
       "1         Dating Around      1   \n",
       "2  The Umbrella Academy      1   \n",
       "3       American Vandal      1   \n",
       "4       American Vandal      1   \n",
       "\n",
       "                                      Episode Name TV_Show_flag  \\\n",
       "0                                            Gurki      TV_Show   \n",
       "1                                             Luke      TV_Show   \n",
       "2  We Only See Each Other at Weddings and Funerals      TV_Show   \n",
       "3                                           Nailed      TV_Show   \n",
       "4                                     A Limp Alibi      TV_Show   \n",
       "\n",
       "                                 homepage  imdb_id  in_production  n_network  \\\n",
       "0  https://www.netflix.com/title/80204889    86807           True          1   \n",
       "1  https://www.netflix.com/title/80204889    86807           True          1   \n",
       "2  https://www.netflix.com/title/80186863    75006           True          1   \n",
       "3  https://www.netflix.com/title/80117545    73126          False          1   \n",
       "4  https://www.netflix.com/title/80117545    73126          False          1   \n",
       "\n",
       "   ...  popularity primary_network     primary_production_co  \\\n",
       "0  ...       0.915         Netflix                             \n",
       "1  ...       0.915         Netflix                             \n",
       "2  ...      64.690         Netflix  Dark Horse Entertainment   \n",
       "3  ...       6.797         Netflix      3 Arts Entertainment   \n",
       "4  ...       6.797         Netflix      3 Arts Entertainment   \n",
       "\n",
       "             query_term release_date  runtime            status        type  \\\n",
       "0         Dating Around   2019-02-14       30  Returning Series     Reality   \n",
       "1         Dating Around   2019-02-14       30  Returning Series     Reality   \n",
       "2  The Umbrella Academy   2019-02-15       60  Returning Series    Scripted   \n",
       "3       American Vandal   2017-09-15       35             Ended  Miniseries   \n",
       "4       American Vandal   2017-09-15       35             Ended  Miniseries   \n",
       "\n",
       "  vote_average vote_count  \n",
       "0          6.0          1  \n",
       "1          6.0          1  \n",
       "2          7.7        111  \n",
       "3          7.9         73  \n",
       "4          7.9         73  \n",
       "\n",
       "[5 rows x 25 columns]"
      ]
     },
     "execution_count": 13,
     "metadata": {},
     "output_type": "execute_result"
    }
   ],
   "source": [
    "shows.head()"
   ]
  },
  {
   "cell_type": "code",
   "execution_count": null,
   "metadata": {},
   "outputs": [],
   "source": []
  },
  {
   "cell_type": "code",
   "execution_count": null,
   "metadata": {},
   "outputs": [],
   "source": []
  },
  {
   "cell_type": "code",
   "execution_count": null,
   "metadata": {},
   "outputs": [],
   "source": []
  },
  {
   "cell_type": "code",
   "execution_count": null,
   "metadata": {},
   "outputs": [],
   "source": []
  },
  {
   "cell_type": "code",
   "execution_count": null,
   "metadata": {},
   "outputs": [],
   "source": []
  }
 ],
 "metadata": {
  "kernelspec": {
   "display_name": "Python 3",
   "language": "python",
   "name": "python3"
  },
  "language_info": {
   "codemirror_mode": {
    "name": "ipython",
    "version": 3
   },
   "file_extension": ".py",
   "mimetype": "text/x-python",
   "name": "python",
   "nbconvert_exporter": "python",
   "pygments_lexer": "ipython3",
   "version": "3.6.7"
  }
 },
 "nbformat": 4,
 "nbformat_minor": 2
}
