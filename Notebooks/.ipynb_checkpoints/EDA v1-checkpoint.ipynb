{
 "cells": [
  {
   "cell_type": "raw",
   "metadata": {},
   "source": [
    "import pickle \n",
    "with open('../Data/api_key.pkl', 'wb') as hnd:\n",
    "    pickle.dump({'api_key':\"key\"}, hnd)"
   ]
  },
  {
   "cell_type": "code",
   "execution_count": 29,
   "metadata": {},
   "outputs": [],
   "source": [
    "import pandas as pd\n",
    "import numpy as np \n",
    "import matplotlib.pyplot as plt\n",
    "import tmdbsimple as tmdb\n",
    "import os\n",
    "import pickle"
   ]
  },
  {
   "cell_type": "code",
   "execution_count": 9,
   "metadata": {},
   "outputs": [],
   "source": [
    "with open('../Data/api_key.pkl', 'rb') as hnd:\n",
    "    tmdb.API_KEY = pickle.load(hnd)['api_key']"
   ]
  },
  {
   "cell_type": "code",
   "execution_count": 11,
   "metadata": {},
   "outputs": [
    {
     "name": "stdout",
     "output_type": "stream",
     "text": [
      "The Bourne Legacy 49040 2012-08-08 14.881\n",
      "The Bourne Identity 2501 2002-06-14 14.088\n",
      "The Bourne Supremacy 2502 2004-07-23 13.061\n",
      "The Bourne Ultimatum 2503 2007-08-03 11.41\n",
      "Bette Bourne: It Goes with the Shoes 179304 2013-03-21 0.847\n",
      "Jason Bourne 324668 2016-07-27 14.231\n",
      "Untitled Jeremy Renner/Bourne Sequel 393640  1.393\n"
     ]
    }
   ],
   "source": [
    "search = tmdb.Search()\n",
    "response = search.movie(query='The Bourne')\n",
    "for s in search.results:\n",
    "    print(s['title'], s['id'], s['release_date'], s['popularity'])"
   ]
  },
  {
   "cell_type": "code",
   "execution_count": 20,
   "metadata": {},
   "outputs": [],
   "source": [
    "data = pd.read_csv('../Data/NetflixViewingHistory.csv')"
   ]
  },
  {
   "cell_type": "code",
   "execution_count": 21,
   "metadata": {},
   "outputs": [
    {
     "data": {
      "text/plain": [
       "(1405, 2)"
      ]
     },
     "execution_count": 21,
     "metadata": {},
     "output_type": "execute_result"
    }
   ],
   "source": [
    "data.shape"
   ]
  },
  {
   "cell_type": "code",
   "execution_count": 40,
   "metadata": {},
   "outputs": [
    {
     "data": {
      "text/html": [
       "<div>\n",
       "<style scoped>\n",
       "    .dataframe tbody tr th:only-of-type {\n",
       "        vertical-align: middle;\n",
       "    }\n",
       "\n",
       "    .dataframe tbody tr th {\n",
       "        vertical-align: top;\n",
       "    }\n",
       "\n",
       "    .dataframe thead th {\n",
       "        text-align: right;\n",
       "    }\n",
       "</style>\n",
       "<table border=\"1\" class=\"dataframe\">\n",
       "  <thead>\n",
       "    <tr style=\"text-align: right;\">\n",
       "      <th></th>\n",
       "      <th>Title</th>\n",
       "      <th>Date</th>\n",
       "      <th>TV_Show_flag</th>\n",
       "    </tr>\n",
       "  </thead>\n",
       "  <tbody>\n",
       "    <tr>\n",
       "      <th>0</th>\n",
       "      <td>Dating Around: Season 1: Gurki</td>\n",
       "      <td>2019-03-03</td>\n",
       "      <td>1</td>\n",
       "    </tr>\n",
       "    <tr>\n",
       "      <th>1</th>\n",
       "      <td>Dating Around: Season 1: Luke</td>\n",
       "      <td>2019-03-03</td>\n",
       "      <td>1</td>\n",
       "    </tr>\n",
       "    <tr>\n",
       "      <th>2</th>\n",
       "      <td>The Umbrella Academy: Season 1: We Only See Ea...</td>\n",
       "      <td>2019-02-19</td>\n",
       "      <td>1</td>\n",
       "    </tr>\n",
       "    <tr>\n",
       "      <th>3</th>\n",
       "      <td>Trevor Noah: Son of Patricia</td>\n",
       "      <td>2018-11-23</td>\n",
       "      <td>0</td>\n",
       "    </tr>\n",
       "    <tr>\n",
       "      <th>4</th>\n",
       "      <td>American Vandal: Season 1: Nailed</td>\n",
       "      <td>2018-11-19</td>\n",
       "      <td>1</td>\n",
       "    </tr>\n",
       "  </tbody>\n",
       "</table>\n",
       "</div>"
      ],
      "text/plain": [
       "                                               Title       Date  TV_Show_flag\n",
       "0                     Dating Around: Season 1: Gurki 2019-03-03             1\n",
       "1                      Dating Around: Season 1: Luke 2019-03-03             1\n",
       "2  The Umbrella Academy: Season 1: We Only See Ea... 2019-02-19             1\n",
       "3                       Trevor Noah: Son of Patricia 2018-11-23             0\n",
       "4                  American Vandal: Season 1: Nailed 2018-11-19             1"
      ]
     },
     "execution_count": 40,
     "metadata": {},
     "output_type": "execute_result"
    }
   ],
   "source": [
    "data.head()"
   ]
  },
  {
   "cell_type": "code",
   "execution_count": 53,
   "metadata": {},
   "outputs": [],
   "source": [
    "data['TV_Show_flag'] = data.Title.apply(lambda x: 1 if ': Season' in x else 0 )"
   ]
  },
  {
   "cell_type": "code",
   "execution_count": 54,
   "metadata": {},
   "outputs": [
    {
     "data": {
      "text/plain": [
       "1    1291\n",
       "0     114\n",
       "Name: TV_Show_flag, dtype: int64"
      ]
     },
     "execution_count": 54,
     "metadata": {},
     "output_type": "execute_result"
    }
   ],
   "source": [
    "data['TV_Show_flag'].value_counts()"
   ]
  },
  {
   "cell_type": "code",
   "execution_count": 23,
   "metadata": {},
   "outputs": [],
   "source": [
    "data['Date'] = pd.to_datetime(data['Date'])"
   ]
  },
  {
   "cell_type": "code",
   "execution_count": 65,
   "metadata": {},
   "outputs": [],
   "source": [
    "title_splits = data['Title'].str.split(':',2, expand=True)\n",
    "title_splits.rename({0:'Show Name', 1:'Season', 2:'Episode Name'}, axis = 1, inplace=True)"
   ]
  },
  {
   "cell_type": "code",
   "execution_count": 66,
   "metadata": {},
   "outputs": [],
   "source": [
    "data2 = pd.concat([data, title_splits], axis = 1)"
   ]
  },
  {
   "cell_type": "code",
   "execution_count": 67,
   "metadata": {},
   "outputs": [
    {
     "data": {
      "text/html": [
       "<div>\n",
       "<style scoped>\n",
       "    .dataframe tbody tr th:only-of-type {\n",
       "        vertical-align: middle;\n",
       "    }\n",
       "\n",
       "    .dataframe tbody tr th {\n",
       "        vertical-align: top;\n",
       "    }\n",
       "\n",
       "    .dataframe thead th {\n",
       "        text-align: right;\n",
       "    }\n",
       "</style>\n",
       "<table border=\"1\" class=\"dataframe\">\n",
       "  <thead>\n",
       "    <tr style=\"text-align: right;\">\n",
       "      <th></th>\n",
       "      <th>Title</th>\n",
       "      <th>Date</th>\n",
       "      <th>TV_Show_flag</th>\n",
       "      <th>Show Name</th>\n",
       "      <th>Season</th>\n",
       "      <th>Episode Name</th>\n",
       "    </tr>\n",
       "  </thead>\n",
       "  <tbody>\n",
       "    <tr>\n",
       "      <th>0</th>\n",
       "      <td>Dating Around: Season 1: Gurki</td>\n",
       "      <td>2019-03-03</td>\n",
       "      <td>1</td>\n",
       "      <td>Dating Around</td>\n",
       "      <td>Season 1</td>\n",
       "      <td>Gurki</td>\n",
       "    </tr>\n",
       "    <tr>\n",
       "      <th>1</th>\n",
       "      <td>Dating Around: Season 1: Luke</td>\n",
       "      <td>2019-03-03</td>\n",
       "      <td>1</td>\n",
       "      <td>Dating Around</td>\n",
       "      <td>Season 1</td>\n",
       "      <td>Luke</td>\n",
       "    </tr>\n",
       "    <tr>\n",
       "      <th>2</th>\n",
       "      <td>The Umbrella Academy: Season 1: We Only See Ea...</td>\n",
       "      <td>2019-02-19</td>\n",
       "      <td>1</td>\n",
       "      <td>The Umbrella Academy</td>\n",
       "      <td>Season 1</td>\n",
       "      <td>We Only See Each Other at Weddings and Funerals</td>\n",
       "    </tr>\n",
       "    <tr>\n",
       "      <th>3</th>\n",
       "      <td>Trevor Noah: Son of Patricia</td>\n",
       "      <td>2018-11-23</td>\n",
       "      <td>0</td>\n",
       "      <td>Trevor Noah</td>\n",
       "      <td>Son of Patricia</td>\n",
       "      <td>None</td>\n",
       "    </tr>\n",
       "    <tr>\n",
       "      <th>4</th>\n",
       "      <td>American Vandal: Season 1: Nailed</td>\n",
       "      <td>2018-11-19</td>\n",
       "      <td>1</td>\n",
       "      <td>American Vandal</td>\n",
       "      <td>Season 1</td>\n",
       "      <td>Nailed</td>\n",
       "    </tr>\n",
       "  </tbody>\n",
       "</table>\n",
       "</div>"
      ],
      "text/plain": [
       "                                               Title       Date  TV_Show_flag  \\\n",
       "0                     Dating Around: Season 1: Gurki 2019-03-03             1   \n",
       "1                      Dating Around: Season 1: Luke 2019-03-03             1   \n",
       "2  The Umbrella Academy: Season 1: We Only See Ea... 2019-02-19             1   \n",
       "3                       Trevor Noah: Son of Patricia 2018-11-23             0   \n",
       "4                  American Vandal: Season 1: Nailed 2018-11-19             1   \n",
       "\n",
       "              Show Name            Season  \\\n",
       "0         Dating Around          Season 1   \n",
       "1         Dating Around          Season 1   \n",
       "2  The Umbrella Academy          Season 1   \n",
       "3           Trevor Noah   Son of Patricia   \n",
       "4       American Vandal          Season 1   \n",
       "\n",
       "                                       Episode Name  \n",
       "0                                             Gurki  \n",
       "1                                              Luke  \n",
       "2   We Only See Each Other at Weddings and Funerals  \n",
       "3                                              None  \n",
       "4                                            Nailed  "
      ]
     },
     "execution_count": 67,
     "metadata": {},
     "output_type": "execute_result"
    }
   ],
   "source": [
    "data2.head()"
   ]
  },
  {
   "cell_type": "code",
   "execution_count": null,
   "metadata": {},
   "outputs": [],
   "source": []
  },
  {
   "cell_type": "code",
   "execution_count": null,
   "metadata": {},
   "outputs": [],
   "source": []
  },
  {
   "cell_type": "code",
   "execution_count": 71,
   "metadata": {},
   "outputs": [],
   "source": [
    "data1 = data2.set_index('Date')"
   ]
  },
  {
   "cell_type": "code",
   "execution_count": 72,
   "metadata": {},
   "outputs": [],
   "source": [
    "date_gb = data1.groupby(pd.Grouper(freq='W'))"
   ]
  },
  {
   "cell_type": "code",
   "execution_count": 73,
   "metadata": {},
   "outputs": [
    {
     "data": {
      "text/html": [
       "<div>\n",
       "<style scoped>\n",
       "    .dataframe tbody tr th:only-of-type {\n",
       "        vertical-align: middle;\n",
       "    }\n",
       "\n",
       "    .dataframe tbody tr th {\n",
       "        vertical-align: top;\n",
       "    }\n",
       "\n",
       "    .dataframe thead th {\n",
       "        text-align: right;\n",
       "    }\n",
       "</style>\n",
       "<table border=\"1\" class=\"dataframe\">\n",
       "  <thead>\n",
       "    <tr style=\"text-align: right;\">\n",
       "      <th></th>\n",
       "      <th>Title</th>\n",
       "      <th>TV_Show_flag</th>\n",
       "      <th>Show Name</th>\n",
       "      <th>Season</th>\n",
       "      <th>Episode Name</th>\n",
       "    </tr>\n",
       "    <tr>\n",
       "      <th>Date</th>\n",
       "      <th></th>\n",
       "      <th></th>\n",
       "      <th></th>\n",
       "      <th></th>\n",
       "      <th></th>\n",
       "    </tr>\n",
       "  </thead>\n",
       "  <tbody>\n",
       "    <tr>\n",
       "      <th>2013-09-15</th>\n",
       "      <td>2</td>\n",
       "      <td>2</td>\n",
       "      <td>2</td>\n",
       "      <td>2</td>\n",
       "      <td>2</td>\n",
       "    </tr>\n",
       "    <tr>\n",
       "      <th>2013-09-22</th>\n",
       "      <td>3</td>\n",
       "      <td>3</td>\n",
       "      <td>3</td>\n",
       "      <td>3</td>\n",
       "      <td>3</td>\n",
       "    </tr>\n",
       "    <tr>\n",
       "      <th>2013-09-29</th>\n",
       "      <td>0</td>\n",
       "      <td>0</td>\n",
       "      <td>0</td>\n",
       "      <td>0</td>\n",
       "      <td>0</td>\n",
       "    </tr>\n",
       "    <tr>\n",
       "      <th>2013-10-06</th>\n",
       "      <td>10</td>\n",
       "      <td>10</td>\n",
       "      <td>10</td>\n",
       "      <td>10</td>\n",
       "      <td>10</td>\n",
       "    </tr>\n",
       "    <tr>\n",
       "      <th>2013-10-13</th>\n",
       "      <td>7</td>\n",
       "      <td>7</td>\n",
       "      <td>7</td>\n",
       "      <td>7</td>\n",
       "      <td>7</td>\n",
       "    </tr>\n",
       "  </tbody>\n",
       "</table>\n",
       "</div>"
      ],
      "text/plain": [
       "            Title  TV_Show_flag  Show Name  Season  Episode Name\n",
       "Date                                                            \n",
       "2013-09-15      2             2          2       2             2\n",
       "2013-09-22      3             3          3       3             3\n",
       "2013-09-29      0             0          0       0             0\n",
       "2013-10-06     10            10         10      10            10\n",
       "2013-10-13      7             7          7       7             7"
      ]
     },
     "execution_count": 73,
     "metadata": {},
     "output_type": "execute_result"
    }
   ],
   "source": [
    "date_gb.count().head()"
   ]
  },
  {
   "cell_type": "code",
   "execution_count": 75,
   "metadata": {},
   "outputs": [
    {
     "data": {
      "text/plain": [
       "Date\n",
       "2013-09-15     2\n",
       "2013-09-22     3\n",
       "2013-09-29     0\n",
       "2013-10-06    10\n",
       "2013-10-13     7\n",
       "Freq: W-SUN, Name: TV_Show_flag, dtype: int64"
      ]
     },
     "execution_count": 75,
     "metadata": {},
     "output_type": "execute_result"
    }
   ],
   "source": [
    "date_gb['TV_Show_flag'].sum().head()"
   ]
  },
  {
   "cell_type": "code",
   "execution_count": 96,
   "metadata": {},
   "outputs": [],
   "source": [
    "watched_cnt = date_gb['Title'].count()\n",
    "movie_sum = watched_cnt - date_gb['TV_Show_flag'].sum()"
   ]
  },
  {
   "cell_type": "code",
   "execution_count": 97,
   "metadata": {},
   "outputs": [
    {
     "data": {
      "image/png": "[encoded data removed]",
      "text/plain": [
       "<Figure size 432x288 with 1 Axes>"
      ]
     },
     "metadata": {},
     "output_type": "display_data"
    }
   ],
   "source": [
    "plt.plot(watched_cnt.index, watched_cnt.values, label='Total Watched')\n",
    "plt.plot(movie_sum.index, movie_sum.values, label='Movie Watched')\n",
    "plt.xlabel('Week of Year')\n",
    "plt.ylabel('Unique titles watched')\n",
    "plt.legend()\n",
    "plt.show()"
   ]
  },
  {
   "cell_type": "code",
   "execution_count": 81,
   "metadata": {},
   "outputs": [],
   "source": []
  },
  {
   "cell_type": "code",
   "execution_count": null,
   "metadata": {},
   "outputs": [],
   "source": []
  },
  {
   "cell_type": "code",
   "execution_count": null,
   "metadata": {},
   "outputs": [],
   "source": []
  },
  {
   "cell_type": "code",
   "execution_count": null,
   "metadata": {},
   "outputs": [],
   "source": []
  },
  {
   "cell_type": "code",
   "execution_count": null,
   "metadata": {},
   "outputs": [],
   "source": []
  },
  {
   "cell_type": "code",
   "execution_count": null,
   "metadata": {},
   "outputs": [],
   "source": []
  }
 ],
 "metadata": {
  "kernelspec": {
   "display_name": "Python 3",
   "language": "python",
   "name": "python3"
  },
  "language_info": {
   "codemirror_mode": {
    "name": "ipython",
    "version": 3
   },
   "file_extension": ".py",
   "mimetype": "text/x-python",
   "name": "python",
   "nbconvert_exporter": "python",
   "pygments_lexer": "ipython3",
   "version": "3.6.4"
  }
 },
 "nbformat": 4,
 "nbformat_minor": 2
}
