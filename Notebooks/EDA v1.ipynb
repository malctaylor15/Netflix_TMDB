{
 "cells": [
  {
   "cell_type": "markdown",
   "metadata": {},
   "source": [
    "## About Me\n",
    "\n",
    "This notebook has general analysis and the beginnings of using the tmdb database. "
   ]
  },
  {
   "cell_type": "raw",
   "metadata": {},
   "source": [
    "import pickle \n",
    "with open('../Data/api_key.pkl', 'wb') as hnd:\n",
    "    pickle.dump({'api_key':\"key\"}, hnd)"
   ]
  },
  {
   "cell_type": "code",
   "execution_count": null,
   "metadata": {},
   "outputs": [],
   "source": []
  },
  {
   "cell_type": "code",
   "execution_count": 2,
   "metadata": {},
   "outputs": [],
   "source": [
    "import pandas as pd\n",
    "import numpy as np \n",
    "import matplotlib.pyplot as plt\n",
    "import tmdbsimple as tmdb\n",
    "import os\n",
    "import pickle\n",
    "import time"
   ]
  },
  {
   "cell_type": "code",
   "execution_count": 3,
   "metadata": {},
   "outputs": [],
   "source": [
    "with open('../Data/api_key.pkl', 'rb') as hnd:\n",
    "    tmdb.API_KEY = pickle.load(hnd)['api_key']"
   ]
  },
  {
   "cell_type": "code",
   "execution_count": 4,
   "metadata": {},
   "outputs": [
    {
     "name": "stdout",
     "output_type": "stream",
     "text": [
      "The Bourne Ultimatum 2503 2007-08-03 16.157\n",
      "The Bourne Identity 2501 2002-06-14 15.613\n",
      "The Bourne Legacy 49040 2012-08-08 15.147\n",
      "The Bourne Supremacy 2502 2004-07-23 13.793\n",
      "Bette Bourne: It Goes with the Shoes 179304 2013-03-21 0.847\n",
      "Jason Bourne 324668 2016-07-27 14.053\n",
      "Untitled Jeremy Renner/Bourne Sequel 393640  1.176\n"
     ]
    }
   ],
   "source": [
    "search = tmdb.Search()\n",
    "response = search.movie(query='The Bourne')\n",
    "for s in search.results:\n",
    "    print(s['title'], s['id'], s['release_date'], s['popularity'])"
   ]
  },
  {
   "cell_type": "code",
   "execution_count": 5,
   "metadata": {},
   "outputs": [],
   "source": [
    "data = pd.read_csv('../Data/NetflixViewingHistory.csv')"
   ]
  },
  {
   "cell_type": "code",
   "execution_count": 6,
   "metadata": {},
   "outputs": [
    {
     "data": {
      "text/plain": [
       "(1405, 2)"
      ]
     },
     "execution_count": 6,
     "metadata": {},
     "output_type": "execute_result"
    }
   ],
   "source": [
    "data.shape"
   ]
  },
  {
   "cell_type": "code",
   "execution_count": null,
   "metadata": {},
   "outputs": [],
   "source": []
  },
  {
   "cell_type": "code",
   "execution_count": 7,
   "metadata": {},
   "outputs": [
    {
     "data": {
      "text/html": [
       "<div>\n",
       "<style scoped>\n",
       "    .dataframe tbody tr th:only-of-type {\n",
       "        vertical-align: middle;\n",
       "    }\n",
       "\n",
       "    .dataframe tbody tr th {\n",
       "        vertical-align: top;\n",
       "    }\n",
       "\n",
       "    .dataframe thead th {\n",
       "        text-align: right;\n",
       "    }\n",
       "</style>\n",
       "<table border=\"1\" class=\"dataframe\">\n",
       "  <thead>\n",
       "    <tr style=\"text-align: right;\">\n",
       "      <th></th>\n",
       "      <th>Title</th>\n",
       "      <th>Date</th>\n",
       "    </tr>\n",
       "  </thead>\n",
       "  <tbody>\n",
       "    <tr>\n",
       "      <th>0</th>\n",
       "      <td>Dating Around: Season 1: Gurki</td>\n",
       "      <td>3/3/19</td>\n",
       "    </tr>\n",
       "    <tr>\n",
       "      <th>1</th>\n",
       "      <td>Dating Around: Season 1: Luke</td>\n",
       "      <td>3/3/19</td>\n",
       "    </tr>\n",
       "    <tr>\n",
       "      <th>2</th>\n",
       "      <td>The Umbrella Academy: Season 1: We Only See Ea...</td>\n",
       "      <td>2/19/19</td>\n",
       "    </tr>\n",
       "    <tr>\n",
       "      <th>3</th>\n",
       "      <td>Trevor Noah: Son of Patricia</td>\n",
       "      <td>11/23/18</td>\n",
       "    </tr>\n",
       "    <tr>\n",
       "      <th>4</th>\n",
       "      <td>American Vandal: Season 1: Nailed</td>\n",
       "      <td>11/19/18</td>\n",
       "    </tr>\n",
       "  </tbody>\n",
       "</table>\n",
       "</div>"
      ],
      "text/plain": [
       "                                               Title      Date\n",
       "0                     Dating Around: Season 1: Gurki    3/3/19\n",
       "1                      Dating Around: Season 1: Luke    3/3/19\n",
       "2  The Umbrella Academy: Season 1: We Only See Ea...   2/19/19\n",
       "3                       Trevor Noah: Son of Patricia  11/23/18\n",
       "4                  American Vandal: Season 1: Nailed  11/19/18"
      ]
     },
     "execution_count": 7,
     "metadata": {},
     "output_type": "execute_result"
    }
   ],
   "source": [
    "data.head()"
   ]
  },
  {
   "cell_type": "code",
   "execution_count": 8,
   "metadata": {},
   "outputs": [],
   "source": [
    "data['TV_Show_flag'] = data.Title.apply(lambda x: 1 if ': Season' in x else 0 )"
   ]
  },
  {
   "cell_type": "code",
   "execution_count": 9,
   "metadata": {},
   "outputs": [
    {
     "data": {
      "text/plain": [
       "1    1291\n",
       "0     114\n",
       "Name: TV_Show_flag, dtype: int64"
      ]
     },
     "execution_count": 9,
     "metadata": {},
     "output_type": "execute_result"
    }
   ],
   "source": [
    "data['TV_Show_flag'].value_counts()"
   ]
  },
  {
   "cell_type": "code",
   "execution_count": 10,
   "metadata": {},
   "outputs": [],
   "source": [
    "data['Date'] = pd.to_datetime(data['Date'])"
   ]
  },
  {
   "cell_type": "code",
   "execution_count": 11,
   "metadata": {},
   "outputs": [],
   "source": [
    "title_splits = data['Title'].str.split(':',2, expand=True)\n",
    "title_splits.rename({0:'Show Name', 1:'Season', 2:'Episode Name'}, axis = 1, inplace=True)"
   ]
  },
  {
   "cell_type": "code",
   "execution_count": 12,
   "metadata": {},
   "outputs": [],
   "source": [
    "data2 = pd.concat([data, title_splits], axis = 1)"
   ]
  },
  {
   "cell_type": "code",
   "execution_count": 13,
   "metadata": {},
   "outputs": [
    {
     "data": {
      "text/html": [
       "<div>\n",
       "<style scoped>\n",
       "    .dataframe tbody tr th:only-of-type {\n",
       "        vertical-align: middle;\n",
       "    }\n",
       "\n",
       "    .dataframe tbody tr th {\n",
       "        vertical-align: top;\n",
       "    }\n",
       "\n",
       "    .dataframe thead th {\n",
       "        text-align: right;\n",
       "    }\n",
       "</style>\n",
       "<table border=\"1\" class=\"dataframe\">\n",
       "  <thead>\n",
       "    <tr style=\"text-align: right;\">\n",
       "      <th></th>\n",
       "      <th>Title</th>\n",
       "      <th>Date</th>\n",
       "      <th>TV_Show_flag</th>\n",
       "      <th>Show Name</th>\n",
       "      <th>Season</th>\n",
       "      <th>Episode Name</th>\n",
       "    </tr>\n",
       "  </thead>\n",
       "  <tbody>\n",
       "    <tr>\n",
       "      <th>0</th>\n",
       "      <td>Dating Around: Season 1: Gurki</td>\n",
       "      <td>2019-03-03</td>\n",
       "      <td>1</td>\n",
       "      <td>Dating Around</td>\n",
       "      <td>Season 1</td>\n",
       "      <td>Gurki</td>\n",
       "    </tr>\n",
       "    <tr>\n",
       "      <th>1</th>\n",
       "      <td>Dating Around: Season 1: Luke</td>\n",
       "      <td>2019-03-03</td>\n",
       "      <td>1</td>\n",
       "      <td>Dating Around</td>\n",
       "      <td>Season 1</td>\n",
       "      <td>Luke</td>\n",
       "    </tr>\n",
       "    <tr>\n",
       "      <th>2</th>\n",
       "      <td>The Umbrella Academy: Season 1: We Only See Ea...</td>\n",
       "      <td>2019-02-19</td>\n",
       "      <td>1</td>\n",
       "      <td>The Umbrella Academy</td>\n",
       "      <td>Season 1</td>\n",
       "      <td>We Only See Each Other at Weddings and Funerals</td>\n",
       "    </tr>\n",
       "    <tr>\n",
       "      <th>3</th>\n",
       "      <td>Trevor Noah: Son of Patricia</td>\n",
       "      <td>2018-11-23</td>\n",
       "      <td>0</td>\n",
       "      <td>Trevor Noah</td>\n",
       "      <td>Son of Patricia</td>\n",
       "      <td>None</td>\n",
       "    </tr>\n",
       "    <tr>\n",
       "      <th>4</th>\n",
       "      <td>American Vandal: Season 1: Nailed</td>\n",
       "      <td>2018-11-19</td>\n",
       "      <td>1</td>\n",
       "      <td>American Vandal</td>\n",
       "      <td>Season 1</td>\n",
       "      <td>Nailed</td>\n",
       "    </tr>\n",
       "  </tbody>\n",
       "</table>\n",
       "</div>"
      ],
      "text/plain": [
       "                                               Title       Date  TV_Show_flag  \\\n",
       "0                     Dating Around: Season 1: Gurki 2019-03-03             1   \n",
       "1                      Dating Around: Season 1: Luke 2019-03-03             1   \n",
       "2  The Umbrella Academy: Season 1: We Only See Ea... 2019-02-19             1   \n",
       "3                       Trevor Noah: Son of Patricia 2018-11-23             0   \n",
       "4                  American Vandal: Season 1: Nailed 2018-11-19             1   \n",
       "\n",
       "              Show Name            Season  \\\n",
       "0         Dating Around          Season 1   \n",
       "1         Dating Around          Season 1   \n",
       "2  The Umbrella Academy          Season 1   \n",
       "3           Trevor Noah   Son of Patricia   \n",
       "4       American Vandal          Season 1   \n",
       "\n",
       "                                       Episode Name  \n",
       "0                                             Gurki  \n",
       "1                                              Luke  \n",
       "2   We Only See Each Other at Weddings and Funerals  \n",
       "3                                              None  \n",
       "4                                            Nailed  "
      ]
     },
     "execution_count": 13,
     "metadata": {},
     "output_type": "execute_result"
    }
   ],
   "source": [
    "data2.head()"
   ]
  },
  {
   "cell_type": "code",
   "execution_count": 86,
   "metadata": {},
   "outputs": [
    {
     "data": {
      "text/plain": [
       "(1405, 6)"
      ]
     },
     "execution_count": 86,
     "metadata": {},
     "output_type": "execute_result"
    }
   ],
   "source": [
    "data2.shape"
   ]
  },
  {
   "cell_type": "markdown",
   "metadata": {},
   "source": [
    "## Some Light Analysis "
   ]
  },
  {
   "cell_type": "code",
   "execution_count": 14,
   "metadata": {},
   "outputs": [],
   "source": [
    "data1 = data2.set_index('Date')"
   ]
  },
  {
   "cell_type": "code",
   "execution_count": 15,
   "metadata": {},
   "outputs": [],
   "source": [
    "date_gb = data1.groupby(pd.Grouper(freq='W'))"
   ]
  },
  {
   "cell_type": "code",
   "execution_count": 16,
   "metadata": {},
   "outputs": [
    {
     "data": {
      "text/html": [
       "<div>\n",
       "<style scoped>\n",
       "    .dataframe tbody tr th:only-of-type {\n",
       "        vertical-align: middle;\n",
       "    }\n",
       "\n",
       "    .dataframe tbody tr th {\n",
       "        vertical-align: top;\n",
       "    }\n",
       "\n",
       "    .dataframe thead th {\n",
       "        text-align: right;\n",
       "    }\n",
       "</style>\n",
       "<table border=\"1\" class=\"dataframe\">\n",
       "  <thead>\n",
       "    <tr style=\"text-align: right;\">\n",
       "      <th></th>\n",
       "      <th>Title</th>\n",
       "      <th>TV_Show_flag</th>\n",
       "      <th>Show Name</th>\n",
       "      <th>Season</th>\n",
       "      <th>Episode Name</th>\n",
       "    </tr>\n",
       "    <tr>\n",
       "      <th>Date</th>\n",
       "      <th></th>\n",
       "      <th></th>\n",
       "      <th></th>\n",
       "      <th></th>\n",
       "      <th></th>\n",
       "    </tr>\n",
       "  </thead>\n",
       "  <tbody>\n",
       "    <tr>\n",
       "      <th>2013-09-15</th>\n",
       "      <td>2</td>\n",
       "      <td>2</td>\n",
       "      <td>2</td>\n",
       "      <td>2</td>\n",
       "      <td>2</td>\n",
       "    </tr>\n",
       "    <tr>\n",
       "      <th>2013-09-22</th>\n",
       "      <td>3</td>\n",
       "      <td>3</td>\n",
       "      <td>3</td>\n",
       "      <td>3</td>\n",
       "      <td>3</td>\n",
       "    </tr>\n",
       "    <tr>\n",
       "      <th>2013-09-29</th>\n",
       "      <td>0</td>\n",
       "      <td>0</td>\n",
       "      <td>0</td>\n",
       "      <td>0</td>\n",
       "      <td>0</td>\n",
       "    </tr>\n",
       "    <tr>\n",
       "      <th>2013-10-06</th>\n",
       "      <td>10</td>\n",
       "      <td>10</td>\n",
       "      <td>10</td>\n",
       "      <td>10</td>\n",
       "      <td>10</td>\n",
       "    </tr>\n",
       "    <tr>\n",
       "      <th>2013-10-13</th>\n",
       "      <td>7</td>\n",
       "      <td>7</td>\n",
       "      <td>7</td>\n",
       "      <td>7</td>\n",
       "      <td>7</td>\n",
       "    </tr>\n",
       "  </tbody>\n",
       "</table>\n",
       "</div>"
      ],
      "text/plain": [
       "            Title  TV_Show_flag  Show Name  Season  Episode Name\n",
       "Date                                                            \n",
       "2013-09-15      2             2          2       2             2\n",
       "2013-09-22      3             3          3       3             3\n",
       "2013-09-29      0             0          0       0             0\n",
       "2013-10-06     10            10         10      10            10\n",
       "2013-10-13      7             7          7       7             7"
      ]
     },
     "execution_count": 16,
     "metadata": {},
     "output_type": "execute_result"
    }
   ],
   "source": [
    "date_gb.count().head()"
   ]
  },
  {
   "cell_type": "code",
   "execution_count": 17,
   "metadata": {},
   "outputs": [
    {
     "data": {
      "text/plain": [
       "Date\n",
       "2013-09-15     2\n",
       "2013-09-22     3\n",
       "2013-09-29     0\n",
       "2013-10-06    10\n",
       "2013-10-13     7\n",
       "Freq: W-SUN, Name: TV_Show_flag, dtype: int64"
      ]
     },
     "execution_count": 17,
     "metadata": {},
     "output_type": "execute_result"
    }
   ],
   "source": [
    "date_gb['TV_Show_flag'].sum().head()"
   ]
  },
  {
   "cell_type": "code",
   "execution_count": 18,
   "metadata": {},
   "outputs": [],
   "source": [
    "watched_cnt = date_gb['Title'].count()\n",
    "movie_sum = watched_cnt - date_gb['TV_Show_flag'].sum()"
   ]
  },
  {
   "cell_type": "code",
   "execution_count": 19,
   "metadata": {},
   "outputs": [
    {
     "data": {
      "image/png": "[encoded data removed]",
      "text/plain": [
       "<Figure size 432x288 with 1 Axes>"
      ]
     },
     "metadata": {
      "needs_background": "light"
     },
     "output_type": "display_data"
    }
   ],
   "source": [
    "plt.plot(watched_cnt.index, watched_cnt.values, label='Total Watched')\n",
    "plt.plot(movie_sum.index, movie_sum.values, label='Movie Watched')\n",
    "plt.xlabel('Week of Year')\n",
    "plt.ylabel('Unique titles watched')\n",
    "plt.legend()\n",
    "plt.show()"
   ]
  },
  {
   "cell_type": "markdown",
   "metadata": {},
   "source": [
    "## Show name GB "
   ]
  },
  {
   "cell_type": "code",
   "execution_count": 20,
   "metadata": {},
   "outputs": [],
   "source": [
    "show_name_gb = data2.groupby('Show Name')"
   ]
  },
  {
   "cell_type": "code",
   "execution_count": 21,
   "metadata": {},
   "outputs": [
    {
     "data": {
      "text/plain": [
       "Show Name\n",
       "Friends                 171\n",
       "30 Rock                 134\n",
       "The Office (U.S.)       115\n",
       "Parks and Recreation     90\n",
       "White Collar             81\n",
       "Name: Title, dtype: int64"
      ]
     },
     "execution_count": 21,
     "metadata": {},
     "output_type": "execute_result"
    }
   ],
   "source": [
    "show_name_gb['Title'].count().sort_values(ascending=False).head()"
   ]
  },
  {
   "cell_type": "code",
   "execution_count": 22,
   "metadata": {},
   "outputs": [],
   "source": [
    "show_gb_cnt = show_name_gb.size()\n",
    "show_gb_first = show_name_gb['Date'].agg(['min'])['min']\n",
    "show_gb_last = show_name_gb['Date'].agg(['max'])['max']\n",
    "\n",
    "show_gb_any_tv_flag = show_name_gb['TV_Show_flag'].any()\n",
    "show_gb_all_tv_flag = show_name_gb['TV_Show_flag'].all()\n",
    "\n",
    "show_gb_dict = {\"Count\":show_gb_cnt, \"Date of First Watched Show\":show_gb_first,\\\n",
    "                \"Date of Last Watched Show\":show_gb_last, \\\n",
    "                \"Any TV Flag\":show_gb_any_tv_flag, \"All TV Flag\":show_gb_all_tv_flag}"
   ]
  },
  {
   "cell_type": "code",
   "execution_count": 23,
   "metadata": {},
   "outputs": [
    {
     "data": {
      "text/plain": [
       "Show Name\n",
       "13TH                    2016-11-28\n",
       "30 Rock                 2016-11-05\n",
       "Altered Carbon          2018-03-18\n",
       "American Dad!           2016-12-05\n",
       "American Horror Story   2015-09-11\n",
       "Name: min, dtype: datetime64[ns]"
      ]
     },
     "execution_count": 23,
     "metadata": {},
     "output_type": "execute_result"
    }
   ],
   "source": [
    "show_gb_first.head()"
   ]
  },
  {
   "cell_type": "code",
   "execution_count": 24,
   "metadata": {},
   "outputs": [
    {
     "data": {
      "text/plain": [
       "Show Name\n",
       "13TH                     False\n",
       "30 Rock                   True\n",
       "Altered Carbon            True\n",
       "American Dad!             True\n",
       "American Horror Story    False\n",
       "Name: TV_Show_flag, dtype: bool"
      ]
     },
     "execution_count": 24,
     "metadata": {},
     "output_type": "execute_result"
    }
   ],
   "source": [
    "show_gb_any_tv_flag.head()"
   ]
  },
  {
   "cell_type": "code",
   "execution_count": 25,
   "metadata": {},
   "outputs": [
    {
     "data": {
      "text/plain": [
       "2"
      ]
     },
     "execution_count": 25,
     "metadata": {},
     "output_type": "execute_result"
    }
   ],
   "source": [
    "sum(show_name_gb['TV_Show_flag'].all() != show_name_gb['TV_Show_flag'].any())"
   ]
  },
  {
   "cell_type": "code",
   "execution_count": 26,
   "metadata": {
    "scrolled": true
   },
   "outputs": [
    {
     "data": {
      "text/plain": [
       "Show Name\n",
       "Chelsea       14\n",
       "Marco Polo    11\n",
       "dtype: int64"
      ]
     },
     "execution_count": 26,
     "metadata": {},
     "output_type": "execute_result"
    }
   ],
   "source": [
    "show_name_gb.size()[show_name_gb['TV_Show_flag'].all() != show_name_gb['TV_Show_flag'].any()]"
   ]
  },
  {
   "cell_type": "code",
   "execution_count": null,
   "metadata": {},
   "outputs": [],
   "source": []
  },
  {
   "cell_type": "code",
   "execution_count": 27,
   "metadata": {},
   "outputs": [
    {
     "data": {
      "text/html": [
       "<div>\n",
       "<style scoped>\n",
       "    .dataframe tbody tr th:only-of-type {\n",
       "        vertical-align: middle;\n",
       "    }\n",
       "\n",
       "    .dataframe tbody tr th {\n",
       "        vertical-align: top;\n",
       "    }\n",
       "\n",
       "    .dataframe thead th {\n",
       "        text-align: right;\n",
       "    }\n",
       "</style>\n",
       "<table border=\"1\" class=\"dataframe\">\n",
       "  <thead>\n",
       "    <tr style=\"text-align: right;\">\n",
       "      <th></th>\n",
       "      <th>All TV Flag</th>\n",
       "      <th>Any TV Flag</th>\n",
       "      <th>Count</th>\n",
       "      <th>Date of First Watched Show</th>\n",
       "      <th>Date of Last Watched Show</th>\n",
       "    </tr>\n",
       "    <tr>\n",
       "      <th>Show Name</th>\n",
       "      <th></th>\n",
       "      <th></th>\n",
       "      <th></th>\n",
       "      <th></th>\n",
       "      <th></th>\n",
       "    </tr>\n",
       "  </thead>\n",
       "  <tbody>\n",
       "    <tr>\n",
       "      <th>13TH</th>\n",
       "      <td>False</td>\n",
       "      <td>False</td>\n",
       "      <td>1</td>\n",
       "      <td>2016-11-28</td>\n",
       "      <td>2016-11-28</td>\n",
       "    </tr>\n",
       "    <tr>\n",
       "      <th>30 Rock</th>\n",
       "      <td>True</td>\n",
       "      <td>True</td>\n",
       "      <td>134</td>\n",
       "      <td>2016-11-05</td>\n",
       "      <td>2017-09-23</td>\n",
       "    </tr>\n",
       "    <tr>\n",
       "      <th>Altered Carbon</th>\n",
       "      <td>True</td>\n",
       "      <td>True</td>\n",
       "      <td>10</td>\n",
       "      <td>2018-03-18</td>\n",
       "      <td>2018-03-24</td>\n",
       "    </tr>\n",
       "    <tr>\n",
       "      <th>American Dad!</th>\n",
       "      <td>True</td>\n",
       "      <td>True</td>\n",
       "      <td>1</td>\n",
       "      <td>2016-12-05</td>\n",
       "      <td>2016-12-05</td>\n",
       "    </tr>\n",
       "    <tr>\n",
       "      <th>American Horror Story</th>\n",
       "      <td>False</td>\n",
       "      <td>False</td>\n",
       "      <td>3</td>\n",
       "      <td>2015-09-11</td>\n",
       "      <td>2015-09-11</td>\n",
       "    </tr>\n",
       "  </tbody>\n",
       "</table>\n",
       "</div>"
      ],
      "text/plain": [
       "                       All TV Flag  Any TV Flag  Count  \\\n",
       "Show Name                                                \n",
       "13TH                         False        False      1   \n",
       "30 Rock                       True         True    134   \n",
       "Altered Carbon                True         True     10   \n",
       "American Dad!                 True         True      1   \n",
       "American Horror Story        False        False      3   \n",
       "\n",
       "                      Date of First Watched Show Date of Last Watched Show  \n",
       "Show Name                                                                   \n",
       "13TH                                  2016-11-28                2016-11-28  \n",
       "30 Rock                               2016-11-05                2017-09-23  \n",
       "Altered Carbon                        2018-03-18                2018-03-24  \n",
       "American Dad!                         2016-12-05                2016-12-05  \n",
       "American Horror Story                 2015-09-11                2015-09-11  "
      ]
     },
     "execution_count": 27,
     "metadata": {},
     "output_type": "execute_result"
    }
   ],
   "source": [
    "show_gb_metrics = pd.concat(show_gb_dict, axis=1)\n",
    "show_gb_metrics.head()"
   ]
  },
  {
   "cell_type": "code",
   "execution_count": 28,
   "metadata": {},
   "outputs": [
    {
     "data": {
      "text/plain": [
       "False    60\n",
       "True     59\n",
       "Name: All TV Flag, dtype: int64"
      ]
     },
     "execution_count": 28,
     "metadata": {},
     "output_type": "execute_result"
    }
   ],
   "source": [
    "# Movies to Unique TV Shows \n",
    "show_gb_metrics['All TV Flag'].value_counts()"
   ]
  },
  {
   "cell_type": "code",
   "execution_count": null,
   "metadata": {},
   "outputs": [],
   "source": []
  },
  {
   "cell_type": "code",
   "execution_count": null,
   "metadata": {},
   "outputs": [],
   "source": []
  },
  {
   "cell_type": "code",
   "execution_count": null,
   "metadata": {},
   "outputs": [],
   "source": []
  },
  {
   "cell_type": "code",
   "execution_count": null,
   "metadata": {},
   "outputs": [],
   "source": []
  },
  {
   "cell_type": "markdown",
   "metadata": {},
   "source": [
    "## Try Search for all "
   ]
  },
  {
   "cell_type": "code",
   "execution_count": 29,
   "metadata": {},
   "outputs": [
    {
     "data": {
      "text/plain": [
       "Title           Dating Around: Season 1: Gurki\n",
       "Date                       2019-03-03 00:00:00\n",
       "TV_Show_flag                                 1\n",
       "Show Name                        Dating Around\n",
       "Season                                Season 1\n",
       "Episode Name                             Gurki\n",
       "Name: 0, dtype: object"
      ]
     },
     "execution_count": 29,
     "metadata": {},
     "output_type": "execute_result"
    }
   ],
   "source": [
    "data2.iloc[0]"
   ]
  },
  {
   "cell_type": "code",
   "execution_count": 30,
   "metadata": {},
   "outputs": [],
   "source": [
    "search = tmdb.Search()\n",
    "response = search.movie(query='The Bourne')"
   ]
  },
  {
   "cell_type": "code",
   "execution_count": 31,
   "metadata": {},
   "outputs": [
    {
     "data": {
      "text/plain": [
       "dict"
      ]
     },
     "execution_count": 31,
     "metadata": {},
     "output_type": "execute_result"
    }
   ],
   "source": [
    "type(response)"
   ]
  },
  {
   "cell_type": "code",
   "execution_count": 32,
   "metadata": {},
   "outputs": [],
   "source": [
    "def search_results_iter(tv_row):\n",
    "#     print(tv_row)\n",
    "    tv_row = tv_row[1]\n",
    "    if tv_row['TV_Show_flag'] == 1:\n",
    "        res = search.tv(query=tv_row['Show Name'])\n",
    "    else:\n",
    "        res = search.movie(query=tv_row['Show Name'])\n",
    "        \n",
    "    # Per API Docs, can only submit 40 requests every 10s \n",
    "    # So 4 requests a second or 1 request every 0.25 s \n",
    "    time.sleep(0.3)\n",
    "    try:\n",
    "        res_pt2 = res['results'][0]\n",
    "    except:\n",
    "        res_pt2 = np.nan\n",
    "    return(res_pt2)"
   ]
  },
  {
   "cell_type": "code",
   "execution_count": 33,
   "metadata": {},
   "outputs": [],
   "source": [
    "def search_results(tv_row):\n",
    "    print(tv_row)\n",
    "    if tv_row['TV_Show_flag'] == 1:\n",
    "        res = search.tv(query=tv_row['Show Name'])\n",
    "    else:\n",
    "        res = search.movie(query=tv_row['Show Name'])\n",
    "    # Per API Docs, can only submit 40 requests every 10s \n",
    "    # So 4 requests a second or 1 request every 0.25 s \n",
    "    time.sleep(0.3)\n",
    "    res_pt2 = res['results'][0]\n",
    "#     out = pd.DataFrame.from_dict(res_pt2, 'index')\n",
    "#     return(pd.DataFrame.from_dict(res_pt2, 'index').T)\n",
    "    print(res_pt2)\n",
    "    return(res_pt2)"
   ]
  },
  {
   "cell_type": "code",
   "execution_count": 34,
   "metadata": {
    "scrolled": true
   },
   "outputs": [
    {
     "name": "stdout",
     "output_type": "stream",
     "text": [
      "Title           Dating Around: Season 1: Gurki\n",
      "Date                       2019-03-03 00:00:00\n",
      "TV_Show_flag                                 1\n",
      "Show Name                        Dating Around\n",
      "Season                                Season 1\n",
      "Episode Name                             Gurki\n",
      "Name: 0, dtype: object\n",
      "{'original_name': 'Dating Around', 'id': 86807, 'name': 'Dating Around', 'vote_count': 1, 'vote_average': 6, 'poster_path': '/8Bylu6ne7GRLzdfKEDwWJNfZugP.jpg', 'first_air_date': '2019-02-14', 'popularity': 1.198, 'genre_ids': [10764], 'original_language': 'en', 'backdrop_path': '/fcdqZ9wfQaRqhJraXVHPyZppxWy.jpg', 'overview': 'In each episode of flirtations and fails, one real-life single navigates five blind dates. The mission: Find one match worthy of a second date.', 'origin_country': []}\n",
      "Title           Dating Around: Season 1: Luke\n",
      "Date                      2019-03-03 00:00:00\n",
      "TV_Show_flag                                1\n",
      "Show Name                       Dating Around\n",
      "Season                               Season 1\n",
      "Episode Name                             Luke\n",
      "Name: 1, dtype: object\n",
      "{'original_name': 'Dating Around', 'id': 86807, 'name': 'Dating Around', 'vote_count': 1, 'vote_average': 6, 'poster_path': '/8Bylu6ne7GRLzdfKEDwWJNfZugP.jpg', 'first_air_date': '2019-02-14', 'popularity': 1.198, 'genre_ids': [10764], 'original_language': 'en', 'backdrop_path': '/fcdqZ9wfQaRqhJraXVHPyZppxWy.jpg', 'overview': 'In each episode of flirtations and fails, one real-life single navigates five blind dates. The mission: Find one match worthy of a second date.', 'origin_country': []}\n",
      "Title           The Umbrella Academy: Season 1: We Only See Ea...\n",
      "Date                                          2019-02-19 00:00:00\n",
      "TV_Show_flag                                                    1\n",
      "Show Name                                    The Umbrella Academy\n",
      "Season                                                   Season 1\n",
      "Episode Name      We Only See Each Other at Weddings and Funerals\n",
      "Name: 2, dtype: object\n",
      "{'original_name': 'The Umbrella Academy', 'id': 75006, 'name': 'The Umbrella Academy', 'vote_count': 103, 'vote_average': 7.74, 'poster_path': '/uYHdIs5O8tiU5p6MvUPd2jElOH6.jpg', 'first_air_date': '2019-02-15', 'popularity': 63.273, 'genre_ids': [10759, 10765], 'original_language': 'en', 'backdrop_path': '/mE3zzMkpP8yqlkzdjPsQmJHceoe.jpg', 'overview': \"A dysfunctional family of superheroes comes together to solve the mystery of their father's death, the threat of the apocalypse and more.\", 'origin_country': ['CA', 'US']}\n",
      "Title           Trevor Noah: Son of Patricia\n",
      "Date                     2018-11-23 00:00:00\n",
      "TV_Show_flag                               0\n",
      "Show Name                        Trevor Noah\n",
      "Season                       Son of Patricia\n",
      "Episode Name                            None\n",
      "Name: 3, dtype: object\n",
      "{'vote_count': 35, 'id': 558341, 'video': False, 'vote_average': 7.1, 'title': 'Trevor Noah: Son of Patricia', 'popularity': 3.145, 'poster_path': '/dmhDeV3RYq4jMwgIMmo0W05uH8L.jpg', 'original_language': 'en', 'original_title': 'Trevor Noah: Son of Patricia', 'genre_ids': [35, 10770], 'backdrop_path': '/hDd2RWYR0mwGeF5oms5Ulr9zrhh.jpg', 'adult': False, 'overview': 'Trevor Noah gets out from behind the \"Daily Show\" desk and takes the stage for a stand-up special that touches on racism, immigration, camping and more.', 'release_date': '2018-11-20'}\n"
     ]
    }
   ],
   "source": [
    "demo1 = data2.iloc[:4].apply(search_results,axis=1)"
   ]
  },
  {
   "cell_type": "code",
   "execution_count": 35,
   "metadata": {},
   "outputs": [
    {
     "data": {
      "text/plain": [
       "0    {'original_name': 'Dating Around', 'id': 86807...\n",
       "1    {'original_name': 'Dating Around', 'id': 86807...\n",
       "2    {'original_name': 'The Umbrella Academy', 'id'...\n",
       "3    {'vote_count': 35, 'id': 558341, 'video': Fals...\n",
       "dtype: object"
      ]
     },
     "execution_count": 35,
     "metadata": {},
     "output_type": "execute_result"
    }
   ],
   "source": [
    "# It runs but doesn't come out as expected \n",
    "demo1.head()"
   ]
  },
  {
   "cell_type": "code",
   "execution_count": 36,
   "metadata": {},
   "outputs": [],
   "source": [
    "time.sleep(0.3)"
   ]
  },
  {
   "cell_type": "markdown",
   "metadata": {},
   "source": [
    "## Get results"
   ]
  },
  {
   "cell_type": "code",
   "execution_count": 37,
   "metadata": {},
   "outputs": [
    {
     "name": "stdout",
     "output_type": "stream",
     "text": [
      "Loaded pickle type:  <class 'dict'>\n",
      "Pickle keys:  dict_keys(['all_search_results_list'])\n",
      "final object type:  <class 'list'>\n"
     ]
    }
   ],
   "source": [
    "# Load existing file\n",
    "with open('../Data/SearchResults_list.pkl', 'rb') as hnd:\n",
    "    all_search_results = pickle.load(hnd)\n",
    "print(\"Loaded pickle type: \", type(all_search_results))\n",
    "print(\"Pickle keys: \", all_search_results.keys())\n",
    "print(\"final object type: \",type(all_search_results['all_search_results_list']))\n",
    "results = all_search_results['all_search_results_list']"
   ]
  },
  {
   "cell_type": "raw",
   "metadata": {
    "scrolled": true
   },
   "source": [
    "results = [search_results_iter(tv_row) for tv_row in data2.iterrows()]\n",
    "with open('../Data/SearchResults_list.pkl', 'wb') as hnd:\n",
    "    pickle.dump({'all_search_results_list':results}, hnd)\n",
    "results[:2]"
   ]
  },
  {
   "cell_type": "code",
   "execution_count": null,
   "metadata": {},
   "outputs": [],
   "source": []
  },
  {
   "cell_type": "code",
   "execution_count": 38,
   "metadata": {},
   "outputs": [
    {
     "data": {
      "text/plain": [
       "[{'original_name': 'Dating Around',\n",
       "  'id': 86807,\n",
       "  'name': 'Dating Around',\n",
       "  'vote_count': 1,\n",
       "  'vote_average': 6,\n",
       "  'poster_path': '/8Bylu6ne7GRLzdfKEDwWJNfZugP.jpg',\n",
       "  'first_air_date': '2019-02-14',\n",
       "  'popularity': 1.047,\n",
       "  'genre_ids': [10764],\n",
       "  'original_language': 'en',\n",
       "  'backdrop_path': '/fcdqZ9wfQaRqhJraXVHPyZppxWy.jpg',\n",
       "  'overview': 'In each episode of flirtations and fails, one real-life single navigates five blind dates. The mission: Find one match worthy of a second date.',\n",
       "  'origin_country': []},\n",
       " {'original_name': 'Dating Around',\n",
       "  'id': 86807,\n",
       "  'name': 'Dating Around',\n",
       "  'vote_count': 1,\n",
       "  'vote_average': 6,\n",
       "  'poster_path': '/8Bylu6ne7GRLzdfKEDwWJNfZugP.jpg',\n",
       "  'first_air_date': '2019-02-14',\n",
       "  'popularity': 1.047,\n",
       "  'genre_ids': [10764],\n",
       "  'original_language': 'en',\n",
       "  'backdrop_path': '/fcdqZ9wfQaRqhJraXVHPyZppxWy.jpg',\n",
       "  'overview': 'In each episode of flirtations and fails, one real-life single navigates five blind dates. The mission: Find one match worthy of a second date.',\n",
       "  'origin_country': []}]"
      ]
     },
     "execution_count": 38,
     "metadata": {},
     "output_type": "execute_result"
    }
   ],
   "source": [
    "results[:2]"
   ]
  },
  {
   "cell_type": "code",
   "execution_count": null,
   "metadata": {},
   "outputs": [],
   "source": []
  },
  {
   "cell_type": "code",
   "execution_count": 39,
   "metadata": {},
   "outputs": [
    {
     "data": {
      "text/plain": [
       "dict_keys(['all_search_results_list'])"
      ]
     },
     "execution_count": 39,
     "metadata": {},
     "output_type": "execute_result"
    }
   ],
   "source": [
    "all_search_results.keys()"
   ]
  },
  {
   "cell_type": "code",
   "execution_count": 40,
   "metadata": {},
   "outputs": [],
   "source": [
    "def demo_search_results(tv_row):\n",
    "    if tv_row['TV_Show_flag'] == 1:\n",
    "#         res = search.tv(query=tv_row['Show Name'])\n",
    "        res = \"Show: \"+tv_row['Show Name']\n",
    "    else:\n",
    "#         res = search.movie(query=tv_row['Show Name'])\n",
    "        res = [\"Movie: \"+tv_row['Show Name'], 2]\n",
    "    time.sleep(0.3)\n",
    "    return({'name1':res})"
   ]
  },
  {
   "cell_type": "code",
   "execution_count": 41,
   "metadata": {},
   "outputs": [
    {
     "data": {
      "text/plain": [
       "0           {'name1': 'Show: Dating Around'}\n",
       "1           {'name1': 'Show: Dating Around'}\n",
       "2    {'name1': 'Show: The Umbrella Academy'}\n",
       "3       {'name1': ['Movie: Trevor Noah', 2]}\n",
       "dtype: object"
      ]
     },
     "execution_count": 41,
     "metadata": {},
     "output_type": "execute_result"
    }
   ],
   "source": [
    "data2.iloc[:4][['TV_Show_flag', 'Show Name']].apply(demo_search_results,axis =1)"
   ]
  },
  {
   "cell_type": "code",
   "execution_count": null,
   "metadata": {},
   "outputs": [],
   "source": []
  },
  {
   "cell_type": "markdown",
   "metadata": {},
   "source": [
    "## Continue parsing results"
   ]
  },
  {
   "cell_type": "code",
   "execution_count": 42,
   "metadata": {},
   "outputs": [],
   "source": [
    "df_results = [pd.Series(x) for x in results]"
   ]
  },
  {
   "cell_type": "code",
   "execution_count": 43,
   "metadata": {},
   "outputs": [],
   "source": [
    "df = pd.concat(df_results, axis =1).T"
   ]
  },
  {
   "cell_type": "code",
   "execution_count": 44,
   "metadata": {
    "scrolled": false
   },
   "outputs": [
    {
     "data": {
      "text/html": [
       "<div>\n",
       "<style scoped>\n",
       "    .dataframe tbody tr th:only-of-type {\n",
       "        vertical-align: middle;\n",
       "    }\n",
       "\n",
       "    .dataframe tbody tr th {\n",
       "        vertical-align: top;\n",
       "    }\n",
       "\n",
       "    .dataframe thead th {\n",
       "        text-align: right;\n",
       "    }\n",
       "</style>\n",
       "<table border=\"1\" class=\"dataframe\">\n",
       "  <thead>\n",
       "    <tr style=\"text-align: right;\">\n",
       "      <th></th>\n",
       "      <th>0</th>\n",
       "      <th>adult</th>\n",
       "      <th>backdrop_path</th>\n",
       "      <th>first_air_date</th>\n",
       "      <th>genre_ids</th>\n",
       "      <th>id</th>\n",
       "      <th>name</th>\n",
       "      <th>origin_country</th>\n",
       "      <th>original_language</th>\n",
       "      <th>original_name</th>\n",
       "      <th>original_title</th>\n",
       "      <th>overview</th>\n",
       "      <th>popularity</th>\n",
       "      <th>poster_path</th>\n",
       "      <th>release_date</th>\n",
       "      <th>title</th>\n",
       "      <th>video</th>\n",
       "      <th>vote_average</th>\n",
       "      <th>vote_count</th>\n",
       "    </tr>\n",
       "  </thead>\n",
       "  <tbody>\n",
       "    <tr>\n",
       "      <th>0</th>\n",
       "      <td>NaN</td>\n",
       "      <td>NaN</td>\n",
       "      <td>/fcdqZ9wfQaRqhJraXVHPyZppxWy.jpg</td>\n",
       "      <td>2019-02-14</td>\n",
       "      <td>[10764]</td>\n",
       "      <td>86807</td>\n",
       "      <td>Dating Around</td>\n",
       "      <td>[]</td>\n",
       "      <td>en</td>\n",
       "      <td>Dating Around</td>\n",
       "      <td>NaN</td>\n",
       "      <td>In each episode of flirtations and fails, one ...</td>\n",
       "      <td>1.047</td>\n",
       "      <td>/8Bylu6ne7GRLzdfKEDwWJNfZugP.jpg</td>\n",
       "      <td>NaN</td>\n",
       "      <td>NaN</td>\n",
       "      <td>NaN</td>\n",
       "      <td>6</td>\n",
       "      <td>1</td>\n",
       "    </tr>\n",
       "    <tr>\n",
       "      <th>1</th>\n",
       "      <td>NaN</td>\n",
       "      <td>NaN</td>\n",
       "      <td>/fcdqZ9wfQaRqhJraXVHPyZppxWy.jpg</td>\n",
       "      <td>2019-02-14</td>\n",
       "      <td>[10764]</td>\n",
       "      <td>86807</td>\n",
       "      <td>Dating Around</td>\n",
       "      <td>[]</td>\n",
       "      <td>en</td>\n",
       "      <td>Dating Around</td>\n",
       "      <td>NaN</td>\n",
       "      <td>In each episode of flirtations and fails, one ...</td>\n",
       "      <td>1.047</td>\n",
       "      <td>/8Bylu6ne7GRLzdfKEDwWJNfZugP.jpg</td>\n",
       "      <td>NaN</td>\n",
       "      <td>NaN</td>\n",
       "      <td>NaN</td>\n",
       "      <td>6</td>\n",
       "      <td>1</td>\n",
       "    </tr>\n",
       "    <tr>\n",
       "      <th>2</th>\n",
       "      <td>NaN</td>\n",
       "      <td>NaN</td>\n",
       "      <td>/mE3zzMkpP8yqlkzdjPsQmJHceoe.jpg</td>\n",
       "      <td>2019-02-15</td>\n",
       "      <td>[10759, 10765]</td>\n",
       "      <td>75006</td>\n",
       "      <td>The Umbrella Academy</td>\n",
       "      <td>[CA, US]</td>\n",
       "      <td>en</td>\n",
       "      <td>The Umbrella Academy</td>\n",
       "      <td>NaN</td>\n",
       "      <td>A dysfunctional family of superheroes comes to...</td>\n",
       "      <td>59.649</td>\n",
       "      <td>/uYHdIs5O8tiU5p6MvUPd2jElOH6.jpg</td>\n",
       "      <td>NaN</td>\n",
       "      <td>NaN</td>\n",
       "      <td>NaN</td>\n",
       "      <td>7.81</td>\n",
       "      <td>101</td>\n",
       "    </tr>\n",
       "    <tr>\n",
       "      <th>3</th>\n",
       "      <td>NaN</td>\n",
       "      <td>False</td>\n",
       "      <td>/hDd2RWYR0mwGeF5oms5Ulr9zrhh.jpg</td>\n",
       "      <td>NaN</td>\n",
       "      <td>[35, 10770]</td>\n",
       "      <td>558341</td>\n",
       "      <td>NaN</td>\n",
       "      <td>NaN</td>\n",
       "      <td>en</td>\n",
       "      <td>NaN</td>\n",
       "      <td>Trevor Noah: Son of Patricia</td>\n",
       "      <td>Trevor Noah gets out from behind the \"Daily Sh...</td>\n",
       "      <td>2.548</td>\n",
       "      <td>/dmhDeV3RYq4jMwgIMmo0W05uH8L.jpg</td>\n",
       "      <td>2018-11-20</td>\n",
       "      <td>Trevor Noah: Son of Patricia</td>\n",
       "      <td>False</td>\n",
       "      <td>7.1</td>\n",
       "      <td>34</td>\n",
       "    </tr>\n",
       "    <tr>\n",
       "      <th>4</th>\n",
       "      <td>NaN</td>\n",
       "      <td>NaN</td>\n",
       "      <td>/yWlcrp0pBvnxRpPrZUrAX0Sh2B9.jpg</td>\n",
       "      <td>2017-09-15</td>\n",
       "      <td>[35, 80]</td>\n",
       "      <td>73126</td>\n",
       "      <td>American Vandal</td>\n",
       "      <td>[US]</td>\n",
       "      <td>en</td>\n",
       "      <td>American Vandal</td>\n",
       "      <td>NaN</td>\n",
       "      <td>A true-crime satire that explores the aftermat...</td>\n",
       "      <td>8.757</td>\n",
       "      <td>/z1vnHi6L2VqB620vT33sdChuIhX.jpg</td>\n",
       "      <td>NaN</td>\n",
       "      <td>NaN</td>\n",
       "      <td>NaN</td>\n",
       "      <td>7.88</td>\n",
       "      <td>64</td>\n",
       "    </tr>\n",
       "  </tbody>\n",
       "</table>\n",
       "</div>"
      ],
      "text/plain": [
       "     0  adult                     backdrop_path first_air_date  \\\n",
       "0  NaN    NaN  /fcdqZ9wfQaRqhJraXVHPyZppxWy.jpg     2019-02-14   \n",
       "1  NaN    NaN  /fcdqZ9wfQaRqhJraXVHPyZppxWy.jpg     2019-02-14   \n",
       "2  NaN    NaN  /mE3zzMkpP8yqlkzdjPsQmJHceoe.jpg     2019-02-15   \n",
       "3  NaN  False  /hDd2RWYR0mwGeF5oms5Ulr9zrhh.jpg            NaN   \n",
       "4  NaN    NaN  /yWlcrp0pBvnxRpPrZUrAX0Sh2B9.jpg     2017-09-15   \n",
       "\n",
       "        genre_ids      id                  name origin_country  \\\n",
       "0         [10764]   86807         Dating Around             []   \n",
       "1         [10764]   86807         Dating Around             []   \n",
       "2  [10759, 10765]   75006  The Umbrella Academy       [CA, US]   \n",
       "3     [35, 10770]  558341                   NaN            NaN   \n",
       "4        [35, 80]   73126       American Vandal           [US]   \n",
       "\n",
       "  original_language         original_name                original_title  \\\n",
       "0                en         Dating Around                           NaN   \n",
       "1                en         Dating Around                           NaN   \n",
       "2                en  The Umbrella Academy                           NaN   \n",
       "3                en                   NaN  Trevor Noah: Son of Patricia   \n",
       "4                en       American Vandal                           NaN   \n",
       "\n",
       "                                            overview popularity  \\\n",
       "0  In each episode of flirtations and fails, one ...      1.047   \n",
       "1  In each episode of flirtations and fails, one ...      1.047   \n",
       "2  A dysfunctional family of superheroes comes to...     59.649   \n",
       "3  Trevor Noah gets out from behind the \"Daily Sh...      2.548   \n",
       "4  A true-crime satire that explores the aftermat...      8.757   \n",
       "\n",
       "                        poster_path release_date  \\\n",
       "0  /8Bylu6ne7GRLzdfKEDwWJNfZugP.jpg          NaN   \n",
       "1  /8Bylu6ne7GRLzdfKEDwWJNfZugP.jpg          NaN   \n",
       "2  /uYHdIs5O8tiU5p6MvUPd2jElOH6.jpg          NaN   \n",
       "3  /dmhDeV3RYq4jMwgIMmo0W05uH8L.jpg   2018-11-20   \n",
       "4  /z1vnHi6L2VqB620vT33sdChuIhX.jpg          NaN   \n",
       "\n",
       "                          title  video vote_average vote_count  \n",
       "0                           NaN    NaN            6          1  \n",
       "1                           NaN    NaN            6          1  \n",
       "2                           NaN    NaN         7.81        101  \n",
       "3  Trevor Noah: Son of Patricia  False          7.1         34  \n",
       "4                           NaN    NaN         7.88         64  "
      ]
     },
     "execution_count": 44,
     "metadata": {},
     "output_type": "execute_result"
    }
   ],
   "source": [
    "df.head()"
   ]
  },
  {
   "cell_type": "code",
   "execution_count": 45,
   "metadata": {},
   "outputs": [
    {
     "data": {
      "text/plain": [
       "(1405, 19)"
      ]
     },
     "execution_count": 45,
     "metadata": {},
     "output_type": "execute_result"
    }
   ],
   "source": [
    "df.shape"
   ]
  },
  {
   "cell_type": "code",
   "execution_count": 46,
   "metadata": {},
   "outputs": [
    {
     "data": {
      "text/plain": [
       "Index([                  0,             'adult',     'backdrop_path',\n",
       "          'first_air_date',         'genre_ids',                'id',\n",
       "                    'name',    'origin_country', 'original_language',\n",
       "           'original_name',    'original_title',          'overview',\n",
       "              'popularity',       'poster_path',      'release_date',\n",
       "                   'title',             'video',      'vote_average',\n",
       "              'vote_count'],\n",
       "      dtype='object')"
      ]
     },
     "execution_count": 46,
     "metadata": {},
     "output_type": "execute_result"
    }
   ],
   "source": [
    "df.columns"
   ]
  },
  {
   "cell_type": "code",
   "execution_count": 47,
   "metadata": {},
   "outputs": [
    {
     "data": {
      "text/html": [
       "<div>\n",
       "<style scoped>\n",
       "    .dataframe tbody tr th:only-of-type {\n",
       "        vertical-align: middle;\n",
       "    }\n",
       "\n",
       "    .dataframe tbody tr th {\n",
       "        vertical-align: top;\n",
       "    }\n",
       "\n",
       "    .dataframe thead th {\n",
       "        text-align: right;\n",
       "    }\n",
       "</style>\n",
       "<table border=\"1\" class=\"dataframe\">\n",
       "  <thead>\n",
       "    <tr style=\"text-align: right;\">\n",
       "      <th></th>\n",
       "      <th>0</th>\n",
       "      <th>adult</th>\n",
       "      <th>backdrop_path</th>\n",
       "      <th>first_air_date</th>\n",
       "      <th>genre_ids</th>\n",
       "      <th>id</th>\n",
       "      <th>name</th>\n",
       "      <th>origin_country</th>\n",
       "      <th>original_language</th>\n",
       "      <th>original_name</th>\n",
       "      <th>original_title</th>\n",
       "      <th>overview</th>\n",
       "      <th>popularity</th>\n",
       "      <th>poster_path</th>\n",
       "      <th>release_date</th>\n",
       "      <th>title</th>\n",
       "      <th>video</th>\n",
       "      <th>vote_average</th>\n",
       "      <th>vote_count</th>\n",
       "    </tr>\n",
       "  </thead>\n",
       "  <tbody>\n",
       "    <tr>\n",
       "      <th>0</th>\n",
       "      <td>NaN</td>\n",
       "      <td>NaN</td>\n",
       "      <td>/fcdqZ9wfQaRqhJraXVHPyZppxWy.jpg</td>\n",
       "      <td>2019-02-14</td>\n",
       "      <td>[10764]</td>\n",
       "      <td>86807</td>\n",
       "      <td>Dating Around</td>\n",
       "      <td>[]</td>\n",
       "      <td>en</td>\n",
       "      <td>Dating Around</td>\n",
       "      <td>NaN</td>\n",
       "      <td>In each episode of flirtations and fails, one ...</td>\n",
       "      <td>1.047</td>\n",
       "      <td>/8Bylu6ne7GRLzdfKEDwWJNfZugP.jpg</td>\n",
       "      <td>NaN</td>\n",
       "      <td>NaN</td>\n",
       "      <td>NaN</td>\n",
       "      <td>6</td>\n",
       "      <td>1</td>\n",
       "    </tr>\n",
       "    <tr>\n",
       "      <th>1</th>\n",
       "      <td>NaN</td>\n",
       "      <td>NaN</td>\n",
       "      <td>/fcdqZ9wfQaRqhJraXVHPyZppxWy.jpg</td>\n",
       "      <td>2019-02-14</td>\n",
       "      <td>[10764]</td>\n",
       "      <td>86807</td>\n",
       "      <td>Dating Around</td>\n",
       "      <td>[]</td>\n",
       "      <td>en</td>\n",
       "      <td>Dating Around</td>\n",
       "      <td>NaN</td>\n",
       "      <td>In each episode of flirtations and fails, one ...</td>\n",
       "      <td>1.047</td>\n",
       "      <td>/8Bylu6ne7GRLzdfKEDwWJNfZugP.jpg</td>\n",
       "      <td>NaN</td>\n",
       "      <td>NaN</td>\n",
       "      <td>NaN</td>\n",
       "      <td>6</td>\n",
       "      <td>1</td>\n",
       "    </tr>\n",
       "    <tr>\n",
       "      <th>2</th>\n",
       "      <td>NaN</td>\n",
       "      <td>NaN</td>\n",
       "      <td>/mE3zzMkpP8yqlkzdjPsQmJHceoe.jpg</td>\n",
       "      <td>2019-02-15</td>\n",
       "      <td>[10759, 10765]</td>\n",
       "      <td>75006</td>\n",
       "      <td>The Umbrella Academy</td>\n",
       "      <td>[CA, US]</td>\n",
       "      <td>en</td>\n",
       "      <td>The Umbrella Academy</td>\n",
       "      <td>NaN</td>\n",
       "      <td>A dysfunctional family of superheroes comes to...</td>\n",
       "      <td>59.649</td>\n",
       "      <td>/uYHdIs5O8tiU5p6MvUPd2jElOH6.jpg</td>\n",
       "      <td>NaN</td>\n",
       "      <td>NaN</td>\n",
       "      <td>NaN</td>\n",
       "      <td>7.81</td>\n",
       "      <td>101</td>\n",
       "    </tr>\n",
       "    <tr>\n",
       "      <th>3</th>\n",
       "      <td>NaN</td>\n",
       "      <td>False</td>\n",
       "      <td>/hDd2RWYR0mwGeF5oms5Ulr9zrhh.jpg</td>\n",
       "      <td>NaN</td>\n",
       "      <td>[35, 10770]</td>\n",
       "      <td>558341</td>\n",
       "      <td>NaN</td>\n",
       "      <td>NaN</td>\n",
       "      <td>en</td>\n",
       "      <td>NaN</td>\n",
       "      <td>Trevor Noah: Son of Patricia</td>\n",
       "      <td>Trevor Noah gets out from behind the \"Daily Sh...</td>\n",
       "      <td>2.548</td>\n",
       "      <td>/dmhDeV3RYq4jMwgIMmo0W05uH8L.jpg</td>\n",
       "      <td>2018-11-20</td>\n",
       "      <td>Trevor Noah: Son of Patricia</td>\n",
       "      <td>False</td>\n",
       "      <td>7.1</td>\n",
       "      <td>34</td>\n",
       "    </tr>\n",
       "    <tr>\n",
       "      <th>4</th>\n",
       "      <td>NaN</td>\n",
       "      <td>NaN</td>\n",
       "      <td>/yWlcrp0pBvnxRpPrZUrAX0Sh2B9.jpg</td>\n",
       "      <td>2017-09-15</td>\n",
       "      <td>[35, 80]</td>\n",
       "      <td>73126</td>\n",
       "      <td>American Vandal</td>\n",
       "      <td>[US]</td>\n",
       "      <td>en</td>\n",
       "      <td>American Vandal</td>\n",
       "      <td>NaN</td>\n",
       "      <td>A true-crime satire that explores the aftermat...</td>\n",
       "      <td>8.757</td>\n",
       "      <td>/z1vnHi6L2VqB620vT33sdChuIhX.jpg</td>\n",
       "      <td>NaN</td>\n",
       "      <td>NaN</td>\n",
       "      <td>NaN</td>\n",
       "      <td>7.88</td>\n",
       "      <td>64</td>\n",
       "    </tr>\n",
       "  </tbody>\n",
       "</table>\n",
       "</div>"
      ],
      "text/plain": [
       "     0  adult                     backdrop_path first_air_date  \\\n",
       "0  NaN    NaN  /fcdqZ9wfQaRqhJraXVHPyZppxWy.jpg     2019-02-14   \n",
       "1  NaN    NaN  /fcdqZ9wfQaRqhJraXVHPyZppxWy.jpg     2019-02-14   \n",
       "2  NaN    NaN  /mE3zzMkpP8yqlkzdjPsQmJHceoe.jpg     2019-02-15   \n",
       "3  NaN  False  /hDd2RWYR0mwGeF5oms5Ulr9zrhh.jpg            NaN   \n",
       "4  NaN    NaN  /yWlcrp0pBvnxRpPrZUrAX0Sh2B9.jpg     2017-09-15   \n",
       "\n",
       "        genre_ids      id                  name origin_country  \\\n",
       "0         [10764]   86807         Dating Around             []   \n",
       "1         [10764]   86807         Dating Around             []   \n",
       "2  [10759, 10765]   75006  The Umbrella Academy       [CA, US]   \n",
       "3     [35, 10770]  558341                   NaN            NaN   \n",
       "4        [35, 80]   73126       American Vandal           [US]   \n",
       "\n",
       "  original_language         original_name                original_title  \\\n",
       "0                en         Dating Around                           NaN   \n",
       "1                en         Dating Around                           NaN   \n",
       "2                en  The Umbrella Academy                           NaN   \n",
       "3                en                   NaN  Trevor Noah: Son of Patricia   \n",
       "4                en       American Vandal                           NaN   \n",
       "\n",
       "                                            overview popularity  \\\n",
       "0  In each episode of flirtations and fails, one ...      1.047   \n",
       "1  In each episode of flirtations and fails, one ...      1.047   \n",
       "2  A dysfunctional family of superheroes comes to...     59.649   \n",
       "3  Trevor Noah gets out from behind the \"Daily Sh...      2.548   \n",
       "4  A true-crime satire that explores the aftermat...      8.757   \n",
       "\n",
       "                        poster_path release_date  \\\n",
       "0  /8Bylu6ne7GRLzdfKEDwWJNfZugP.jpg          NaN   \n",
       "1  /8Bylu6ne7GRLzdfKEDwWJNfZugP.jpg          NaN   \n",
       "2  /uYHdIs5O8tiU5p6MvUPd2jElOH6.jpg          NaN   \n",
       "3  /dmhDeV3RYq4jMwgIMmo0W05uH8L.jpg   2018-11-20   \n",
       "4  /z1vnHi6L2VqB620vT33sdChuIhX.jpg          NaN   \n",
       "\n",
       "                          title  video vote_average vote_count  \n",
       "0                           NaN    NaN            6          1  \n",
       "1                           NaN    NaN            6          1  \n",
       "2                           NaN    NaN         7.81        101  \n",
       "3  Trevor Noah: Son of Patricia  False          7.1         34  \n",
       "4                           NaN    NaN         7.88         64  "
      ]
     },
     "execution_count": 47,
     "metadata": {},
     "output_type": "execute_result"
    }
   ],
   "source": [
    "df.head()"
   ]
  },
  {
   "cell_type": "code",
   "execution_count": 48,
   "metadata": {},
   "outputs": [
    {
     "data": {
      "text/html": [
       "<div>\n",
       "<style scoped>\n",
       "    .dataframe tbody tr th:only-of-type {\n",
       "        vertical-align: middle;\n",
       "    }\n",
       "\n",
       "    .dataframe tbody tr th {\n",
       "        vertical-align: top;\n",
       "    }\n",
       "\n",
       "    .dataframe thead th {\n",
       "        text-align: right;\n",
       "    }\n",
       "</style>\n",
       "<table border=\"1\" class=\"dataframe\">\n",
       "  <thead>\n",
       "    <tr style=\"text-align: right;\">\n",
       "      <th></th>\n",
       "      <th>Title</th>\n",
       "      <th>Date</th>\n",
       "      <th>TV_Show_flag</th>\n",
       "      <th>Show Name</th>\n",
       "      <th>Season</th>\n",
       "      <th>Episode Name</th>\n",
       "    </tr>\n",
       "  </thead>\n",
       "  <tbody>\n",
       "    <tr>\n",
       "      <th>0</th>\n",
       "      <td>Dating Around: Season 1: Gurki</td>\n",
       "      <td>2019-03-03</td>\n",
       "      <td>1</td>\n",
       "      <td>Dating Around</td>\n",
       "      <td>Season 1</td>\n",
       "      <td>Gurki</td>\n",
       "    </tr>\n",
       "    <tr>\n",
       "      <th>1</th>\n",
       "      <td>Dating Around: Season 1: Luke</td>\n",
       "      <td>2019-03-03</td>\n",
       "      <td>1</td>\n",
       "      <td>Dating Around</td>\n",
       "      <td>Season 1</td>\n",
       "      <td>Luke</td>\n",
       "    </tr>\n",
       "    <tr>\n",
       "      <th>2</th>\n",
       "      <td>The Umbrella Academy: Season 1: We Only See Ea...</td>\n",
       "      <td>2019-02-19</td>\n",
       "      <td>1</td>\n",
       "      <td>The Umbrella Academy</td>\n",
       "      <td>Season 1</td>\n",
       "      <td>We Only See Each Other at Weddings and Funerals</td>\n",
       "    </tr>\n",
       "    <tr>\n",
       "      <th>3</th>\n",
       "      <td>Trevor Noah: Son of Patricia</td>\n",
       "      <td>2018-11-23</td>\n",
       "      <td>0</td>\n",
       "      <td>Trevor Noah</td>\n",
       "      <td>Son of Patricia</td>\n",
       "      <td>None</td>\n",
       "    </tr>\n",
       "    <tr>\n",
       "      <th>4</th>\n",
       "      <td>American Vandal: Season 1: Nailed</td>\n",
       "      <td>2018-11-19</td>\n",
       "      <td>1</td>\n",
       "      <td>American Vandal</td>\n",
       "      <td>Season 1</td>\n",
       "      <td>Nailed</td>\n",
       "    </tr>\n",
       "  </tbody>\n",
       "</table>\n",
       "</div>"
      ],
      "text/plain": [
       "                                               Title       Date  TV_Show_flag  \\\n",
       "0                     Dating Around: Season 1: Gurki 2019-03-03             1   \n",
       "1                      Dating Around: Season 1: Luke 2019-03-03             1   \n",
       "2  The Umbrella Academy: Season 1: We Only See Ea... 2019-02-19             1   \n",
       "3                       Trevor Noah: Son of Patricia 2018-11-23             0   \n",
       "4                  American Vandal: Season 1: Nailed 2018-11-19             1   \n",
       "\n",
       "              Show Name            Season  \\\n",
       "0         Dating Around          Season 1   \n",
       "1         Dating Around          Season 1   \n",
       "2  The Umbrella Academy          Season 1   \n",
       "3           Trevor Noah   Son of Patricia   \n",
       "4       American Vandal          Season 1   \n",
       "\n",
       "                                       Episode Name  \n",
       "0                                             Gurki  \n",
       "1                                              Luke  \n",
       "2   We Only See Each Other at Weddings and Funerals  \n",
       "3                                              None  \n",
       "4                                            Nailed  "
      ]
     },
     "execution_count": 48,
     "metadata": {},
     "output_type": "execute_result"
    }
   ],
   "source": [
    "data2.head()"
   ]
  },
  {
   "cell_type": "code",
   "execution_count": 49,
   "metadata": {},
   "outputs": [],
   "source": [
    "# Need to find better way to merge these two datasets \n",
    "# If something doesn't come back with a result... what then ... look out for misalignments \n",
    "combo_data = pd.concat([df, data2], axis =1)"
   ]
  },
  {
   "cell_type": "code",
   "execution_count": 50,
   "metadata": {},
   "outputs": [
    {
     "data": {
      "text/plain": [
       "(1405, 25)"
      ]
     },
     "execution_count": 50,
     "metadata": {},
     "output_type": "execute_result"
    }
   ],
   "source": [
    "combo_data.shape"
   ]
  },
  {
   "cell_type": "code",
   "execution_count": 85,
   "metadata": {},
   "outputs": [
    {
     "data": {
      "text/html": [
       "<div>\n",
       "<style scoped>\n",
       "    .dataframe tbody tr th:only-of-type {\n",
       "        vertical-align: middle;\n",
       "    }\n",
       "\n",
       "    .dataframe tbody tr th {\n",
       "        vertical-align: top;\n",
       "    }\n",
       "\n",
       "    .dataframe thead th {\n",
       "        text-align: right;\n",
       "    }\n",
       "</style>\n",
       "<table border=\"1\" class=\"dataframe\">\n",
       "  <thead>\n",
       "    <tr style=\"text-align: right;\">\n",
       "      <th></th>\n",
       "      <th>0</th>\n",
       "      <th>adult</th>\n",
       "      <th>backdrop_path</th>\n",
       "      <th>first_air_date</th>\n",
       "      <th>genre_ids</th>\n",
       "      <th>id</th>\n",
       "      <th>name</th>\n",
       "      <th>origin_country</th>\n",
       "      <th>original_language</th>\n",
       "      <th>original_name</th>\n",
       "      <th>...</th>\n",
       "      <th>title</th>\n",
       "      <th>video</th>\n",
       "      <th>vote_average</th>\n",
       "      <th>vote_count</th>\n",
       "      <th>Title</th>\n",
       "      <th>Date</th>\n",
       "      <th>TV_Show_flag</th>\n",
       "      <th>Show Name</th>\n",
       "      <th>Season</th>\n",
       "      <th>Episode Name</th>\n",
       "    </tr>\n",
       "  </thead>\n",
       "  <tbody>\n",
       "    <tr>\n",
       "      <th>0</th>\n",
       "      <td>NaN</td>\n",
       "      <td>NaN</td>\n",
       "      <td>/fcdqZ9wfQaRqhJraXVHPyZppxWy.jpg</td>\n",
       "      <td>2019-02-14</td>\n",
       "      <td>[10764]</td>\n",
       "      <td>86807</td>\n",
       "      <td>Dating Around</td>\n",
       "      <td>[]</td>\n",
       "      <td>en</td>\n",
       "      <td>Dating Around</td>\n",
       "      <td>...</td>\n",
       "      <td>NaN</td>\n",
       "      <td>NaN</td>\n",
       "      <td>6</td>\n",
       "      <td>1</td>\n",
       "      <td>Dating Around: Season 1: Gurki</td>\n",
       "      <td>2019-03-03</td>\n",
       "      <td>1</td>\n",
       "      <td>Dating Around</td>\n",
       "      <td>Season 1</td>\n",
       "      <td>Gurki</td>\n",
       "    </tr>\n",
       "    <tr>\n",
       "      <th>1</th>\n",
       "      <td>NaN</td>\n",
       "      <td>NaN</td>\n",
       "      <td>/fcdqZ9wfQaRqhJraXVHPyZppxWy.jpg</td>\n",
       "      <td>2019-02-14</td>\n",
       "      <td>[10764]</td>\n",
       "      <td>86807</td>\n",
       "      <td>Dating Around</td>\n",
       "      <td>[]</td>\n",
       "      <td>en</td>\n",
       "      <td>Dating Around</td>\n",
       "      <td>...</td>\n",
       "      <td>NaN</td>\n",
       "      <td>NaN</td>\n",
       "      <td>6</td>\n",
       "      <td>1</td>\n",
       "      <td>Dating Around: Season 1: Luke</td>\n",
       "      <td>2019-03-03</td>\n",
       "      <td>1</td>\n",
       "      <td>Dating Around</td>\n",
       "      <td>Season 1</td>\n",
       "      <td>Luke</td>\n",
       "    </tr>\n",
       "    <tr>\n",
       "      <th>2</th>\n",
       "      <td>NaN</td>\n",
       "      <td>NaN</td>\n",
       "      <td>/mE3zzMkpP8yqlkzdjPsQmJHceoe.jpg</td>\n",
       "      <td>2019-02-15</td>\n",
       "      <td>[10759, 10765]</td>\n",
       "      <td>75006</td>\n",
       "      <td>The Umbrella Academy</td>\n",
       "      <td>[CA, US]</td>\n",
       "      <td>en</td>\n",
       "      <td>The Umbrella Academy</td>\n",
       "      <td>...</td>\n",
       "      <td>NaN</td>\n",
       "      <td>NaN</td>\n",
       "      <td>7.81</td>\n",
       "      <td>101</td>\n",
       "      <td>The Umbrella Academy: Season 1: We Only See Ea...</td>\n",
       "      <td>2019-02-19</td>\n",
       "      <td>1</td>\n",
       "      <td>The Umbrella Academy</td>\n",
       "      <td>Season 1</td>\n",
       "      <td>We Only See Each Other at Weddings and Funerals</td>\n",
       "    </tr>\n",
       "    <tr>\n",
       "      <th>3</th>\n",
       "      <td>NaN</td>\n",
       "      <td>False</td>\n",
       "      <td>/hDd2RWYR0mwGeF5oms5Ulr9zrhh.jpg</td>\n",
       "      <td>NaN</td>\n",
       "      <td>[35, 10770]</td>\n",
       "      <td>558341</td>\n",
       "      <td>NaN</td>\n",
       "      <td>NaN</td>\n",
       "      <td>en</td>\n",
       "      <td>NaN</td>\n",
       "      <td>...</td>\n",
       "      <td>Trevor Noah: Son of Patricia</td>\n",
       "      <td>False</td>\n",
       "      <td>7.1</td>\n",
       "      <td>34</td>\n",
       "      <td>Trevor Noah: Son of Patricia</td>\n",
       "      <td>2018-11-23</td>\n",
       "      <td>0</td>\n",
       "      <td>Trevor Noah</td>\n",
       "      <td>Son of Patricia</td>\n",
       "      <td>None</td>\n",
       "    </tr>\n",
       "    <tr>\n",
       "      <th>4</th>\n",
       "      <td>NaN</td>\n",
       "      <td>NaN</td>\n",
       "      <td>/yWlcrp0pBvnxRpPrZUrAX0Sh2B9.jpg</td>\n",
       "      <td>2017-09-15</td>\n",
       "      <td>[35, 80]</td>\n",
       "      <td>73126</td>\n",
       "      <td>American Vandal</td>\n",
       "      <td>[US]</td>\n",
       "      <td>en</td>\n",
       "      <td>American Vandal</td>\n",
       "      <td>...</td>\n",
       "      <td>NaN</td>\n",
       "      <td>NaN</td>\n",
       "      <td>7.88</td>\n",
       "      <td>64</td>\n",
       "      <td>American Vandal: Season 1: Nailed</td>\n",
       "      <td>2018-11-19</td>\n",
       "      <td>1</td>\n",
       "      <td>American Vandal</td>\n",
       "      <td>Season 1</td>\n",
       "      <td>Nailed</td>\n",
       "    </tr>\n",
       "  </tbody>\n",
       "</table>\n",
       "<p>5 rows × 25 columns</p>\n",
       "</div>"
      ],
      "text/plain": [
       "     0  adult                     backdrop_path first_air_date  \\\n",
       "0  NaN    NaN  /fcdqZ9wfQaRqhJraXVHPyZppxWy.jpg     2019-02-14   \n",
       "1  NaN    NaN  /fcdqZ9wfQaRqhJraXVHPyZppxWy.jpg     2019-02-14   \n",
       "2  NaN    NaN  /mE3zzMkpP8yqlkzdjPsQmJHceoe.jpg     2019-02-15   \n",
       "3  NaN  False  /hDd2RWYR0mwGeF5oms5Ulr9zrhh.jpg            NaN   \n",
       "4  NaN    NaN  /yWlcrp0pBvnxRpPrZUrAX0Sh2B9.jpg     2017-09-15   \n",
       "\n",
       "        genre_ids      id                  name origin_country  \\\n",
       "0         [10764]   86807         Dating Around             []   \n",
       "1         [10764]   86807         Dating Around             []   \n",
       "2  [10759, 10765]   75006  The Umbrella Academy       [CA, US]   \n",
       "3     [35, 10770]  558341                   NaN            NaN   \n",
       "4        [35, 80]   73126       American Vandal           [US]   \n",
       "\n",
       "  original_language         original_name  ...                         title  \\\n",
       "0                en         Dating Around  ...                           NaN   \n",
       "1                en         Dating Around  ...                           NaN   \n",
       "2                en  The Umbrella Academy  ...                           NaN   \n",
       "3                en                   NaN  ...  Trevor Noah: Son of Patricia   \n",
       "4                en       American Vandal  ...                           NaN   \n",
       "\n",
       "   video vote_average vote_count  \\\n",
       "0    NaN            6          1   \n",
       "1    NaN            6          1   \n",
       "2    NaN         7.81        101   \n",
       "3  False          7.1         34   \n",
       "4    NaN         7.88         64   \n",
       "\n",
       "                                               Title       Date TV_Show_flag  \\\n",
       "0                     Dating Around: Season 1: Gurki 2019-03-03            1   \n",
       "1                      Dating Around: Season 1: Luke 2019-03-03            1   \n",
       "2  The Umbrella Academy: Season 1: We Only See Ea... 2019-02-19            1   \n",
       "3                       Trevor Noah: Son of Patricia 2018-11-23            0   \n",
       "4                  American Vandal: Season 1: Nailed 2018-11-19            1   \n",
       "\n",
       "              Show Name            Season  \\\n",
       "0         Dating Around          Season 1   \n",
       "1         Dating Around          Season 1   \n",
       "2  The Umbrella Academy          Season 1   \n",
       "3           Trevor Noah   Son of Patricia   \n",
       "4       American Vandal          Season 1   \n",
       "\n",
       "                                       Episode Name  \n",
       "0                                             Gurki  \n",
       "1                                              Luke  \n",
       "2   We Only See Each Other at Weddings and Funerals  \n",
       "3                                              None  \n",
       "4                                            Nailed  \n",
       "\n",
       "[5 rows x 25 columns]"
      ]
     },
     "execution_count": 85,
     "metadata": {},
     "output_type": "execute_result"
    }
   ],
   "source": [
    "combo_data.head()"
   ]
  },
  {
   "cell_type": "code",
   "execution_count": 51,
   "metadata": {
    "scrolled": true
   },
   "outputs": [
    {
     "data": {
      "text/html": [
       "<div>\n",
       "<style scoped>\n",
       "    .dataframe tbody tr th:only-of-type {\n",
       "        vertical-align: middle;\n",
       "    }\n",
       "\n",
       "    .dataframe tbody tr th {\n",
       "        vertical-align: top;\n",
       "    }\n",
       "\n",
       "    .dataframe thead th {\n",
       "        text-align: right;\n",
       "    }\n",
       "</style>\n",
       "<table border=\"1\" class=\"dataframe\">\n",
       "  <thead>\n",
       "    <tr style=\"text-align: right;\">\n",
       "      <th></th>\n",
       "      <th>0</th>\n",
       "      <th>adult</th>\n",
       "      <th>backdrop_path</th>\n",
       "      <th>first_air_date</th>\n",
       "      <th>genre_ids</th>\n",
       "      <th>id</th>\n",
       "      <th>name</th>\n",
       "      <th>origin_country</th>\n",
       "      <th>original_language</th>\n",
       "      <th>original_name</th>\n",
       "      <th>...</th>\n",
       "      <th>title</th>\n",
       "      <th>video</th>\n",
       "      <th>vote_average</th>\n",
       "      <th>vote_count</th>\n",
       "      <th>Title</th>\n",
       "      <th>Date</th>\n",
       "      <th>TV_Show_flag</th>\n",
       "      <th>Show Name</th>\n",
       "      <th>Season</th>\n",
       "      <th>Episode Name</th>\n",
       "    </tr>\n",
       "  </thead>\n",
       "  <tbody>\n",
       "    <tr>\n",
       "      <th>0</th>\n",
       "      <td>NaN</td>\n",
       "      <td>NaN</td>\n",
       "      <td>/fcdqZ9wfQaRqhJraXVHPyZppxWy.jpg</td>\n",
       "      <td>2019-02-14</td>\n",
       "      <td>[10764]</td>\n",
       "      <td>86807</td>\n",
       "      <td>Dating Around</td>\n",
       "      <td>[]</td>\n",
       "      <td>en</td>\n",
       "      <td>Dating Around</td>\n",
       "      <td>...</td>\n",
       "      <td>NaN</td>\n",
       "      <td>NaN</td>\n",
       "      <td>6</td>\n",
       "      <td>1</td>\n",
       "      <td>Dating Around: Season 1: Gurki</td>\n",
       "      <td>2019-03-03</td>\n",
       "      <td>1</td>\n",
       "      <td>Dating Around</td>\n",
       "      <td>Season 1</td>\n",
       "      <td>Gurki</td>\n",
       "    </tr>\n",
       "    <tr>\n",
       "      <th>1</th>\n",
       "      <td>NaN</td>\n",
       "      <td>NaN</td>\n",
       "      <td>/fcdqZ9wfQaRqhJraXVHPyZppxWy.jpg</td>\n",
       "      <td>2019-02-14</td>\n",
       "      <td>[10764]</td>\n",
       "      <td>86807</td>\n",
       "      <td>Dating Around</td>\n",
       "      <td>[]</td>\n",
       "      <td>en</td>\n",
       "      <td>Dating Around</td>\n",
       "      <td>...</td>\n",
       "      <td>NaN</td>\n",
       "      <td>NaN</td>\n",
       "      <td>6</td>\n",
       "      <td>1</td>\n",
       "      <td>Dating Around: Season 1: Luke</td>\n",
       "      <td>2019-03-03</td>\n",
       "      <td>1</td>\n",
       "      <td>Dating Around</td>\n",
       "      <td>Season 1</td>\n",
       "      <td>Luke</td>\n",
       "    </tr>\n",
       "    <tr>\n",
       "      <th>2</th>\n",
       "      <td>NaN</td>\n",
       "      <td>NaN</td>\n",
       "      <td>/mE3zzMkpP8yqlkzdjPsQmJHceoe.jpg</td>\n",
       "      <td>2019-02-15</td>\n",
       "      <td>[10759, 10765]</td>\n",
       "      <td>75006</td>\n",
       "      <td>The Umbrella Academy</td>\n",
       "      <td>[CA, US]</td>\n",
       "      <td>en</td>\n",
       "      <td>The Umbrella Academy</td>\n",
       "      <td>...</td>\n",
       "      <td>NaN</td>\n",
       "      <td>NaN</td>\n",
       "      <td>7.81</td>\n",
       "      <td>101</td>\n",
       "      <td>The Umbrella Academy: Season 1: We Only See Ea...</td>\n",
       "      <td>2019-02-19</td>\n",
       "      <td>1</td>\n",
       "      <td>The Umbrella Academy</td>\n",
       "      <td>Season 1</td>\n",
       "      <td>We Only See Each Other at Weddings and Funerals</td>\n",
       "    </tr>\n",
       "    <tr>\n",
       "      <th>3</th>\n",
       "      <td>NaN</td>\n",
       "      <td>False</td>\n",
       "      <td>/hDd2RWYR0mwGeF5oms5Ulr9zrhh.jpg</td>\n",
       "      <td>NaN</td>\n",
       "      <td>[35, 10770]</td>\n",
       "      <td>558341</td>\n",
       "      <td>NaN</td>\n",
       "      <td>NaN</td>\n",
       "      <td>en</td>\n",
       "      <td>NaN</td>\n",
       "      <td>...</td>\n",
       "      <td>Trevor Noah: Son of Patricia</td>\n",
       "      <td>False</td>\n",
       "      <td>7.1</td>\n",
       "      <td>34</td>\n",
       "      <td>Trevor Noah: Son of Patricia</td>\n",
       "      <td>2018-11-23</td>\n",
       "      <td>0</td>\n",
       "      <td>Trevor Noah</td>\n",
       "      <td>Son of Patricia</td>\n",
       "      <td>None</td>\n",
       "    </tr>\n",
       "    <tr>\n",
       "      <th>4</th>\n",
       "      <td>NaN</td>\n",
       "      <td>NaN</td>\n",
       "      <td>/yWlcrp0pBvnxRpPrZUrAX0Sh2B9.jpg</td>\n",
       "      <td>2017-09-15</td>\n",
       "      <td>[35, 80]</td>\n",
       "      <td>73126</td>\n",
       "      <td>American Vandal</td>\n",
       "      <td>[US]</td>\n",
       "      <td>en</td>\n",
       "      <td>American Vandal</td>\n",
       "      <td>...</td>\n",
       "      <td>NaN</td>\n",
       "      <td>NaN</td>\n",
       "      <td>7.88</td>\n",
       "      <td>64</td>\n",
       "      <td>American Vandal: Season 1: Nailed</td>\n",
       "      <td>2018-11-19</td>\n",
       "      <td>1</td>\n",
       "      <td>American Vandal</td>\n",
       "      <td>Season 1</td>\n",
       "      <td>Nailed</td>\n",
       "    </tr>\n",
       "  </tbody>\n",
       "</table>\n",
       "<p>5 rows × 25 columns</p>\n",
       "</div>"
      ],
      "text/plain": [
       "     0  adult                     backdrop_path first_air_date  \\\n",
       "0  NaN    NaN  /fcdqZ9wfQaRqhJraXVHPyZppxWy.jpg     2019-02-14   \n",
       "1  NaN    NaN  /fcdqZ9wfQaRqhJraXVHPyZppxWy.jpg     2019-02-14   \n",
       "2  NaN    NaN  /mE3zzMkpP8yqlkzdjPsQmJHceoe.jpg     2019-02-15   \n",
       "3  NaN  False  /hDd2RWYR0mwGeF5oms5Ulr9zrhh.jpg            NaN   \n",
       "4  NaN    NaN  /yWlcrp0pBvnxRpPrZUrAX0Sh2B9.jpg     2017-09-15   \n",
       "\n",
       "        genre_ids      id                  name origin_country  \\\n",
       "0         [10764]   86807         Dating Around             []   \n",
       "1         [10764]   86807         Dating Around             []   \n",
       "2  [10759, 10765]   75006  The Umbrella Academy       [CA, US]   \n",
       "3     [35, 10770]  558341                   NaN            NaN   \n",
       "4        [35, 80]   73126       American Vandal           [US]   \n",
       "\n",
       "  original_language         original_name  ...                         title  \\\n",
       "0                en         Dating Around  ...                           NaN   \n",
       "1                en         Dating Around  ...                           NaN   \n",
       "2                en  The Umbrella Academy  ...                           NaN   \n",
       "3                en                   NaN  ...  Trevor Noah: Son of Patricia   \n",
       "4                en       American Vandal  ...                           NaN   \n",
       "\n",
       "   video vote_average vote_count  \\\n",
       "0    NaN            6          1   \n",
       "1    NaN            6          1   \n",
       "2    NaN         7.81        101   \n",
       "3  False          7.1         34   \n",
       "4    NaN         7.88         64   \n",
       "\n",
       "                                               Title       Date TV_Show_flag  \\\n",
       "0                     Dating Around: Season 1: Gurki 2019-03-03            1   \n",
       "1                      Dating Around: Season 1: Luke 2019-03-03            1   \n",
       "2  The Umbrella Academy: Season 1: We Only See Ea... 2019-02-19            1   \n",
       "3                       Trevor Noah: Son of Patricia 2018-11-23            0   \n",
       "4                  American Vandal: Season 1: Nailed 2018-11-19            1   \n",
       "\n",
       "              Show Name            Season  \\\n",
       "0         Dating Around          Season 1   \n",
       "1         Dating Around          Season 1   \n",
       "2  The Umbrella Academy          Season 1   \n",
       "3           Trevor Noah   Son of Patricia   \n",
       "4       American Vandal          Season 1   \n",
       "\n",
       "                                       Episode Name  \n",
       "0                                             Gurki  \n",
       "1                                              Luke  \n",
       "2   We Only See Each Other at Weddings and Funerals  \n",
       "3                                              None  \n",
       "4                                            Nailed  \n",
       "\n",
       "[5 rows x 25 columns]"
      ]
     },
     "execution_count": 51,
     "metadata": {},
     "output_type": "execute_result"
    }
   ],
   "source": [
    "combo_data.head()"
   ]
  },
  {
   "cell_type": "code",
   "execution_count": 52,
   "metadata": {},
   "outputs": [
    {
     "data": {
      "text/html": [
       "<div>\n",
       "<style scoped>\n",
       "    .dataframe tbody tr th:only-of-type {\n",
       "        vertical-align: middle;\n",
       "    }\n",
       "\n",
       "    .dataframe tbody tr th {\n",
       "        vertical-align: top;\n",
       "    }\n",
       "\n",
       "    .dataframe thead th {\n",
       "        text-align: right;\n",
       "    }\n",
       "</style>\n",
       "<table border=\"1\" class=\"dataframe\">\n",
       "  <thead>\n",
       "    <tr style=\"text-align: right;\">\n",
       "      <th></th>\n",
       "      <th>0</th>\n",
       "      <th>adult</th>\n",
       "      <th>backdrop_path</th>\n",
       "      <th>first_air_date</th>\n",
       "      <th>genre_ids</th>\n",
       "      <th>id</th>\n",
       "      <th>name</th>\n",
       "      <th>origin_country</th>\n",
       "      <th>original_language</th>\n",
       "      <th>original_name</th>\n",
       "      <th>...</th>\n",
       "      <th>title</th>\n",
       "      <th>video</th>\n",
       "      <th>vote_average</th>\n",
       "      <th>vote_count</th>\n",
       "      <th>Title</th>\n",
       "      <th>Date</th>\n",
       "      <th>TV_Show_flag</th>\n",
       "      <th>Show Name</th>\n",
       "      <th>Season</th>\n",
       "      <th>Episode Name</th>\n",
       "    </tr>\n",
       "  </thead>\n",
       "  <tbody>\n",
       "    <tr>\n",
       "      <th>1400</th>\n",
       "      <td>NaN</td>\n",
       "      <td>NaN</td>\n",
       "      <td>/gn18IaampxKKRgxSrCJORhWi84J.jpg</td>\n",
       "      <td>2001-10-02</td>\n",
       "      <td>[18, 35]</td>\n",
       "      <td>4556</td>\n",
       "      <td>Scrubs</td>\n",
       "      <td>[US]</td>\n",
       "      <td>en</td>\n",
       "      <td>Scrubs</td>\n",
       "      <td>...</td>\n",
       "      <td>NaN</td>\n",
       "      <td>NaN</td>\n",
       "      <td>7.84</td>\n",
       "      <td>568</td>\n",
       "      <td>Scrubs: Season 7: My Waste of Time</td>\n",
       "      <td>2013-09-20</td>\n",
       "      <td>1</td>\n",
       "      <td>Scrubs</td>\n",
       "      <td>Season 7</td>\n",
       "      <td>My Waste of Time</td>\n",
       "    </tr>\n",
       "    <tr>\n",
       "      <th>1401</th>\n",
       "      <td>NaN</td>\n",
       "      <td>NaN</td>\n",
       "      <td>/gn18IaampxKKRgxSrCJORhWi84J.jpg</td>\n",
       "      <td>2001-10-02</td>\n",
       "      <td>[18, 35]</td>\n",
       "      <td>4556</td>\n",
       "      <td>Scrubs</td>\n",
       "      <td>[US]</td>\n",
       "      <td>en</td>\n",
       "      <td>Scrubs</td>\n",
       "      <td>...</td>\n",
       "      <td>NaN</td>\n",
       "      <td>NaN</td>\n",
       "      <td>7.84</td>\n",
       "      <td>568</td>\n",
       "      <td>Scrubs: Season 7: My Dumb Luck</td>\n",
       "      <td>2013-09-20</td>\n",
       "      <td>1</td>\n",
       "      <td>Scrubs</td>\n",
       "      <td>Season 7</td>\n",
       "      <td>My Dumb Luck</td>\n",
       "    </tr>\n",
       "    <tr>\n",
       "      <th>1402</th>\n",
       "      <td>NaN</td>\n",
       "      <td>NaN</td>\n",
       "      <td>/gn18IaampxKKRgxSrCJORhWi84J.jpg</td>\n",
       "      <td>2001-10-02</td>\n",
       "      <td>[18, 35]</td>\n",
       "      <td>4556</td>\n",
       "      <td>Scrubs</td>\n",
       "      <td>[US]</td>\n",
       "      <td>en</td>\n",
       "      <td>Scrubs</td>\n",
       "      <td>...</td>\n",
       "      <td>NaN</td>\n",
       "      <td>NaN</td>\n",
       "      <td>7.84</td>\n",
       "      <td>568</td>\n",
       "      <td>Scrubs: Season 7: My Manhood</td>\n",
       "      <td>2013-09-20</td>\n",
       "      <td>1</td>\n",
       "      <td>Scrubs</td>\n",
       "      <td>Season 7</td>\n",
       "      <td>My Manhood</td>\n",
       "    </tr>\n",
       "    <tr>\n",
       "      <th>1403</th>\n",
       "      <td>NaN</td>\n",
       "      <td>NaN</td>\n",
       "      <td>/xDYTP6NQSY7XYxs3qLgVIVKBE2m.jpg</td>\n",
       "      <td>2010-01-11</td>\n",
       "      <td>[35]</td>\n",
       "      <td>31941</td>\n",
       "      <td>Blue Mountain State</td>\n",
       "      <td>[US]</td>\n",
       "      <td>en</td>\n",
       "      <td>Blue Mountain State</td>\n",
       "      <td>...</td>\n",
       "      <td>NaN</td>\n",
       "      <td>NaN</td>\n",
       "      <td>7.16</td>\n",
       "      <td>73</td>\n",
       "      <td>Blue Mountain State: Season 3: Superstition</td>\n",
       "      <td>2013-09-14</td>\n",
       "      <td>1</td>\n",
       "      <td>Blue Mountain State</td>\n",
       "      <td>Season 3</td>\n",
       "      <td>Superstition</td>\n",
       "    </tr>\n",
       "    <tr>\n",
       "      <th>1404</th>\n",
       "      <td>NaN</td>\n",
       "      <td>NaN</td>\n",
       "      <td>/xDYTP6NQSY7XYxs3qLgVIVKBE2m.jpg</td>\n",
       "      <td>2010-01-11</td>\n",
       "      <td>[35]</td>\n",
       "      <td>31941</td>\n",
       "      <td>Blue Mountain State</td>\n",
       "      <td>[US]</td>\n",
       "      <td>en</td>\n",
       "      <td>Blue Mountain State</td>\n",
       "      <td>...</td>\n",
       "      <td>NaN</td>\n",
       "      <td>NaN</td>\n",
       "      <td>7.16</td>\n",
       "      <td>73</td>\n",
       "      <td>Blue Mountain State: Season 3: Blackout</td>\n",
       "      <td>2013-09-14</td>\n",
       "      <td>1</td>\n",
       "      <td>Blue Mountain State</td>\n",
       "      <td>Season 3</td>\n",
       "      <td>Blackout</td>\n",
       "    </tr>\n",
       "  </tbody>\n",
       "</table>\n",
       "<p>5 rows × 25 columns</p>\n",
       "</div>"
      ],
      "text/plain": [
       "        0 adult                     backdrop_path first_air_date genre_ids  \\\n",
       "1400  NaN   NaN  /gn18IaampxKKRgxSrCJORhWi84J.jpg     2001-10-02  [18, 35]   \n",
       "1401  NaN   NaN  /gn18IaampxKKRgxSrCJORhWi84J.jpg     2001-10-02  [18, 35]   \n",
       "1402  NaN   NaN  /gn18IaampxKKRgxSrCJORhWi84J.jpg     2001-10-02  [18, 35]   \n",
       "1403  NaN   NaN  /xDYTP6NQSY7XYxs3qLgVIVKBE2m.jpg     2010-01-11      [35]   \n",
       "1404  NaN   NaN  /xDYTP6NQSY7XYxs3qLgVIVKBE2m.jpg     2010-01-11      [35]   \n",
       "\n",
       "         id                 name origin_country original_language  \\\n",
       "1400   4556               Scrubs           [US]                en   \n",
       "1401   4556               Scrubs           [US]                en   \n",
       "1402   4556               Scrubs           [US]                en   \n",
       "1403  31941  Blue Mountain State           [US]                en   \n",
       "1404  31941  Blue Mountain State           [US]                en   \n",
       "\n",
       "            original_name  ... title video vote_average vote_count  \\\n",
       "1400               Scrubs  ...   NaN   NaN         7.84        568   \n",
       "1401               Scrubs  ...   NaN   NaN         7.84        568   \n",
       "1402               Scrubs  ...   NaN   NaN         7.84        568   \n",
       "1403  Blue Mountain State  ...   NaN   NaN         7.16         73   \n",
       "1404  Blue Mountain State  ...   NaN   NaN         7.16         73   \n",
       "\n",
       "                                            Title       Date TV_Show_flag  \\\n",
       "1400           Scrubs: Season 7: My Waste of Time 2013-09-20            1   \n",
       "1401               Scrubs: Season 7: My Dumb Luck 2013-09-20            1   \n",
       "1402                 Scrubs: Season 7: My Manhood 2013-09-20            1   \n",
       "1403  Blue Mountain State: Season 3: Superstition 2013-09-14            1   \n",
       "1404      Blue Mountain State: Season 3: Blackout 2013-09-14            1   \n",
       "\n",
       "                Show Name     Season       Episode Name  \n",
       "1400               Scrubs   Season 7   My Waste of Time  \n",
       "1401               Scrubs   Season 7       My Dumb Luck  \n",
       "1402               Scrubs   Season 7         My Manhood  \n",
       "1403  Blue Mountain State   Season 3       Superstition  \n",
       "1404  Blue Mountain State   Season 3           Blackout  \n",
       "\n",
       "[5 rows x 25 columns]"
      ]
     },
     "execution_count": 52,
     "metadata": {},
     "output_type": "execute_result"
    }
   ],
   "source": [
    "combo_data.tail()"
   ]
  },
  {
   "cell_type": "code",
   "execution_count": 53,
   "metadata": {},
   "outputs": [
    {
     "data": {
      "text/plain": [
       "Index([                  0,             'adult',     'backdrop_path',\n",
       "          'first_air_date',         'genre_ids',                'id',\n",
       "                    'name',    'origin_country', 'original_language',\n",
       "           'original_name',    'original_title',          'overview',\n",
       "              'popularity',       'poster_path',      'release_date',\n",
       "                   'title',             'video',      'vote_average',\n",
       "              'vote_count',             'Title',              'Date',\n",
       "            'TV_Show_flag',         'Show Name',            'Season',\n",
       "            'Episode Name'],\n",
       "      dtype='object')"
      ]
     },
     "execution_count": 53,
     "metadata": {},
     "output_type": "execute_result"
    }
   ],
   "source": [
    "combo_data.columns"
   ]
  },
  {
   "cell_type": "code",
   "execution_count": 54,
   "metadata": {},
   "outputs": [],
   "source": [
    "combo_smaller = combo_data.drop(['genre_ids', 'origin_country'], axis =1)\n",
    "combo_metrics_raw = {\"sum NA\":combo_smaller.isna().sum(), \"nunique\":combo_smaller.nunique()}"
   ]
  },
  {
   "cell_type": "code",
   "execution_count": 55,
   "metadata": {
    "scrolled": true
   },
   "outputs": [
    {
     "data": {
      "text/html": [
       "<div>\n",
       "<style scoped>\n",
       "    .dataframe tbody tr th:only-of-type {\n",
       "        vertical-align: middle;\n",
       "    }\n",
       "\n",
       "    .dataframe tbody tr th {\n",
       "        vertical-align: top;\n",
       "    }\n",
       "\n",
       "    .dataframe thead th {\n",
       "        text-align: right;\n",
       "    }\n",
       "</style>\n",
       "<table border=\"1\" class=\"dataframe\">\n",
       "  <thead>\n",
       "    <tr style=\"text-align: right;\">\n",
       "      <th></th>\n",
       "      <th>nunique</th>\n",
       "      <th>sum NA</th>\n",
       "    </tr>\n",
       "  </thead>\n",
       "  <tbody>\n",
       "    <tr>\n",
       "      <th>0</th>\n",
       "      <td>0</td>\n",
       "      <td>1405</td>\n",
       "    </tr>\n",
       "    <tr>\n",
       "      <th>adult</th>\n",
       "      <td>1</td>\n",
       "      <td>1305</td>\n",
       "    </tr>\n",
       "    <tr>\n",
       "      <th>backdrop_path</th>\n",
       "      <td>113</td>\n",
       "      <td>40</td>\n",
       "    </tr>\n",
       "    <tr>\n",
       "      <th>first_air_date</th>\n",
       "      <td>60</td>\n",
       "      <td>114</td>\n",
       "    </tr>\n",
       "    <tr>\n",
       "      <th>id</th>\n",
       "      <td>119</td>\n",
       "      <td>14</td>\n",
       "    </tr>\n",
       "    <tr>\n",
       "      <th>name</th>\n",
       "      <td>61</td>\n",
       "      <td>114</td>\n",
       "    </tr>\n",
       "    <tr>\n",
       "      <th>original_language</th>\n",
       "      <td>4</td>\n",
       "      <td>14</td>\n",
       "    </tr>\n",
       "    <tr>\n",
       "      <th>original_name</th>\n",
       "      <td>61</td>\n",
       "      <td>114</td>\n",
       "    </tr>\n",
       "    <tr>\n",
       "      <th>original_title</th>\n",
       "      <td>58</td>\n",
       "      <td>1305</td>\n",
       "    </tr>\n",
       "    <tr>\n",
       "      <th>overview</th>\n",
       "      <td>119</td>\n",
       "      <td>14</td>\n",
       "    </tr>\n",
       "    <tr>\n",
       "      <th>popularity</th>\n",
       "      <td>117</td>\n",
       "      <td>14</td>\n",
       "    </tr>\n",
       "    <tr>\n",
       "      <th>poster_path</th>\n",
       "      <td>119</td>\n",
       "      <td>14</td>\n",
       "    </tr>\n",
       "    <tr>\n",
       "      <th>release_date</th>\n",
       "      <td>56</td>\n",
       "      <td>1305</td>\n",
       "    </tr>\n",
       "    <tr>\n",
       "      <th>title</th>\n",
       "      <td>58</td>\n",
       "      <td>1305</td>\n",
       "    </tr>\n",
       "    <tr>\n",
       "      <th>video</th>\n",
       "      <td>1</td>\n",
       "      <td>1305</td>\n",
       "    </tr>\n",
       "    <tr>\n",
       "      <th>vote_average</th>\n",
       "      <td>74</td>\n",
       "      <td>14</td>\n",
       "    </tr>\n",
       "    <tr>\n",
       "      <th>vote_count</th>\n",
       "      <td>109</td>\n",
       "      <td>14</td>\n",
       "    </tr>\n",
       "    <tr>\n",
       "      <th>Title</th>\n",
       "      <td>1405</td>\n",
       "      <td>0</td>\n",
       "    </tr>\n",
       "    <tr>\n",
       "      <th>Date</th>\n",
       "      <td>397</td>\n",
       "      <td>0</td>\n",
       "    </tr>\n",
       "    <tr>\n",
       "      <th>TV_Show_flag</th>\n",
       "      <td>2</td>\n",
       "      <td>0</td>\n",
       "    </tr>\n",
       "    <tr>\n",
       "      <th>Show Name</th>\n",
       "      <td>119</td>\n",
       "      <td>0</td>\n",
       "    </tr>\n",
       "    <tr>\n",
       "      <th>Season</th>\n",
       "      <td>49</td>\n",
       "      <td>35</td>\n",
       "    </tr>\n",
       "    <tr>\n",
       "      <th>Episode Name</th>\n",
       "      <td>1320</td>\n",
       "      <td>48</td>\n",
       "    </tr>\n",
       "  </tbody>\n",
       "</table>\n",
       "</div>"
      ],
      "text/plain": [
       "                   nunique  sum NA\n",
       "0                        0    1405\n",
       "adult                    1    1305\n",
       "backdrop_path          113      40\n",
       "first_air_date          60     114\n",
       "id                     119      14\n",
       "name                    61     114\n",
       "original_language        4      14\n",
       "original_name           61     114\n",
       "original_title          58    1305\n",
       "overview               119      14\n",
       "popularity             117      14\n",
       "poster_path            119      14\n",
       "release_date            56    1305\n",
       "title                   58    1305\n",
       "video                    1    1305\n",
       "vote_average            74      14\n",
       "vote_count             109      14\n",
       "Title                 1405       0\n",
       "Date                   397       0\n",
       "TV_Show_flag             2       0\n",
       "Show Name              119       0\n",
       "Season                  49      35\n",
       "Episode Name          1320      48"
      ]
     },
     "execution_count": 55,
     "metadata": {},
     "output_type": "execute_result"
    }
   ],
   "source": [
    "pd.concat(combo_metrics_raw, axis=1)"
   ]
  },
  {
   "cell_type": "code",
   "execution_count": null,
   "metadata": {},
   "outputs": [],
   "source": []
  },
  {
   "cell_type": "code",
   "execution_count": 56,
   "metadata": {},
   "outputs": [],
   "source": [
    "combo_data_small = combo_data.iloc[:5]"
   ]
  },
  {
   "cell_type": "code",
   "execution_count": 57,
   "metadata": {},
   "outputs": [],
   "source": [
    "show_name_id_tmdb = combo_data.groupby('Show Name')[['id', 'TV_Show_flag']].agg('max')"
   ]
  },
  {
   "cell_type": "code",
   "execution_count": 58,
   "metadata": {},
   "outputs": [
    {
     "data": {
      "text/html": [
       "<div>\n",
       "<style scoped>\n",
       "    .dataframe tbody tr th:only-of-type {\n",
       "        vertical-align: middle;\n",
       "    }\n",
       "\n",
       "    .dataframe tbody tr th {\n",
       "        vertical-align: top;\n",
       "    }\n",
       "\n",
       "    .dataframe thead th {\n",
       "        text-align: right;\n",
       "    }\n",
       "</style>\n",
       "<table border=\"1\" class=\"dataframe\">\n",
       "  <thead>\n",
       "    <tr style=\"text-align: right;\">\n",
       "      <th></th>\n",
       "      <th>id</th>\n",
       "      <th>TV_Show_flag</th>\n",
       "    </tr>\n",
       "    <tr>\n",
       "      <th>Show Name</th>\n",
       "      <th></th>\n",
       "      <th></th>\n",
       "    </tr>\n",
       "  </thead>\n",
       "  <tbody>\n",
       "    <tr>\n",
       "      <th>13TH</th>\n",
       "      <td>407806.0</td>\n",
       "      <td>0</td>\n",
       "    </tr>\n",
       "    <tr>\n",
       "      <th>30 Rock</th>\n",
       "      <td>4608.0</td>\n",
       "      <td>1</td>\n",
       "    </tr>\n",
       "    <tr>\n",
       "      <th>Altered Carbon</th>\n",
       "      <td>68421.0</td>\n",
       "      <td>1</td>\n",
       "    </tr>\n",
       "    <tr>\n",
       "      <th>American Dad!</th>\n",
       "      <td>1433.0</td>\n",
       "      <td>1</td>\n",
       "    </tr>\n",
       "    <tr>\n",
       "      <th>American Horror Story</th>\n",
       "      <td>492815.0</td>\n",
       "      <td>0</td>\n",
       "    </tr>\n",
       "    <tr>\n",
       "      <th>American Vandal</th>\n",
       "      <td>73126.0</td>\n",
       "      <td>1</td>\n",
       "    </tr>\n",
       "    <tr>\n",
       "      <th>Archer</th>\n",
       "      <td>10283.0</td>\n",
       "      <td>1</td>\n",
       "    </tr>\n",
       "    <tr>\n",
       "      <th>Arrow</th>\n",
       "      <td>1412.0</td>\n",
       "      <td>1</td>\n",
       "    </tr>\n",
       "    <tr>\n",
       "      <th>Atypical</th>\n",
       "      <td>71578.0</td>\n",
       "      <td>1</td>\n",
       "    </tr>\n",
       "    <tr>\n",
       "      <th>Banking on Bitcoin</th>\n",
       "      <td>427451.0</td>\n",
       "      <td>0</td>\n",
       "    </tr>\n",
       "  </tbody>\n",
       "</table>\n",
       "</div>"
      ],
      "text/plain": [
       "                             id  TV_Show_flag\n",
       "Show Name                                    \n",
       "13TH                   407806.0             0\n",
       "30 Rock                  4608.0             1\n",
       "Altered Carbon          68421.0             1\n",
       "American Dad!            1433.0             1\n",
       "American Horror Story  492815.0             0\n",
       "American Vandal         73126.0             1\n",
       "Archer                  10283.0             1\n",
       "Arrow                    1412.0             1\n",
       "Atypical                71578.0             1\n",
       "Banking on Bitcoin     427451.0             0"
      ]
     },
     "execution_count": 58,
     "metadata": {},
     "output_type": "execute_result"
    }
   ],
   "source": [
    "show_name_id_tmdb.head(10)"
   ]
  },
  {
   "cell_type": "code",
   "execution_count": 59,
   "metadata": {},
   "outputs": [],
   "source": [
    "small_show_name_id_tmdb = show_name_id_tmdb.iloc[:5]"
   ]
  },
  {
   "cell_type": "code",
   "execution_count": 60,
   "metadata": {},
   "outputs": [
    {
     "data": {
      "text/html": [
       "<div>\n",
       "<style scoped>\n",
       "    .dataframe tbody tr th:only-of-type {\n",
       "        vertical-align: middle;\n",
       "    }\n",
       "\n",
       "    .dataframe tbody tr th {\n",
       "        vertical-align: top;\n",
       "    }\n",
       "\n",
       "    .dataframe thead th {\n",
       "        text-align: right;\n",
       "    }\n",
       "</style>\n",
       "<table border=\"1\" class=\"dataframe\">\n",
       "  <thead>\n",
       "    <tr style=\"text-align: right;\">\n",
       "      <th></th>\n",
       "      <th>id</th>\n",
       "      <th>TV_Show_flag</th>\n",
       "    </tr>\n",
       "    <tr>\n",
       "      <th>Show Name</th>\n",
       "      <th></th>\n",
       "      <th></th>\n",
       "    </tr>\n",
       "  </thead>\n",
       "  <tbody>\n",
       "    <tr>\n",
       "      <th>13TH</th>\n",
       "      <td>407806.0</td>\n",
       "      <td>0</td>\n",
       "    </tr>\n",
       "    <tr>\n",
       "      <th>30 Rock</th>\n",
       "      <td>4608.0</td>\n",
       "      <td>1</td>\n",
       "    </tr>\n",
       "    <tr>\n",
       "      <th>Altered Carbon</th>\n",
       "      <td>68421.0</td>\n",
       "      <td>1</td>\n",
       "    </tr>\n",
       "    <tr>\n",
       "      <th>American Dad!</th>\n",
       "      <td>1433.0</td>\n",
       "      <td>1</td>\n",
       "    </tr>\n",
       "    <tr>\n",
       "      <th>American Horror Story</th>\n",
       "      <td>492815.0</td>\n",
       "      <td>0</td>\n",
       "    </tr>\n",
       "  </tbody>\n",
       "</table>\n",
       "</div>"
      ],
      "text/plain": [
       "                             id  TV_Show_flag\n",
       "Show Name                                    \n",
       "13TH                   407806.0             0\n",
       "30 Rock                  4608.0             1\n",
       "Altered Carbon          68421.0             1\n",
       "American Dad!            1433.0             1\n",
       "American Horror Story  492815.0             0"
      ]
     },
     "execution_count": 60,
     "metadata": {},
     "output_type": "execute_result"
    }
   ],
   "source": [
    "small_show_name_id_tmdb"
   ]
  },
  {
   "cell_type": "code",
   "execution_count": 61,
   "metadata": {},
   "outputs": [
    {
     "data": {
      "text/html": [
       "<div>\n",
       "<style scoped>\n",
       "    .dataframe tbody tr th:only-of-type {\n",
       "        vertical-align: middle;\n",
       "    }\n",
       "\n",
       "    .dataframe tbody tr th {\n",
       "        vertical-align: top;\n",
       "    }\n",
       "\n",
       "    .dataframe thead th {\n",
       "        text-align: right;\n",
       "    }\n",
       "</style>\n",
       "<table border=\"1\" class=\"dataframe\">\n",
       "  <thead>\n",
       "    <tr style=\"text-align: right;\">\n",
       "      <th></th>\n",
       "      <th>0</th>\n",
       "      <th>adult</th>\n",
       "      <th>backdrop_path</th>\n",
       "      <th>first_air_date</th>\n",
       "      <th>genre_ids</th>\n",
       "      <th>id</th>\n",
       "      <th>name</th>\n",
       "      <th>origin_country</th>\n",
       "      <th>original_language</th>\n",
       "      <th>original_name</th>\n",
       "      <th>...</th>\n",
       "      <th>title</th>\n",
       "      <th>video</th>\n",
       "      <th>vote_average</th>\n",
       "      <th>vote_count</th>\n",
       "      <th>Title</th>\n",
       "      <th>Date</th>\n",
       "      <th>TV_Show_flag</th>\n",
       "      <th>Show Name</th>\n",
       "      <th>Season</th>\n",
       "      <th>Episode Name</th>\n",
       "    </tr>\n",
       "  </thead>\n",
       "  <tbody>\n",
       "    <tr>\n",
       "      <th>0</th>\n",
       "      <td>NaN</td>\n",
       "      <td>NaN</td>\n",
       "      <td>/fcdqZ9wfQaRqhJraXVHPyZppxWy.jpg</td>\n",
       "      <td>2019-02-14</td>\n",
       "      <td>[10764]</td>\n",
       "      <td>86807</td>\n",
       "      <td>Dating Around</td>\n",
       "      <td>[]</td>\n",
       "      <td>en</td>\n",
       "      <td>Dating Around</td>\n",
       "      <td>...</td>\n",
       "      <td>NaN</td>\n",
       "      <td>NaN</td>\n",
       "      <td>6</td>\n",
       "      <td>1</td>\n",
       "      <td>Dating Around: Season 1: Gurki</td>\n",
       "      <td>2019-03-03</td>\n",
       "      <td>1</td>\n",
       "      <td>Dating Around</td>\n",
       "      <td>Season 1</td>\n",
       "      <td>Gurki</td>\n",
       "    </tr>\n",
       "    <tr>\n",
       "      <th>1</th>\n",
       "      <td>NaN</td>\n",
       "      <td>NaN</td>\n",
       "      <td>/fcdqZ9wfQaRqhJraXVHPyZppxWy.jpg</td>\n",
       "      <td>2019-02-14</td>\n",
       "      <td>[10764]</td>\n",
       "      <td>86807</td>\n",
       "      <td>Dating Around</td>\n",
       "      <td>[]</td>\n",
       "      <td>en</td>\n",
       "      <td>Dating Around</td>\n",
       "      <td>...</td>\n",
       "      <td>NaN</td>\n",
       "      <td>NaN</td>\n",
       "      <td>6</td>\n",
       "      <td>1</td>\n",
       "      <td>Dating Around: Season 1: Luke</td>\n",
       "      <td>2019-03-03</td>\n",
       "      <td>1</td>\n",
       "      <td>Dating Around</td>\n",
       "      <td>Season 1</td>\n",
       "      <td>Luke</td>\n",
       "    </tr>\n",
       "    <tr>\n",
       "      <th>2</th>\n",
       "      <td>NaN</td>\n",
       "      <td>NaN</td>\n",
       "      <td>/mE3zzMkpP8yqlkzdjPsQmJHceoe.jpg</td>\n",
       "      <td>2019-02-15</td>\n",
       "      <td>[10759, 10765]</td>\n",
       "      <td>75006</td>\n",
       "      <td>The Umbrella Academy</td>\n",
       "      <td>[CA, US]</td>\n",
       "      <td>en</td>\n",
       "      <td>The Umbrella Academy</td>\n",
       "      <td>...</td>\n",
       "      <td>NaN</td>\n",
       "      <td>NaN</td>\n",
       "      <td>7.81</td>\n",
       "      <td>101</td>\n",
       "      <td>The Umbrella Academy: Season 1: We Only See Ea...</td>\n",
       "      <td>2019-02-19</td>\n",
       "      <td>1</td>\n",
       "      <td>The Umbrella Academy</td>\n",
       "      <td>Season 1</td>\n",
       "      <td>We Only See Each Other at Weddings and Funerals</td>\n",
       "    </tr>\n",
       "    <tr>\n",
       "      <th>3</th>\n",
       "      <td>NaN</td>\n",
       "      <td>False</td>\n",
       "      <td>/hDd2RWYR0mwGeF5oms5Ulr9zrhh.jpg</td>\n",
       "      <td>NaN</td>\n",
       "      <td>[35, 10770]</td>\n",
       "      <td>558341</td>\n",
       "      <td>NaN</td>\n",
       "      <td>NaN</td>\n",
       "      <td>en</td>\n",
       "      <td>NaN</td>\n",
       "      <td>...</td>\n",
       "      <td>Trevor Noah: Son of Patricia</td>\n",
       "      <td>False</td>\n",
       "      <td>7.1</td>\n",
       "      <td>34</td>\n",
       "      <td>Trevor Noah: Son of Patricia</td>\n",
       "      <td>2018-11-23</td>\n",
       "      <td>0</td>\n",
       "      <td>Trevor Noah</td>\n",
       "      <td>Son of Patricia</td>\n",
       "      <td>None</td>\n",
       "    </tr>\n",
       "    <tr>\n",
       "      <th>4</th>\n",
       "      <td>NaN</td>\n",
       "      <td>NaN</td>\n",
       "      <td>/yWlcrp0pBvnxRpPrZUrAX0Sh2B9.jpg</td>\n",
       "      <td>2017-09-15</td>\n",
       "      <td>[35, 80]</td>\n",
       "      <td>73126</td>\n",
       "      <td>American Vandal</td>\n",
       "      <td>[US]</td>\n",
       "      <td>en</td>\n",
       "      <td>American Vandal</td>\n",
       "      <td>...</td>\n",
       "      <td>NaN</td>\n",
       "      <td>NaN</td>\n",
       "      <td>7.88</td>\n",
       "      <td>64</td>\n",
       "      <td>American Vandal: Season 1: Nailed</td>\n",
       "      <td>2018-11-19</td>\n",
       "      <td>1</td>\n",
       "      <td>American Vandal</td>\n",
       "      <td>Season 1</td>\n",
       "      <td>Nailed</td>\n",
       "    </tr>\n",
       "  </tbody>\n",
       "</table>\n",
       "<p>5 rows × 25 columns</p>\n",
       "</div>"
      ],
      "text/plain": [
       "     0  adult                     backdrop_path first_air_date  \\\n",
       "0  NaN    NaN  /fcdqZ9wfQaRqhJraXVHPyZppxWy.jpg     2019-02-14   \n",
       "1  NaN    NaN  /fcdqZ9wfQaRqhJraXVHPyZppxWy.jpg     2019-02-14   \n",
       "2  NaN    NaN  /mE3zzMkpP8yqlkzdjPsQmJHceoe.jpg     2019-02-15   \n",
       "3  NaN  False  /hDd2RWYR0mwGeF5oms5Ulr9zrhh.jpg            NaN   \n",
       "4  NaN    NaN  /yWlcrp0pBvnxRpPrZUrAX0Sh2B9.jpg     2017-09-15   \n",
       "\n",
       "        genre_ids      id                  name origin_country  \\\n",
       "0         [10764]   86807         Dating Around             []   \n",
       "1         [10764]   86807         Dating Around             []   \n",
       "2  [10759, 10765]   75006  The Umbrella Academy       [CA, US]   \n",
       "3     [35, 10770]  558341                   NaN            NaN   \n",
       "4        [35, 80]   73126       American Vandal           [US]   \n",
       "\n",
       "  original_language         original_name  ...                         title  \\\n",
       "0                en         Dating Around  ...                           NaN   \n",
       "1                en         Dating Around  ...                           NaN   \n",
       "2                en  The Umbrella Academy  ...                           NaN   \n",
       "3                en                   NaN  ...  Trevor Noah: Son of Patricia   \n",
       "4                en       American Vandal  ...                           NaN   \n",
       "\n",
       "   video vote_average vote_count  \\\n",
       "0    NaN            6          1   \n",
       "1    NaN            6          1   \n",
       "2    NaN         7.81        101   \n",
       "3  False          7.1         34   \n",
       "4    NaN         7.88         64   \n",
       "\n",
       "                                               Title       Date TV_Show_flag  \\\n",
       "0                     Dating Around: Season 1: Gurki 2019-03-03            1   \n",
       "1                      Dating Around: Season 1: Luke 2019-03-03            1   \n",
       "2  The Umbrella Academy: Season 1: We Only See Ea... 2019-02-19            1   \n",
       "3                       Trevor Noah: Son of Patricia 2018-11-23            0   \n",
       "4                  American Vandal: Season 1: Nailed 2018-11-19            1   \n",
       "\n",
       "              Show Name            Season  \\\n",
       "0         Dating Around          Season 1   \n",
       "1         Dating Around          Season 1   \n",
       "2  The Umbrella Academy          Season 1   \n",
       "3           Trevor Noah   Son of Patricia   \n",
       "4       American Vandal          Season 1   \n",
       "\n",
       "                                       Episode Name  \n",
       "0                                             Gurki  \n",
       "1                                              Luke  \n",
       "2   We Only See Each Other at Weddings and Funerals  \n",
       "3                                              None  \n",
       "4                                            Nailed  \n",
       "\n",
       "[5 rows x 25 columns]"
      ]
     },
     "execution_count": 61,
     "metadata": {},
     "output_type": "execute_result"
    }
   ],
   "source": [
    "combo_data_small.head()"
   ]
  },
  {
   "cell_type": "code",
   "execution_count": 62,
   "metadata": {},
   "outputs": [],
   "source": [
    "def search_results_iter(tv_row):\n",
    "#     print(tv_row)\n",
    "    tv_row = tv_row[1]\n",
    "    if tv_row['TV_Show_flag'] == 1:\n",
    "        res = search.tv(query=tv_row['Show Name'])\n",
    "    else:\n",
    "        res = search.movie(query=tv_row['Show Name'])\n",
    "        \n",
    "    # Per API Docs, can only submit 40 requests every 10s \n",
    "    # So 4 requests a second or 1 request every 0.25 s \n",
    "    time.sleep(0.3)\n",
    "    try:\n",
    "        res_pt2 = res['results'][0]\n",
    "    except:\n",
    "        res_pt2 = np.nan\n",
    "    return(res_pt2)"
   ]
  },
  {
   "cell_type": "code",
   "execution_count": 63,
   "metadata": {},
   "outputs": [],
   "source": [
    "def get_full_TV_response(tv_row):\n",
    "    tv_row = tv_row[1]\n",
    "    if tv_row['TV_Show_flag'] == 1:\n",
    "        res = tmdb.TV(tv_row['id']).info()\n",
    "    else:\n",
    "        res = tmdb.Movies(tv_row['id']).info()\n",
    "    \n",
    "    return(res)"
   ]
  },
  {
   "cell_type": "code",
   "execution_count": 64,
   "metadata": {},
   "outputs": [],
   "source": [
    "# Full results for small dataset \n",
    "full_results = [get_full_TV_response(tv_row) for tv_row in small_show_name_id_tmdb.iterrows()]"
   ]
  },
  {
   "cell_type": "code",
   "execution_count": 65,
   "metadata": {
    "scrolled": true
   },
   "outputs": [
    {
     "data": {
      "text/plain": [
       "[{'adult': False,\n",
       "  'backdrop_path': '/fhSkVpRCg5s9b8nmdSS77Q1onhv.jpg',\n",
       "  'belongs_to_collection': None,\n",
       "  'budget': 0,\n",
       "  'genres': [{'id': 99, 'name': 'Documentary'}],\n",
       "  'homepage': None,\n",
       "  'id': 407806,\n",
       "  'imdb_id': 'tt5895028',\n",
       "  'original_language': 'en',\n",
       "  'original_title': '13th',\n",
       "  'overview': \"An in-depth look at the prison system in the United States and how it reveals the nation's history of racial inequality.\",\n",
       "  'popularity': 7.026,\n",
       "  'poster_path': '/tcKNWD6IFPPsvkpvyZ548naz0is.jpg',\n",
       "  'production_companies': [{'id': 82852,\n",
       "    'logo_path': None,\n",
       "    'name': 'Kandoo Films',\n",
       "    'origin_country': 'US'}],\n",
       "  'production_countries': [{'iso_3166_1': 'US',\n",
       "    'name': 'United States of America'}],\n",
       "  'release_date': '2016-10-07',\n",
       "  'revenue': 0,\n",
       "  'runtime': 100,\n",
       "  'spoken_languages': [{'iso_639_1': 'en', 'name': 'English'}],\n",
       "  'status': 'Released',\n",
       "  'tagline': 'From slave to criminal with one amendment',\n",
       "  'title': '13th',\n",
       "  'video': False,\n",
       "  'vote_average': 8.0,\n",
       "  'vote_count': 261},\n",
       " {'backdrop_path': '/cK5AbLFBY2JDoqEdVXk0697e2SV.jpg',\n",
       "  'created_by': [{'id': 56323,\n",
       "    'credit_id': '525775f7760ee36aaa51e16e',\n",
       "    'name': 'Tina Fey',\n",
       "    'gender': 1,\n",
       "    'profile_path': '/7yJNtRogHfDFkeB6I0WCjCwTwfh.jpg'}],\n",
       "  'episode_run_time': [22],\n",
       "  'first_air_date': '2006-10-11',\n",
       "  'genres': [{'id': 35, 'name': 'Comedy'}],\n",
       "  'homepage': 'http://www.nbc.com/30-rock/',\n",
       "  'id': 4608,\n",
       "  'in_production': False,\n",
       "  'languages': ['en'],\n",
       "  'last_air_date': '2013-01-31',\n",
       "  'last_episode_to_air': {'air_date': '2013-01-31',\n",
       "   'episode_number': 13,\n",
       "   'id': 334209,\n",
       "   'name': 'Last Lunch',\n",
       "   'overview': 'Jenna prepares an emotional farewell song as the cast and crew reunite for one final \"TGS\".',\n",
       "   'production_code': '',\n",
       "   'season_number': 7,\n",
       "   'show_id': 4608,\n",
       "   'still_path': '/vK3tRTGfVsXwMXazmeL4hGgY5hr.jpg',\n",
       "   'vote_average': 8.5,\n",
       "   'vote_count': 8},\n",
       "  'name': '30 Rock',\n",
       "  'next_episode_to_air': None,\n",
       "  'networks': [{'name': 'NBC',\n",
       "    'id': 6,\n",
       "    'logo_path': '/o3OedEP0f9mfZr33jz2BfXOUK5.png',\n",
       "    'origin_country': 'US'}],\n",
       "  'number_of_episodes': 138,\n",
       "  'number_of_seasons': 7,\n",
       "  'origin_country': ['US'],\n",
       "  'original_language': 'en',\n",
       "  'original_name': '30 Rock',\n",
       "  'overview': \"30 Rock is an American television comedy series that ran on NBC from October 11, 2006, to January 31, 2013, and was created by Tina Fey. The series, which is loosely based on Fey's experiences as head writer for Saturday Night Live, takes place behind the scenes of a fictional live sketch comedy series depicted as airing on NBC. The series' name refers to 30 Rockefeller Plaza in New York City, the address of the GE Building, in which the NBC Studios are located.\",\n",
       "  'popularity': 22.962,\n",
       "  'poster_path': '/k3RbNzPEPW0cmkfkn1xVCTk3Qde.jpg',\n",
       "  'production_companies': [],\n",
       "  'seasons': [{'air_date': '2005-06-27',\n",
       "    'episode_count': 3,\n",
       "    'id': 14053,\n",
       "    'name': 'Specials',\n",
       "    'overview': '',\n",
       "    'poster_path': '/j3FiH8WUhHU44v3giV9EfWNb5KP.jpg',\n",
       "    'season_number': 0},\n",
       "   {'air_date': '2006-10-11',\n",
       "    'episode_count': 21,\n",
       "    'id': 14048,\n",
       "    'name': 'Season 1',\n",
       "    'overview': 'The first season of the television comedy series 30 Rock originally aired between October 11, 2006 and April 26, 2007 on NBC in the United States. The season was produced by Broadway Video, Little Stranger and NBC Universal, and the executive producers were series creator Tina Fey, Lorne Michaels, Joann Alfano, Marci Klein, and David Miner.\\n\\nThe series focuses on TGS with Tracy Jordan, a fictional sketch comedy series, and its head writer Liz Lemon, portrayed by Fey, as she juggles her job and her personal life. The season consisted of 21 episodes; 19 episodes were approximately 22 minutes long, and the other two episodes were approximately 26 minutes long due to NBC \"supersizing\" those episodes. The season moved timeslots three times during its run. The first four episodes aired on Wednesdays at 8:00 pm, the next thirteen episodes aired on Thursdays at 9:30 pm, and the final four episodes aired on Thursdays at 9:00 pm.\\n\\nThe season received generally favorable reviews, and was nominated for ten Emmy Awards: six Primetime Emmy Awards and four Creative Arts Emmy Awards. Despite critical success, the series struggled in the ratings, and the first season averaged 5.8 million viewers for all 21 episodes. The 30 Rock first season DVD box set was released on September 4, 2007 in Region 1 format, and was released on March 17, 2008 in Region 2 format.',\n",
       "    'poster_path': '/wBFLjTK6LdCGC8g5lMaOpgTcOYe.jpg',\n",
       "    'season_number': 1},\n",
       "   {'air_date': '2007-10-04',\n",
       "    'episode_count': 15,\n",
       "    'id': 14049,\n",
       "    'name': 'Season 2',\n",
       "    'overview': 'The second season of 30 Rock, an American television comedy series, originally aired between October 4, 2007 and May 8, 2008 on NBC in the United States.\\n\\nIn a season shortened by the 2007–2008 Writers Guild of America strike, the fifteen episodes of the season initially aired as part of NBC\\'s \"Comedy Night Done Right\". The 30 Rock season two DVD box set was released in Region 1 on October 7, 2008 and subsequently released in regions 2 and 4.',\n",
       "    'poster_path': '/kEj4Fu69V65qLbJd82oKfDFZf7I.jpg',\n",
       "    'season_number': 2},\n",
       "   {'air_date': '2010-12-13',\n",
       "    'episode_count': 22,\n",
       "    'id': 14050,\n",
       "    'name': 'Season 3',\n",
       "    'overview': 'The third season of 30 Rock, an American television comedy series, consists of 22 episodes and began airing on October 30, 2008 on the NBC network in the United States. The season was produced by Broadway Video, Little Stranger, and NBC Universal; the executive producers were series creator Tina Fey, Lorne Michaels, Marci Klein, David Miner, and Robert Carlock.\\n\\nIn this season, Liz focuses heavily on her personal life, trying to adopt a child and find a new romantic partner. Meanwhile, Jack Donaghy pursues a new relationship, Jenna Maroney undertakes a new Janis Joplin-based film project, and Tracy Jordan enjoys the success of his video game developed at the end of the previous season.\\n\\nThe third season aired under NBC\\'s promotional banner \"Comedy Night Done Right\" on Thursdays at 9:30 p.m. Eastern Time. The season was critically acclaimed and received 22 Emmy Award nominations, the most for a single show in 2009. The nominations broke 30 Rock\\'s own record for the most nominated comedy in a single Primetime Emmy Award ceremony. The season was released on DVD as a three-disc boxed set under the title 30 Rock: Season 3 on September 22, 2009, by Universal Studios.',\n",
       "    'poster_path': '/wy1l2UaMZWMaigeYcjQiRCkA1V7.jpg',\n",
       "    'season_number': 3},\n",
       "   {'air_date': '2011-07-04',\n",
       "    'episode_count': 22,\n",
       "    'id': 14051,\n",
       "    'name': 'Season 4',\n",
       "    'overview': 'The fourth season of 30 Rock, an American television comedy series, consists of 22 episodes and began airing on October 15, 2009, on the NBC network in the United States. The season was produced by Broadway Video, Little Stranger, and NBC Universal; the executive producers were series creator Tina Fey, Lorne Michaels, Marci Klein, David Miner, and Robert Carlock.\\n\\n30 Rock is centered on The Girlie Show with Tracy Jordan, a fictional sketch comedy series, and its head writer Liz Lemon, portrayed by Fey. The series follows Lemon as she juggles her job and her personal life. Early in the season Jack Donaghy and Liz work to find a new cast member for TGS. The season also sees NBC being purchased by the fictional company Kabletown, a fictionalized depiction of the acquisition of NBC Universal by cable company Comcast. Additionally, Liz has an ongoing relationship with a man she thought might be her \"Future Husband\" later in the season.\\n\\nDuring the 2009–2010 upfront presentation on May 19, 2009, NBC announced that the show\\'s fourth season, following the precedent set by its third season, would premiere several weeks behind the rest of the network\\'s Thursday night lineup following a multi-week run of Saturday Night Live Weekend Update Thursday specials. On June 25, NBC released its full fall premiere schedule, with 30 Rock returning on October 15, 2009. The fourth season aired under NBC\\'s promotional banner \"Comedy Night Done Right\" on Thursdays at 9:30 p.m. Eastern Time. The season drew 15 Primetime Emmy Award nominations, down from its previous record breaking totals of 17 and 22 in the second and third seasons, respectively. The season was released on DVD in the United States on September 21, 2010, as a three-disc set.',\n",
       "    'poster_path': '/8gPX4apKoabSpVpksk5C5I1swNJ.jpg',\n",
       "    'season_number': 4},\n",
       "   {'air_date': '2011-12-07',\n",
       "    'episode_count': 23,\n",
       "    'id': 14052,\n",
       "    'name': 'Season 5',\n",
       "    'overview': \"The fifth season of 30 Rock, an American television comedy series on the NBC network in the United States, began airing on September 23, 2010. NBC announced on March 5, 2010 that 30 Rock would be returning for a fifth season in the 2010–2011 television season. Beginning with episode 11, 30 Rock was moved to the 10:00 PM timeslot, but, as a consolation, was renewed earlier than the other NBC sitcoms. During this time, Tracy Morgan underwent an emergency operation, causing his character to be written out for several episodes.\\n\\nOn July 31, 2010, NBC announced that an episode of 30 Rock's fifth season would be filmed and broadcast live, twice, on the evening of October 14, 2010. The two separate recordings resulted in a live telecast of the episode to American viewers in both the West and East Coast. The episode was a ratings success and was met with very positive reviews. The season also featured the show's 100th episode, which aired as a one-hour episode.\",\n",
       "    'poster_path': '/6FkKAh61OENfgh4MuV5fkCuuA2s.jpg',\n",
       "    'season_number': 5},\n",
       "   {'air_date': '2012-01-13',\n",
       "    'episode_count': 22,\n",
       "    'id': 14054,\n",
       "    'name': 'Season 6',\n",
       "    'overview': \"The sixth season of 30 Rock, an American television comedy series on the NBC network in the United States, began airing on January 12, 2012. 30 Rock was renewed for a sixth season by NBC on November 15, 2010. The season began airing mid-season to accommodate Tina Fey's pregnancy. On November 14, 2011, NBC announced that 30 Rock would return at the new time of 8:00 pm.\\n\\nThis season was initially expected to be Alec Baldwin's last, as he had announced he would be looking to expand into other forms of media. However, in January 2012, Baldwin confirmed that he would remain for the seventh and final season of 30 Rock.\",\n",
       "    'poster_path': '/49uHRkie4X2r8euZd1CeZNNDDWa.jpg',\n",
       "    'season_number': 6},\n",
       "   {'air_date': '2012-10-04',\n",
       "    'episode_count': 13,\n",
       "    'id': 14055,\n",
       "    'name': 'Season 7',\n",
       "    'overview': 'The seventh and final season of 30 Rock, an American television comedy series on the NBC network in the United States, began airing on October 4, 2012. 30 Rock was renewed for a seventh and final season of 13 episodes on May 10, 2012, to air on Thursdays at 8:00/7:00c. The hour-long series finale wrapped filming on December 19, 2012 and aired on January 31, 2013.\\n\\nAlec Baldwin reportedly approached NBC and offered to cut his pay in order for 30 Rock to be renewed for a full seventh and eighth season. He stated the following on October 4, 2012: \"I offered NBC to cut my pay 20% in order to have a full 7th and 8th seasons of 30 Rock. I realize times have changed\". The season drew 13 Primetime Emmy Award nominations, the most of any comedy series for the year 2013, ultimately winning two, including one for Tina Fey and Tracey Wigfield\\'s writing for the series finale, \"Last Lunch\".\\n\\nIn the United Kingdom the rights for the seventh season were not picked up by previous broadcaster Comedy Central leaving UK fans unable to watch the show. As yet there is also no news of a DVD release outside of the USA.',\n",
       "    'poster_path': '/j6Ak05lBu5j8iBfMquqACBRktQ5.jpg',\n",
       "    'season_number': 7}],\n",
       "  'status': 'Ended',\n",
       "  'type': 'Scripted',\n",
       "  'vote_average': 7.3,\n",
       "  'vote_count': 281},\n",
       " {'backdrop_path': '/xETbCo8l06poxFUgbtaUeKmLadz.jpg',\n",
       "  'created_by': [{'id': 20294,\n",
       "    'credit_id': '581280ecc3a3687477018c1e',\n",
       "    'name': 'Laeta Kalogridis',\n",
       "    'profile_path': '/vfC4zu2BU6zAABpQZTnzbya2OGU.jpg'}],\n",
       "  'episode_run_time': [60],\n",
       "  'first_air_date': '2018-02-02',\n",
       "  'genres': [{'id': 80, 'name': 'Crime'},\n",
       "   {'id': 9648, 'name': 'Mystery'},\n",
       "   {'id': 10765, 'name': 'Sci-Fi & Fantasy'},\n",
       "   {'id': 18, 'name': 'Drama'}],\n",
       "  'homepage': 'https://www.netflix.com/title/80097140',\n",
       "  'id': 68421,\n",
       "  'in_production': True,\n",
       "  'languages': ['en'],\n",
       "  'last_air_date': '2018-02-02',\n",
       "  'last_episode_to_air': {'air_date': '2018-02-02',\n",
       "   'episode_number': 10,\n",
       "   'id': 1402150,\n",
       "   'name': 'The Killers',\n",
       "   'overview': 'As a cornered Kovacs braces for a final showdown in the sky, a new hero emerges and more buried secrets come to light.',\n",
       "   'production_code': '',\n",
       "   'season_number': 1,\n",
       "   'show_id': 68421,\n",
       "   'still_path': '/6rs8oCBfY7ohnhPjOEYT3dnMrUf.jpg',\n",
       "   'vote_average': 7.571,\n",
       "   'vote_count': 14},\n",
       "  'name': 'Altered Carbon',\n",
       "  'next_episode_to_air': None,\n",
       "  'networks': [{'name': 'Netflix',\n",
       "    'id': 213,\n",
       "    'logo_path': '/wwemzKWzjKYJFfCeiB57q3r4Bcm.png',\n",
       "    'origin_country': ''}],\n",
       "  'number_of_episodes': 10,\n",
       "  'number_of_seasons': 2,\n",
       "  'origin_country': ['US'],\n",
       "  'original_language': 'en',\n",
       "  'original_name': 'Altered Carbon',\n",
       "  'overview': 'After 250 years on ice, a prisoner returns to life in a new body with one chance to win his freedom: by solving a mind-bending murder.',\n",
       "  'popularity': 22.195,\n",
       "  'poster_path': '/pZg2NUDPJA54AmDs1Y1ZLizBrpd.jpg',\n",
       "  'production_companies': [{'id': 34982,\n",
       "    'logo_path': '/uvTmiRZzNfG88dVXi9hQ7eFNirq.png',\n",
       "    'name': 'Mythology Entertainment',\n",
       "    'origin_country': 'US'},\n",
       "   {'id': 87731,\n",
       "    'logo_path': '/8PeKdSO13vYTod2HAJsV2m7mRr0.png',\n",
       "    'name': 'Skydance Television',\n",
       "    'origin_country': 'US'}],\n",
       "  'seasons': [{'air_date': '2018-02-02',\n",
       "    'episode_count': 10,\n",
       "    'id': 81447,\n",
       "    'name': 'Season 1',\n",
       "    'overview': 'In a future where humans can transfer their minds from body to body, a rebel is brought back to life to solve a twisted, high-stakes murder case.',\n",
       "    'poster_path': '/kDHceoxkrdtATqCGVozoLyfQKSC.jpg',\n",
       "    'season_number': 1},\n",
       "   {'air_date': None,\n",
       "    'episode_count': 0,\n",
       "    'id': 120972,\n",
       "    'name': 'Season 2',\n",
       "    'overview': '',\n",
       "    'poster_path': None,\n",
       "    'season_number': 2}],\n",
       "  'status': 'Returning Series',\n",
       "  'type': 'Scripted',\n",
       "  'vote_average': 7.9,\n",
       "  'vote_count': 379},\n",
       " {'backdrop_path': '/vddYkC55H3DqWK5cG5hepSnhzGP.jpg',\n",
       "  'created_by': [{'id': 1224449,\n",
       "    'credit_id': '5256e83c19c2956ff60ed7e7',\n",
       "    'name': 'Mike Barker',\n",
       "    'gender': 0,\n",
       "    'profile_path': '/4MDCzn2GngP59eESydoQ5in0PZP.jpg'},\n",
       "   {'id': 1224452,\n",
       "    'credit_id': '5256e83c19c2956ff60ed7ed',\n",
       "    'name': 'Matt Weitzman',\n",
       "    'gender': 0,\n",
       "    'profile_path': None},\n",
       "   {'id': 52139,\n",
       "    'credit_id': '5256e83c19c2956ff60ed821',\n",
       "    'name': 'Seth MacFarlane',\n",
       "    'gender': 2,\n",
       "    'profile_path': '/4N0P6CN6HfnswVBIXzdUWPQ1cRN.jpg'}],\n",
       "  'episode_run_time': [22],\n",
       "  'first_air_date': '2005-02-06',\n",
       "  'genres': [{'id': 16, 'name': 'Animation'}, {'id': 35, 'name': 'Comedy'}],\n",
       "  'homepage': 'http://www.tbs.com/shows/american-dad.html',\n",
       "  'id': 1433,\n",
       "  'in_production': True,\n",
       "  'languages': ['en'],\n",
       "  'last_air_date': '2019-04-15',\n",
       "  'last_episode_to_air': {'air_date': '2019-04-15',\n",
       "   'episode_number': 22,\n",
       "   'id': 1729191,\n",
       "   'name': 'Fantasy Baseball',\n",
       "   'overview': 'Steve tries to get into baseball to connect with Stan. Roger creates real life drama for Francine after her favorite soap opera is cancelled.',\n",
       "   'production_code': 'DAJN01',\n",
       "   'season_number': 15,\n",
       "   'show_id': 1433,\n",
       "   'still_path': '/oziAsScGwD9vtcutngaS69C3qpx.jpg',\n",
       "   'vote_average': 0.0,\n",
       "   'vote_count': 0},\n",
       "  'name': 'American Dad!',\n",
       "  'next_episode_to_air': {'air_date': '2019-04-22',\n",
       "   'episode_number': 23,\n",
       "   'id': 1729192,\n",
       "   'name': 'I Am The Jeans: The Gina Lavetti Story',\n",
       "   'overview': \"Francine tries to be a better friend to one of Roger's personas who is selling her homemade jeans on TV. Stan and Steve swap eyebrows.\",\n",
       "   'production_code': 'DAJN04',\n",
       "   'season_number': 15,\n",
       "   'show_id': 1433,\n",
       "   'still_path': None,\n",
       "   'vote_average': 0.0,\n",
       "   'vote_count': 0},\n",
       "  'networks': [{'name': 'FOX',\n",
       "    'id': 19,\n",
       "    'logo_path': '/1DSpHrWyOORkL9N2QHX7Adt31mQ.png',\n",
       "    'origin_country': 'US'},\n",
       "   {'name': 'TBS',\n",
       "    'id': 68,\n",
       "    'logo_path': '/65r0kR6MfOBYF0gEQsJGM6v5fEG.png',\n",
       "    'origin_country': 'US'}],\n",
       "  'number_of_episodes': 260,\n",
       "  'number_of_seasons': 15,\n",
       "  'origin_country': ['US'],\n",
       "  'original_language': 'en',\n",
       "  'original_name': 'American Dad!',\n",
       "  'overview': 'The series focuses on an eccentric motley crew that is the Smith family and their three housemates: Father, husband, and breadwinner Stan Smith; his better half housewife, Francine Smith; their college-aged daughter, Hayley Smith; and their high-school-aged son, Steve Smith. Outside of the Smith family, there are three additional main characters, including Hayley\\'s boyfriend turned husband, Jeff Fischer; the family\\'s man-in-a-goldfish-body pet, Klaus; and most notably the family\\'s zany alien, Roger, who is \"full of masquerades, brazenness, and shocking antics.\"',\n",
       "  'popularity': 94.144,\n",
       "  'poster_path': '/eo2Xu4UWXHE8UlBlAktNiSsAmfx.jpg',\n",
       "  'production_companies': [{'id': 1556,\n",
       "    'logo_path': '/31h94rG9hzjprXoYNy3L1ErUya2.png',\n",
       "    'name': '20th Century Fox Television',\n",
       "    'origin_country': 'US'},\n",
       "   {'id': 44460,\n",
       "    'logo_path': None,\n",
       "    'name': 'Underdog Productions',\n",
       "    'origin_country': ''},\n",
       "   {'id': 8789,\n",
       "    'logo_path': None,\n",
       "    'name': 'Fuzzy Door Productions',\n",
       "    'origin_country': 'US'}],\n",
       "  'seasons': [{'air_date': '2012-05-06',\n",
       "    'episode_count': 11,\n",
       "    'id': 3816,\n",
       "    'name': 'Specials',\n",
       "    'overview': '',\n",
       "    'poster_path': '/1nHdpuMja8KyEN0Z29dqNBrZLi9.jpg',\n",
       "    'season_number': 0},\n",
       "   {'air_date': '2005-02-06',\n",
       "    'episode_count': 7,\n",
       "    'id': 3811,\n",
       "    'name': 'Season 1',\n",
       "    'overview': 'From the delightfully twisted creative minds behind \\'Family Guy\\' comes \\'American Dad\\', the animated tour de force featuring CIA operative Stan Smith, his outrageous family and Roger, the alcoholic extraterrestrial who lives with them! Follow the adventures of the Smiths from the California desert, where Stan\\'s wife, Francine, relives her teenage years at the Burning Man festival, to Saudi Arabia, where the entire family is sentenced to death by the Vice and Virtue Police! Whether it\\'s rigging elections, erasing memories, casing sleazy strip clubs, or staging \"bum fights\", it\\'s all in a day\\'s work for Stan, and it\\'s all here in the side-splittingly hilarious first season of \\'American Dad\\'!',\n",
       "    'poster_path': '/ryTU5e5B7ZdPtMWud5RS7DmO1DS.jpg',\n",
       "    'season_number': 1},\n",
       "   {'air_date': '2005-09-11',\n",
       "    'episode_count': 16,\n",
       "    'id': 3820,\n",
       "    'name': 'Season 2',\n",
       "    'overview': \"Terrorists (and all you bed-wetting hippie-liberal types) beware! Ultra-right-wing C.I.A. agent Stan Smith is back, taking names, and, well, you know the rest. Join Stan, along with his hilariously off-beat family, as he spans the globe to make the world safe for democracy! If you are ready to support your country, and if you're ready for a widly outrageous animated farce from Mike Barker, Matt Weitzman and Seth MacFarlane, the creative mastermind behind Family Guy, you're ready for American Dad! Volume two. God bless America.\",\n",
       "    'poster_path': '/4JN5VluFBcAcaqBMCscGeKG9Cvc.jpg',\n",
       "    'season_number': 2},\n",
       "   {'air_date': '2006-09-10',\n",
       "    'episode_count': 19,\n",
       "    'id': 3812,\n",
       "    'name': 'Season 3',\n",
       "    'overview': \"C.I.A. weapons expert Stan Smith is back, keeping the homeland secure while alienating his family and terrorising his neighbours in the process. Whether he's saddling up for a mad cow cattle drive or destroying evidence of President Bush's drunken debauchery, Stan does whatever it takes to ensure domestic tranquility and make the world safe for democracy of the ultra-right-wing variety! Join the Smith family and Roger, their alcoholic pet alien, for this hilarious Volume Three of 'American Dad!' God Bless America!\",\n",
       "    'poster_path': '/neoqibZ7iLXaWvJPOHQM7RVMHTh.jpg',\n",
       "    'season_number': 3},\n",
       "   {'air_date': '2007-09-30',\n",
       "    'episode_count': 16,\n",
       "    'id': 3813,\n",
       "    'name': 'Season 4',\n",
       "    'overview': 'Attention, terrorists, pinkos, and hippies: your days are numbered! CIA Agent Stan Smith is back, stopping at nothing to make the world safe for right-wing democracy and provide for his outrageously dysfunctional extended family. Amid botched kidnappings and beefcake body doubles, Stan hosts a torturously funny CIA telethon; his wife, Francine, is reunited with her ex-fiance; and resident-alien Roger hosts a booze-soaked spring break that may just push favorite son Steve all the way through puberty. God bless American Dad!',\n",
       "    'poster_path': '/usNFTDSGBTgqBFaxuMc1n2663lU.jpg',\n",
       "    'season_number': 4},\n",
       "   {'air_date': '2008-09-28',\n",
       "    'episode_count': 20,\n",
       "    'id': 3814,\n",
       "    'name': 'Season 5',\n",
       "    'overview': \"The hilarious, over-the-top adventures of CIA Agent Stan Smith - a red-white-and-blue-blooded, one-man war on terror - and his delightfully dysfunctional family. Volume Five celebrates that great American pastime - revenge! Steve and his friends strike back at Bar Mitzvah boy - Etan Cohen for stealing Steve's girlfriend, Francine puts Stan through the ringer when she finds out he's picked a back-up wife, and Roger unleashes deadly hotdog havoc throughout Langley Falls - all in the name of good old-fashioned vengeance. Getting even is the American way, so don't get mad...get American Dad!\",\n",
       "    'poster_path': '/q5IHwW6eIqxdJUTqwlKcwNRK3AM.jpg',\n",
       "    'season_number': 5},\n",
       "   {'air_date': '2009-09-27',\n",
       "    'episode_count': 18,\n",
       "    'id': 59653,\n",
       "    'name': 'Season 6',\n",
       "    'overview': \"Trigger-happy CIA operative Stan Smith will stop at nothing to defend everything that makes this country great – from strip bars to that most sacred of American institutions, crack cocaine! Whether he's trading brains with a racehorse or rescuing Roger from bloodthirsty revolutionaries, Stan will do whatever it takes to secure the blessings of liberty in this over-the-top salute to the greatest nation on Earth.\",\n",
       "    'poster_path': '/rGrddKfsqK5UpzOQAN8w9mv7Hz7.jpg',\n",
       "    'season_number': 6},\n",
       "   {'air_date': '2010-10-03',\n",
       "    'episode_count': 19,\n",
       "    'id': 3815,\n",
       "    'name': 'Season 7',\n",
       "    'overview': \"It's a time once again to let it all hang out with an all-new volume of animated outrageousness! From the disturbed comic minds of Mike Barker, Matt Weitzman, and Family Guy creator Seth MacFarlane, comes the always insane adventures of CIA operative Stan Smith and his wonderfully twisted family. In the 100th episode, Hayley elopes with Jeff! Other episodes include Stan on jury duty, Steve walking in on his amorous parents, Roger dating Steve's best friend, and yet another American Dad Christmas classic. Plus, there are serial killers, Turkish amphetamines, and evil clones! So, you know, the usual!\",\n",
       "    'poster_path': '/tXYD56GWm25BLZWiAdmjLjDIDoy.jpg',\n",
       "    'season_number': 7},\n",
       "   {'air_date': '2011-09-25',\n",
       "    'episode_count': 18,\n",
       "    'id': 3817,\n",
       "    'name': 'Season 8',\n",
       "    'overview': \"Let your American freak flag fly when you watch this all-new collection of outrageous episodes from the comic minds of Mike Barker, Matt Weitzman and Family Guy creator Seth MacFarlane. Follow the adventures of CIA operative Stan Smith's quirky family as they deal with Stan and Francine's killer hot tub, Steve's lucky panties, Hayley and Jeff adopting an evil child, and Roger wrestling his way into the record books. Loaded with celebrity guest voices, including Sarah Michelle Gellar, CeeLo Green, Alyson Hannigan, Patrick Stewart, Amy Sedaris and more, American Dad! Volume 8 is a star-powered salute to patriotic parody and hardcore hilarity!\",\n",
       "    'poster_path': '/9zpRCvBmYTcbUU1xsV6rvp2dbiy.jpg',\n",
       "    'season_number': 8},\n",
       "   {'air_date': '2012-09-30',\n",
       "    'episode_count': 19,\n",
       "    'id': 3818,\n",
       "    'name': 'Season 9',\n",
       "    'overview': 'Take a “Stan\" against boring, bipartisan comedy with this all-new collection of hilariousuncensored American Dadl episodes from the infinitely creative minds of Mike Barker, Matt Weitzman and Family Guy creator Seth MacFarlane. This outrageous assortment finds Stan and Klaus switching bodies, Steve joining a boy band, Jeff being held prisoner in space, and Roger falling hard for his latest crush...Hayley!',\n",
       "    'poster_path': '/mqqvHAG7x13N2Q834YCUOJ7ch5y.jpg',\n",
       "    'season_number': 9},\n",
       "   {'air_date': '2013-09-29',\n",
       "    'episode_count': 20,\n",
       "    'id': 3819,\n",
       "    'name': 'Season 10',\n",
       "    'overview': 'Belly-laugh up to the bar, folks… and satisfy your thirst for hilarity with the all-new collection of uncensored American Dad! episodes from the spirited minds of Mike Barker, Matt Weitzman and Family Guy creator Seth MacFarlane. Loaded with celebrity guest voices, including Mariah Carey, Terry Crews, Mark Cuban, Zooey Deschanel, Danny Glover and Olivia Wilde, this intoxicating assortment finds Stan fired from the CIA, Francine haunted by a sex-starved ghost, Steve kidnapped by a Christmas demon, and Roger and Klaus on a 100,000-mile road trip. Please watch responsibly.',\n",
       "    'poster_path': '/hOe2CrlU62KZGX4G4guhIvFLzHf.jpg',\n",
       "    'season_number': 10},\n",
       "   {'air_date': '2014-09-14',\n",
       "    'episode_count': 3,\n",
       "    'id': 62470,\n",
       "    'name': 'Season 11',\n",
       "    'overview': '',\n",
       "    'poster_path': '/e1jRryMTxQ2WJ5JeJhWyPSx47D2.jpg',\n",
       "    'season_number': 11},\n",
       "   {'air_date': '2014-10-20',\n",
       "    'episode_count': 15,\n",
       "    'id': 63174,\n",
       "    'name': 'Season 12',\n",
       "    'overview': 'Get ready for full-scale hilarity and huge laughs with this all-new collection of American Dad! episodes from the comically oversized minds of Mike Barker, Matt Weitzman and Family Guy Creator Seth MacFarlane. Bulging with celebrity guest voices, including Kristin Chenoweth, Ted Danson, Kim Kardashian, Dean Norris, Mickey Rooney and Uma Thurman, this outrageous assortment finds Stan miniaturized after seeing a shrink, Steve embraces his inner lesbian, Roger crushing on a crash-landed alien , and the return of Jeff from space?.',\n",
       "    'poster_path': '/xn4zLP9uI7GXkwcWe4OPTIQe9LZ.jpg',\n",
       "    'season_number': 12},\n",
       "   {'air_date': '2016-01-25',\n",
       "    'episode_count': 22,\n",
       "    'id': 69647,\n",
       "    'name': 'Season 13',\n",
       "    'overview': 'Run for your lives! Or better yet, \"Stan\" your ground and enjoy this all-new collection of American Dad! episodes from the explosive comic minds of Mike Barker, Matt Weitzman and Family Guy creator Seth MacFarlane. Stuffed with celebrity guest voices, including Billy Bob Thornton, Joan Cusack, Sam Elliott, Oliver Platt, and not heavy metal rock god James Hetfield, this hilarious assortmend finds the Smith family in a flood of trouble aboard Stan\\'s modern-day ark, a time-travelling Steve trying to save his cool future self, Roger deciding to quit all his personas, and everyone fighting to survive the post-apocalyptic 200th episode.',\n",
       "    'poster_path': '/sIP4PcE09LIZyrUeOASnKQiEnkP.jpg',\n",
       "    'season_number': 13},\n",
       "   {'air_date': '2016-11-07',\n",
       "    'episode_count': 23,\n",
       "    'id': 81478,\n",
       "    'name': 'Season 14',\n",
       "    'overview': '',\n",
       "    'poster_path': '/j0Zkh6odAqhwMxliHWJsENUCG4c.jpg',\n",
       "    'season_number': 14},\n",
       "   {'air_date': '2018-02-12',\n",
       "    'episode_count': 25,\n",
       "    'id': 99270,\n",
       "    'name': 'Season 15',\n",
       "    'overview': '',\n",
       "    'poster_path': '/rjHRFyOE91Iiqwt3gbJaVphaswQ.jpg',\n",
       "    'season_number': 15}],\n",
       "  'status': 'Returning Series',\n",
       "  'type': 'Scripted',\n",
       "  'vote_average': 6.1,\n",
       "  'vote_count': 637},\n",
       " {'adult': False,\n",
       "  'backdrop_path': None,\n",
       "  'belongs_to_collection': None,\n",
       "  'budget': 0,\n",
       "  'genres': [{'id': 99, 'name': 'Documentary'}],\n",
       "  'homepage': None,\n",
       "  'id': 492815,\n",
       "  'imdb_id': 'tt2547870',\n",
       "  'original_language': 'en',\n",
       "  'original_title': 'Behind the Fright: The Making of American Horror Story',\n",
       "  'overview': 'In this video-short go behind the scenes with the cast of \"American Horror Story\" on how the show is made.',\n",
       "  'popularity': 0.6,\n",
       "  'poster_path': '/zXBVEHbeYcYqy2wEatwvWRKBqlW.jpg',\n",
       "  'production_companies': [],\n",
       "  'production_countries': [],\n",
       "  'release_date': '2012-09-25',\n",
       "  'revenue': 0,\n",
       "  'runtime': 25,\n",
       "  'spoken_languages': [],\n",
       "  'status': 'Released',\n",
       "  'tagline': '',\n",
       "  'title': 'Behind the Fright: The Making of American Horror Story',\n",
       "  'video': False,\n",
       "  'vote_average': 7.3,\n",
       "  'vote_count': 3}]"
      ]
     },
     "execution_count": 65,
     "metadata": {},
     "output_type": "execute_result"
    }
   ],
   "source": [
    "full_results"
   ]
  },
  {
   "cell_type": "code",
   "execution_count": 66,
   "metadata": {},
   "outputs": [],
   "source": [
    "tv_resp = tmdb.TV(68421)"
   ]
  },
  {
   "cell_type": "code",
   "execution_count": 67,
   "metadata": {},
   "outputs": [],
   "source": [
    "# results = [search_results_iter(tv_row) for tv_row in data2.iterrows()]\n",
    "# with open('full_search_results.pkl', 'wb') as hnd:\n",
    "#     pickle.dump(results, hnd)"
   ]
  },
  {
   "cell_type": "code",
   "execution_count": 68,
   "metadata": {},
   "outputs": [],
   "source": [
    "with open('full_search_results.pkl', 'rb') as hnd:\n",
    "    results = pickle.load(hnd)"
   ]
  },
  {
   "cell_type": "code",
   "execution_count": 69,
   "metadata": {},
   "outputs": [
    {
     "data": {
      "text/plain": [
       "list"
      ]
     },
     "execution_count": 69,
     "metadata": {},
     "output_type": "execute_result"
    }
   ],
   "source": [
    "type(results)"
   ]
  },
  {
   "cell_type": "code",
   "execution_count": 70,
   "metadata": {},
   "outputs": [
    {
     "data": {
      "text/plain": [
       "1405"
      ]
     },
     "execution_count": 70,
     "metadata": {},
     "output_type": "execute_result"
    }
   ],
   "source": [
    "len(results)"
   ]
  },
  {
   "cell_type": "code",
   "execution_count": 71,
   "metadata": {
    "scrolled": true
   },
   "outputs": [
    {
     "data": {
      "text/plain": [
       "[{'original_name': 'Dating Around',\n",
       "  'id': 86807,\n",
       "  'name': 'Dating Around',\n",
       "  'vote_count': 1,\n",
       "  'vote_average': 6,\n",
       "  'poster_path': '/8Bylu6ne7GRLzdfKEDwWJNfZugP.jpg',\n",
       "  'first_air_date': '2019-02-14',\n",
       "  'popularity': 1.047,\n",
       "  'genre_ids': [10764],\n",
       "  'original_language': 'en',\n",
       "  'backdrop_path': '/fcdqZ9wfQaRqhJraXVHPyZppxWy.jpg',\n",
       "  'overview': 'In each episode of flirtations and fails, one real-life single navigates five blind dates. The mission: Find one match worthy of a second date.',\n",
       "  'origin_country': []},\n",
       " {'original_name': 'Dating Around',\n",
       "  'id': 86807,\n",
       "  'name': 'Dating Around',\n",
       "  'vote_count': 1,\n",
       "  'vote_average': 6,\n",
       "  'poster_path': '/8Bylu6ne7GRLzdfKEDwWJNfZugP.jpg',\n",
       "  'first_air_date': '2019-02-14',\n",
       "  'popularity': 1.047,\n",
       "  'genre_ids': [10764],\n",
       "  'original_language': 'en',\n",
       "  'backdrop_path': '/fcdqZ9wfQaRqhJraXVHPyZppxWy.jpg',\n",
       "  'overview': 'In each episode of flirtations and fails, one real-life single navigates five blind dates. The mission: Find one match worthy of a second date.',\n",
       "  'origin_country': []},\n",
       " {'original_name': 'The Umbrella Academy',\n",
       "  'id': 75006,\n",
       "  'name': 'The Umbrella Academy',\n",
       "  'vote_count': 101,\n",
       "  'vote_average': 7.81,\n",
       "  'poster_path': '/uYHdIs5O8tiU5p6MvUPd2jElOH6.jpg',\n",
       "  'first_air_date': '2019-02-15',\n",
       "  'popularity': 59.649,\n",
       "  'genre_ids': [10759, 10765],\n",
       "  'original_language': 'en',\n",
       "  'backdrop_path': '/mE3zzMkpP8yqlkzdjPsQmJHceoe.jpg',\n",
       "  'overview': \"A dysfunctional family of superheroes comes together to solve the mystery of their father's death, the threat of the apocalypse and more.\",\n",
       "  'origin_country': ['CA', 'US']}]"
      ]
     },
     "execution_count": 71,
     "metadata": {},
     "output_type": "execute_result"
    }
   ],
   "source": [
    "results[:3]"
   ]
  },
  {
   "cell_type": "code",
   "execution_count": null,
   "metadata": {},
   "outputs": [],
   "source": []
  },
  {
   "cell_type": "code",
   "execution_count": 72,
   "metadata": {
    "scrolled": true
   },
   "outputs": [
    {
     "data": {
      "text/plain": [
       "{'backdrop_path': '/xETbCo8l06poxFUgbtaUeKmLadz.jpg',\n",
       " 'created_by': [{'id': 20294,\n",
       "   'credit_id': '581280ecc3a3687477018c1e',\n",
       "   'name': 'Laeta Kalogridis',\n",
       "   'profile_path': '/vfC4zu2BU6zAABpQZTnzbya2OGU.jpg'}],\n",
       " 'episode_run_time': [60],\n",
       " 'first_air_date': '2018-02-02',\n",
       " 'genres': [{'id': 80, 'name': 'Crime'},\n",
       "  {'id': 9648, 'name': 'Mystery'},\n",
       "  {'id': 10765, 'name': 'Sci-Fi & Fantasy'},\n",
       "  {'id': 18, 'name': 'Drama'}],\n",
       " 'homepage': 'https://www.netflix.com/title/80097140',\n",
       " 'id': 68421,\n",
       " 'in_production': True,\n",
       " 'languages': ['en'],\n",
       " 'last_air_date': '2018-02-02',\n",
       " 'last_episode_to_air': {'air_date': '2018-02-02',\n",
       "  'episode_number': 10,\n",
       "  'id': 1402150,\n",
       "  'name': 'The Killers',\n",
       "  'overview': 'As a cornered Kovacs braces for a final showdown in the sky, a new hero emerges and more buried secrets come to light.',\n",
       "  'production_code': '',\n",
       "  'season_number': 1,\n",
       "  'show_id': 68421,\n",
       "  'still_path': '/6rs8oCBfY7ohnhPjOEYT3dnMrUf.jpg',\n",
       "  'vote_average': 7.571,\n",
       "  'vote_count': 14},\n",
       " 'name': 'Altered Carbon',\n",
       " 'next_episode_to_air': None,\n",
       " 'networks': [{'name': 'Netflix',\n",
       "   'id': 213,\n",
       "   'logo_path': '/wwemzKWzjKYJFfCeiB57q3r4Bcm.png',\n",
       "   'origin_country': ''}],\n",
       " 'number_of_episodes': 10,\n",
       " 'number_of_seasons': 2,\n",
       " 'origin_country': ['US'],\n",
       " 'original_language': 'en',\n",
       " 'original_name': 'Altered Carbon',\n",
       " 'overview': 'After 250 years on ice, a prisoner returns to life in a new body with one chance to win his freedom: by solving a mind-bending murder.',\n",
       " 'popularity': 22.195,\n",
       " 'poster_path': '/pZg2NUDPJA54AmDs1Y1ZLizBrpd.jpg',\n",
       " 'production_companies': [{'id': 34982,\n",
       "   'logo_path': '/uvTmiRZzNfG88dVXi9hQ7eFNirq.png',\n",
       "   'name': 'Mythology Entertainment',\n",
       "   'origin_country': 'US'},\n",
       "  {'id': 87731,\n",
       "   'logo_path': '/8PeKdSO13vYTod2HAJsV2m7mRr0.png',\n",
       "   'name': 'Skydance Television',\n",
       "   'origin_country': 'US'}],\n",
       " 'seasons': [{'air_date': '2018-02-02',\n",
       "   'episode_count': 10,\n",
       "   'id': 81447,\n",
       "   'name': 'Season 1',\n",
       "   'overview': 'In a future where humans can transfer their minds from body to body, a rebel is brought back to life to solve a twisted, high-stakes murder case.',\n",
       "   'poster_path': '/kDHceoxkrdtATqCGVozoLyfQKSC.jpg',\n",
       "   'season_number': 1},\n",
       "  {'air_date': None,\n",
       "   'episode_count': 0,\n",
       "   'id': 120972,\n",
       "   'name': 'Season 2',\n",
       "   'overview': '',\n",
       "   'poster_path': None,\n",
       "   'season_number': 2}],\n",
       " 'status': 'Returning Series',\n",
       " 'type': 'Scripted',\n",
       " 'vote_average': 7.9,\n",
       " 'vote_count': 379}"
      ]
     },
     "execution_count": 72,
     "metadata": {},
     "output_type": "execute_result"
    }
   ],
   "source": [
    "tv_resp.info()"
   ]
  },
  {
   "cell_type": "code",
   "execution_count": 73,
   "metadata": {
    "scrolled": false
   },
   "outputs": [
    {
     "data": {
      "text/plain": [
       "60"
      ]
     },
     "execution_count": 73,
     "metadata": {},
     "output_type": "execute_result"
    }
   ],
   "source": [
    "tv_resp.info()['episode_run_time'][0]"
   ]
  },
  {
   "cell_type": "code",
   "execution_count": 74,
   "metadata": {},
   "outputs": [],
   "source": [
    "movie_resp = tmdb.Movies(427451)"
   ]
  },
  {
   "cell_type": "code",
   "execution_count": 75,
   "metadata": {
    "scrolled": true
   },
   "outputs": [
    {
     "data": {
      "text/plain": [
       "{'adult': False,\n",
       " 'backdrop_path': '/3HnawxURqLnl05rNDWwps28eepp.jpg',\n",
       " 'belongs_to_collection': None,\n",
       " 'budget': 100000,\n",
       " 'genres': [{'id': 99, 'name': 'Documentary'}, {'id': 36, 'name': 'History'}],\n",
       " 'homepage': 'https://invisiblemoneydocumentary.wordpress.com/',\n",
       " 'id': 427451,\n",
       " 'imdb_id': 'tt5033790',\n",
       " 'original_language': 'en',\n",
       " 'original_title': 'Banking on Bitcoin',\n",
       " 'overview': \"Not since the invention of the Internet has there been such a disruptive technology as Bitcoin. Bitcoin's early pioneers sought to blur the lines of sovereignty and the financial status quo. After years of underground development Bitcoin grabbed the attention of a curious public, and the ire of the regulators the technology had subverted. After landmark arrests of prominent cyber criminals Bitcoin faces its most severe adversary yet, the very banks it was built to destroy.\",\n",
       " 'popularity': 2.504,\n",
       " 'poster_path': '/umnDgaJ0XFcxaXWhV76ksOtDddw.jpg',\n",
       " 'production_companies': [{'id': 83693,\n",
       "   'logo_path': None,\n",
       "   'name': 'Dynamic Range',\n",
       "   'origin_country': ''},\n",
       "  {'id': 59869,\n",
       "   'logo_path': None,\n",
       "   'name': 'Downtown Community Television Center',\n",
       "   'origin_country': ''},\n",
       "  {'id': 4917,\n",
       "   'logo_path': '/qEoPv39l36BaWHLJ4ln751VpcWC.png',\n",
       "   'name': 'Periscope Entertainment',\n",
       "   'origin_country': 'US'}],\n",
       " 'production_countries': [{'iso_3166_1': 'US',\n",
       "   'name': 'United States of America'}],\n",
       " 'release_date': '2016-12-30',\n",
       " 'revenue': 0,\n",
       " 'runtime': 90,\n",
       " 'spoken_languages': [{'iso_639_1': 'en', 'name': 'English'}],\n",
       " 'status': 'Released',\n",
       " 'tagline': 'In Open-Source We Trust',\n",
       " 'title': 'Banking on Bitcoin',\n",
       " 'video': False,\n",
       " 'vote_average': 6.5,\n",
       " 'vote_count': 54}"
      ]
     },
     "execution_count": 75,
     "metadata": {},
     "output_type": "execute_result"
    }
   ],
   "source": [
    "movie_resp.info()"
   ]
  },
  {
   "cell_type": "code",
   "execution_count": 76,
   "metadata": {},
   "outputs": [
    {
     "data": {
      "text/plain": [
       "90"
      ]
     },
     "execution_count": 76,
     "metadata": {},
     "output_type": "execute_result"
    }
   ],
   "source": [
    "movie_resp.info()['runtime']"
   ]
  },
  {
   "cell_type": "code",
   "execution_count": null,
   "metadata": {},
   "outputs": [],
   "source": []
  },
  {
   "cell_type": "code",
   "execution_count": null,
   "metadata": {},
   "outputs": [],
   "source": []
  },
  {
   "cell_type": "code",
   "execution_count": 82,
   "metadata": {},
   "outputs": [
    {
     "data": {
      "text/plain": [
       "{'air_date': '2019-02-14',\n",
       " 'crew': [],\n",
       " 'episode_number': 1,\n",
       " 'guest_stars': [],\n",
       " 'name': 'Luke',\n",
       " 'overview': \"He may be a ladies' man, but Luke is ready to settle down -- after some light drinking, deep kissing and one date's awkward-but-adorable door snafu.\",\n",
       " 'id': 1707145,\n",
       " 'production_code': '',\n",
       " 'season_number': 1,\n",
       " 'still_path': None,\n",
       " 'vote_average': 0.0,\n",
       " 'vote_count': 0}"
      ]
     },
     "execution_count": 82,
     "metadata": {},
     "output_type": "execute_result"
    }
   ],
   "source": [
    "tv_details.info()"
   ]
  },
  {
   "cell_type": "code",
   "execution_count": 83,
   "metadata": {},
   "outputs": [],
   "source": [
    "tv_season_details = tmdb.TV_Seasons(86807,1)"
   ]
  },
  {
   "cell_type": "code",
   "execution_count": 84,
   "metadata": {
    "scrolled": true
   },
   "outputs": [
    {
     "data": {
      "text/plain": [
       "{'_id': '5c6524ac0e0a2625d197ba24',\n",
       " 'air_date': '2019-02-14',\n",
       " 'episodes': [{'air_date': '2019-02-14',\n",
       "   'episode_number': 1,\n",
       "   'id': 1707145,\n",
       "   'name': 'Luke',\n",
       "   'overview': \"He may be a ladies' man, but Luke is ready to settle down -- after some light drinking, deep kissing and one date's awkward-but-adorable door snafu.\",\n",
       "   'production_code': '',\n",
       "   'season_number': 1,\n",
       "   'show_id': 86807,\n",
       "   'still_path': None,\n",
       "   'vote_average': 0.0,\n",
       "   'vote_count': 0,\n",
       "   'crew': [],\n",
       "   'guest_stars': []},\n",
       "  {'air_date': '2019-02-14',\n",
       "   'episode_number': 2,\n",
       "   'id': 1707146,\n",
       "   'name': 'Gurki',\n",
       "   'overview': 'Fiercely independent Gurki is eager to open up about divorce, until one date radically challenges her candor. Will she back down or speak her mind?',\n",
       "   'production_code': '',\n",
       "   'season_number': 1,\n",
       "   'show_id': 86807,\n",
       "   'still_path': None,\n",
       "   'vote_average': 0.0,\n",
       "   'vote_count': 0,\n",
       "   'crew': [],\n",
       "   'guest_stars': []},\n",
       "  {'air_date': '2019-02-14',\n",
       "   'episode_number': 3,\n",
       "   'id': 1707147,\n",
       "   'name': 'Lex',\n",
       "   'overview': \"Production designer and mustache aficionado Lex is a master of cool, cultured charm. But can he defuse one man's awkward second-date invitation?\",\n",
       "   'production_code': '',\n",
       "   'season_number': 1,\n",
       "   'show_id': 86807,\n",
       "   'still_path': None,\n",
       "   'vote_average': 0.0,\n",
       "   'vote_count': 0,\n",
       "   'crew': [],\n",
       "   'guest_stars': []},\n",
       "  {'air_date': '2019-02-14',\n",
       "   'episode_number': 4,\n",
       "   'id': 1707148,\n",
       "   'name': 'Leonard',\n",
       "   'overview': 'What does love look like after loss? Sweet and sophisticated widower Leonard is ready to find out -- and try his hand at an impromptu dance lesson.',\n",
       "   'production_code': '',\n",
       "   'season_number': 1,\n",
       "   'show_id': 86807,\n",
       "   'still_path': None,\n",
       "   'vote_average': 0.0,\n",
       "   'vote_count': 0,\n",
       "   'crew': [],\n",
       "   'guest_stars': []},\n",
       "  {'air_date': '2019-02-14',\n",
       "   'episode_number': 5,\n",
       "   'id': 1707149,\n",
       "   'name': 'Sarah',\n",
       "   'overview': 'She’s got a thing for a quick wit. But will tech recruiter Sarah find a genuine connection after dinner conversation takes an unexpected turn?',\n",
       "   'production_code': '',\n",
       "   'season_number': 1,\n",
       "   'show_id': 86807,\n",
       "   'still_path': None,\n",
       "   'vote_average': 0.0,\n",
       "   'vote_count': 0,\n",
       "   'crew': [],\n",
       "   'guest_stars': []},\n",
       "  {'air_date': '2019-02-14',\n",
       "   'episode_number': 6,\n",
       "   'id': 1707150,\n",
       "   'name': 'Mila',\n",
       "   'overview': 'Mila knows the ropes of NYC fashion, but she’s brand-new to NYC dating. Will her fresh take serve as a turnoff or seal the deal with the right lady?',\n",
       "   'production_code': '',\n",
       "   'season_number': 1,\n",
       "   'show_id': 86807,\n",
       "   'still_path': None,\n",
       "   'vote_average': 0.0,\n",
       "   'vote_count': 0,\n",
       "   'crew': [],\n",
       "   'guest_stars': []}],\n",
       " 'name': 'Season 1',\n",
       " 'overview': '',\n",
       " 'id': 118834,\n",
       " 'poster_path': '/lhoAp5YxrdKNN2WEbHuzKkLS6tc.jpg',\n",
       " 'season_number': 1}"
      ]
     },
     "execution_count": 84,
     "metadata": {},
     "output_type": "execute_result"
    }
   ],
   "source": [
    "tv_season_details.info()"
   ]
  },
  {
   "cell_type": "code",
   "execution_count": 75,
   "metadata": {},
   "outputs": [],
   "source": [
    "response1 = tv_details.info()"
   ]
  },
  {
   "cell_type": "code",
   "execution_count": 76,
   "metadata": {},
   "outputs": [
    {
     "data": {
      "text/plain": [
       "{'air_date': '2019-02-14',\n",
       " 'crew': [],\n",
       " 'episode_number': 1,\n",
       " 'guest_stars': [],\n",
       " 'name': 'Luke',\n",
       " 'overview': \"He may be a ladies' man, but Luke is ready to settle down -- after some light drinking, deep kissing and one date's awkward-but-adorable door snafu.\",\n",
       " 'id': 1707145,\n",
       " 'production_code': '',\n",
       " 'season_number': 1,\n",
       " 'still_path': None,\n",
       " 'vote_average': 0.0,\n",
       " 'vote_count': 0}"
      ]
     },
     "execution_count": 76,
     "metadata": {},
     "output_type": "execute_result"
    }
   ],
   "source": [
    "response1"
   ]
  },
  {
   "cell_type": "code",
   "execution_count": 77,
   "metadata": {
    "scrolled": true
   },
   "outputs": [
    {
     "data": {
      "text/plain": [
       "['BASE_PATH',\n",
       " 'URLS',\n",
       " '_DELETE',\n",
       " '_GET',\n",
       " '_POST',\n",
       " '__class__',\n",
       " '__delattr__',\n",
       " '__dict__',\n",
       " '__dir__',\n",
       " '__doc__',\n",
       " '__eq__',\n",
       " '__format__',\n",
       " '__ge__',\n",
       " '__getattribute__',\n",
       " '__gt__',\n",
       " '__hash__',\n",
       " '__init__',\n",
       " '__init_subclass__',\n",
       " '__le__',\n",
       " '__lt__',\n",
       " '__module__',\n",
       " '__ne__',\n",
       " '__new__',\n",
       " '__reduce__',\n",
       " '__reduce_ex__',\n",
       " '__repr__',\n",
       " '__setattr__',\n",
       " '__sizeof__',\n",
       " '__str__',\n",
       " '__subclasshook__',\n",
       " '__weakref__',\n",
       " '_get_complete_url',\n",
       " '_get_credit_id_path',\n",
       " '_get_guest_session_id_path',\n",
       " '_get_id_path',\n",
       " '_get_params',\n",
       " '_get_path',\n",
       " '_get_series_id_season_number_episode_number_path',\n",
       " '_get_series_id_season_number_path',\n",
       " '_request',\n",
       " '_set_attrs_to_values',\n",
       " 'air_date',\n",
       " 'base_uri',\n",
       " 'credits',\n",
       " 'crew',\n",
       " 'episode_number',\n",
       " 'external_ids',\n",
       " 'guest_stars',\n",
       " 'headers',\n",
       " 'id',\n",
       " 'images',\n",
       " 'info',\n",
       " 'name',\n",
       " 'overview',\n",
       " 'production_code',\n",
       " 'rating',\n",
       " 'season_number',\n",
       " 'series_id',\n",
       " 'still_path',\n",
       " 'videos',\n",
       " 'vote_average',\n",
       " 'vote_count']"
      ]
     },
     "execution_count": 77,
     "metadata": {},
     "output_type": "execute_result"
    }
   ],
   "source": [
    "dir(tv_details)"
   ]
  },
  {
   "cell_type": "code",
   "execution_count": null,
   "metadata": {},
   "outputs": [],
   "source": []
  },
  {
   "cell_type": "raw",
   "metadata": {},
   "source": []
  },
  {
   "cell_type": "raw",
   "metadata": {},
   "source": [
    "# all_search_results = data2.apply(lambda x:search_results(x))\n",
    "with open('../Data/SearchResults.pkl', 'wb') as hnd:\n",
    "    pickle.dump({'seall_search_resultsts_pd':all_search_results}, hnd)"
   ]
  },
  {
   "cell_type": "code",
   "execution_count": 78,
   "metadata": {
    "scrolled": true
   },
   "outputs": [
    {
     "data": {
      "text/plain": [
       "list"
      ]
     },
     "execution_count": 78,
     "metadata": {},
     "output_type": "execute_result"
    }
   ],
   "source": [
    "type(results)"
   ]
  },
  {
   "cell_type": "code",
   "execution_count": 79,
   "metadata": {},
   "outputs": [],
   "source": [
    "results = all_search_results['all_search_results_list']"
   ]
  },
  {
   "cell_type": "code",
   "execution_count": 80,
   "metadata": {},
   "outputs": [
    {
     "data": {
      "text/plain": [
       "dict_keys(['all_search_results_list'])"
      ]
     },
     "execution_count": 80,
     "metadata": {},
     "output_type": "execute_result"
    }
   ],
   "source": [
    "all_search_results.keys()"
   ]
  },
  {
   "cell_type": "code",
   "execution_count": 81,
   "metadata": {},
   "outputs": [
    {
     "data": {
      "text/plain": [
       "dict"
      ]
     },
     "execution_count": 81,
     "metadata": {},
     "output_type": "execute_result"
    }
   ],
   "source": [
    "type(all_search_results)"
   ]
  },
  {
   "cell_type": "code",
   "execution_count": 82,
   "metadata": {},
   "outputs": [],
   "source": [
    "# all_search_results = data2.apply(lambda x:search_results(x))\n",
    "with open('../Data/SearchResults_list.pkl', 'rb') as hnd:\n",
    "    all_search_results = pickle.load(hnd)"
   ]
  },
  {
   "cell_type": "code",
   "execution_count": 85,
   "metadata": {},
   "outputs": [
    {
     "data": {
      "text/plain": [
       "dict"
      ]
     },
     "execution_count": 85,
     "metadata": {},
     "output_type": "execute_result"
    }
   ],
   "source": [
    "type(all_search_results)"
   ]
  },
  {
   "cell_type": "code",
   "execution_count": 90,
   "metadata": {},
   "outputs": [
    {
     "data": {
      "text/plain": [
       "{'original_name': 'Dating Around',\n",
       " 'id': 86807,\n",
       " 'name': 'Dating Around',\n",
       " 'vote_count': 1,\n",
       " 'vote_average': 6,\n",
       " 'poster_path': '/8Bylu6ne7GRLzdfKEDwWJNfZugP.jpg',\n",
       " 'first_air_date': '2019-02-14',\n",
       " 'popularity': 1.047,\n",
       " 'genre_ids': [10764],\n",
       " 'original_language': 'en',\n",
       " 'backdrop_path': '/fcdqZ9wfQaRqhJraXVHPyZppxWy.jpg',\n",
       " 'overview': 'In each episode of flirtations and fails, one real-life single navigates five blind dates. The mission: Find one match worthy of a second date.',\n",
       " 'origin_country': []}"
      ]
     },
     "execution_count": 90,
     "metadata": {},
     "output_type": "execute_result"
    }
   ],
   "source": [
    "all_search_results['all_search_results_list'][0]"
   ]
  },
  {
   "cell_type": "code",
   "execution_count": null,
   "metadata": {},
   "outputs": [],
   "source": []
  },
  {
   "cell_type": "code",
   "execution_count": null,
   "metadata": {},
   "outputs": [],
   "source": []
  },
  {
   "cell_type": "code",
   "execution_count": null,
   "metadata": {},
   "outputs": [],
   "source": []
  }
 ],
 "metadata": {
  "kernelspec": {
   "display_name": "Python 3",
   "language": "python",
   "name": "python3"
  },
  "language_info": {
   "codemirror_mode": {
    "name": "ipython",
    "version": 3
   },
   "file_extension": ".py",
   "mimetype": "text/x-python",
   "name": "python",
   "nbconvert_exporter": "python",
   "pygments_lexer": "ipython3",
   "version": "3.6.7"
  }
 },
 "nbformat": 4,
 "nbformat_minor": 2
}
