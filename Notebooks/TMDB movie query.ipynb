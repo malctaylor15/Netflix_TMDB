{
 "cells": [
  {
   "cell_type": "markdown",
   "metadata": {},
   "source": [
    "## About Me \n",
    "\n",
    "This notebook is focused on using and querying TMDB for movies efficiently \n",
    "\n",
    "We start by using the logic in eda1.parse netflix data to split title into sections and identify which show are TV Show vs Movies. \n",
    "\n",
    "Next we take the movie list and search using the movie API and select the fields we want from the respoonse. \n",
    "\n",
    "The final logic can be found in the **get_movie_API_results** function \n",
    "\n",
    "Alternate idea: \n",
    "* Create database of all previously searched... no need to recall tmdb API --- can just search ones already archived \n",
    "- Not necessary right now"
   ]
  },
  {
   "cell_type": "code",
   "execution_count": 49,
   "metadata": {},
   "outputs": [],
   "source": [
    "import pandas as pd\n",
    "import numpy as np \n",
    "import matplotlib.pyplot as plt\n",
    "import tmdbsimple as tmdb\n",
    "import os\n",
    "import sys\n",
    "import pickle\n",
    "import time\n",
    "from tqdm import tqdm, tqdm_notebook\n",
    "tqdm.pandas()"
   ]
  },
  {
   "cell_type": "code",
   "execution_count": 16,
   "metadata": {},
   "outputs": [
    {
     "name": "stdout",
     "output_type": "stream",
     "text": [
      "The autoreload extension is already loaded. To reload it, use:\n",
      "  %reload_ext autoreload\n"
     ]
    }
   ],
   "source": [
    "%load_ext autoreload\n",
    "%autoreload 2"
   ]
  },
  {
   "cell_type": "code",
   "execution_count": 17,
   "metadata": {},
   "outputs": [],
   "source": [
    "sys.path.append(os.path.abspath('../src'))"
   ]
  },
  {
   "cell_type": "code",
   "execution_count": 18,
   "metadata": {},
   "outputs": [],
   "source": [
    "with open('../Data/api_key.pkl', 'rb') as hnd:\n",
    "    tmdb.API_KEY = pickle.load(hnd)['api_key']"
   ]
  },
  {
   "cell_type": "code",
   "execution_count": 19,
   "metadata": {},
   "outputs": [],
   "source": [
    "data = pd.read_csv('../Data/NetflixViewingHistory.csv')"
   ]
  },
  {
   "cell_type": "code",
   "execution_count": 20,
   "metadata": {},
   "outputs": [],
   "source": [
    "import gather_data_deprecated as eda1"
   ]
  },
  {
   "cell_type": "code",
   "execution_count": 21,
   "metadata": {},
   "outputs": [
    {
     "name": "stdout",
     "output_type": "stream",
     "text": [
      "Total number of TV Show + Movies:  1405\n",
      "TV Show vs Movie\n",
      "Dataframe shape:  (1405, 6)\n"
     ]
    }
   ],
   "source": [
    "netflix_df = eda1.parse_netflix(data)"
   ]
  },
  {
   "cell_type": "code",
   "execution_count": 22,
   "metadata": {},
   "outputs": [],
   "source": [
    "shows = netflix_df[netflix_df['TV_Show_flag'] == 'TV Show']\n",
    "movies = netflix_df[netflix_df['TV_Show_flag'] == 'Movie']"
   ]
  },
  {
   "cell_type": "code",
   "execution_count": 23,
   "metadata": {},
   "outputs": [],
   "source": [
    "search= tmdb.Search()"
   ]
  },
  {
   "cell_type": "markdown",
   "metadata": {},
   "source": [
    "## Start with Movies"
   ]
  },
  {
   "cell_type": "code",
   "execution_count": 24,
   "metadata": {},
   "outputs": [
    {
     "data": {
      "text/html": [
       "<div>\n",
       "<style scoped>\n",
       "    .dataframe tbody tr th:only-of-type {\n",
       "        vertical-align: middle;\n",
       "    }\n",
       "\n",
       "    .dataframe tbody tr th {\n",
       "        vertical-align: top;\n",
       "    }\n",
       "\n",
       "    .dataframe thead th {\n",
       "        text-align: right;\n",
       "    }\n",
       "</style>\n",
       "<table border=\"1\" class=\"dataframe\">\n",
       "  <thead>\n",
       "    <tr style=\"text-align: right;\">\n",
       "      <th></th>\n",
       "      <th>Title</th>\n",
       "      <th>Date</th>\n",
       "      <th>Show Name</th>\n",
       "      <th>Season</th>\n",
       "      <th>Episode Name</th>\n",
       "      <th>TV_Show_flag</th>\n",
       "    </tr>\n",
       "  </thead>\n",
       "  <tbody>\n",
       "    <tr>\n",
       "      <th>3</th>\n",
       "      <td>Trevor Noah: Son of Patricia</td>\n",
       "      <td>2018-11-23</td>\n",
       "      <td>Trevor Noah</td>\n",
       "      <td>Son of Patricia</td>\n",
       "      <td>None</td>\n",
       "      <td>Movie</td>\n",
       "    </tr>\n",
       "    <tr>\n",
       "      <th>19</th>\n",
       "      <td>Captain Underpants: The First Epic Movie</td>\n",
       "      <td>2018-06-07</td>\n",
       "      <td>Captain Underpants</td>\n",
       "      <td>The First Epic Movie</td>\n",
       "      <td>None</td>\n",
       "      <td>Movie</td>\n",
       "    </tr>\n",
       "    <tr>\n",
       "      <th>66</th>\n",
       "      <td>Saving Capitalism</td>\n",
       "      <td>2017-12-07</td>\n",
       "      <td>Saving Capitalism</td>\n",
       "      <td>None</td>\n",
       "      <td>None</td>\n",
       "      <td>Movie</td>\n",
       "    </tr>\n",
       "    <tr>\n",
       "      <th>67</th>\n",
       "      <td>Betting on Zero</td>\n",
       "      <td>2017-12-07</td>\n",
       "      <td>Betting on Zero</td>\n",
       "      <td>None</td>\n",
       "      <td>None</td>\n",
       "      <td>Movie</td>\n",
       "    </tr>\n",
       "    <tr>\n",
       "      <th>81</th>\n",
       "      <td>Banking on Bitcoin</td>\n",
       "      <td>2017-11-04</td>\n",
       "      <td>Banking on Bitcoin</td>\n",
       "      <td>None</td>\n",
       "      <td>None</td>\n",
       "      <td>Movie</td>\n",
       "    </tr>\n",
       "  </tbody>\n",
       "</table>\n",
       "</div>"
      ],
      "text/plain": [
       "                                       Title       Date           Show Name  \\\n",
       "3               Trevor Noah: Son of Patricia 2018-11-23         Trevor Noah   \n",
       "19  Captain Underpants: The First Epic Movie 2018-06-07  Captain Underpants   \n",
       "66                         Saving Capitalism 2017-12-07   Saving Capitalism   \n",
       "67                           Betting on Zero 2017-12-07     Betting on Zero   \n",
       "81                        Banking on Bitcoin 2017-11-04  Banking on Bitcoin   \n",
       "\n",
       "                   Season Episode Name TV_Show_flag  \n",
       "3         Son of Patricia         None        Movie  \n",
       "19   The First Epic Movie         None        Movie  \n",
       "66                   None         None        Movie  \n",
       "67                   None         None        Movie  \n",
       "81                   None         None        Movie  "
      ]
     },
     "execution_count": 24,
     "metadata": {},
     "output_type": "execute_result"
    }
   ],
   "source": [
    "movies.head()"
   ]
  },
  {
   "cell_type": "code",
   "execution_count": 25,
   "metadata": {},
   "outputs": [
    {
     "data": {
      "text/plain": [
       "Title           Trevor Noah: Son of Patricia\n",
       "Date                     2018-11-23 00:00:00\n",
       "Show Name                        Trevor Noah\n",
       "Season                       Son of Patricia\n",
       "Episode Name                            None\n",
       "TV_Show_flag                           Movie\n",
       "Name: 3, dtype: object"
      ]
     },
     "execution_count": 25,
     "metadata": {},
     "output_type": "execute_result"
    }
   ],
   "source": [
    "row1 = movies.iloc[0]\n",
    "row1"
   ]
  },
  {
   "cell_type": "code",
   "execution_count": 26,
   "metadata": {},
   "outputs": [
    {
     "data": {
      "text/plain": [
       "Title           Captain Underpants: The First Epic Movie\n",
       "Date                                 2018-06-07 00:00:00\n",
       "Show Name                             Captain Underpants\n",
       "Season                              The First Epic Movie\n",
       "Episode Name                                        None\n",
       "TV_Show_flag                                       Movie\n",
       "Name: 19, dtype: object"
      ]
     },
     "execution_count": 26,
     "metadata": {},
     "output_type": "execute_result"
    }
   ],
   "source": [
    "row2 = movies.iloc[1] #6\n",
    "row2"
   ]
  },
  {
   "cell_type": "code",
   "execution_count": 27,
   "metadata": {},
   "outputs": [
    {
     "name": "stdout",
     "output_type": "stream",
     "text": [
      "1\n"
     ]
    }
   ],
   "source": [
    "search_results = search.movie(query=row2['Title'])\n",
    "n_results = len(search_results['results'])\n",
    "print(n_results)\n",
    "temp_id = search_results['results'][0]['id']\n",
    "full_movie_results = tmdb.Movies(temp_id)"
   ]
  },
  {
   "cell_type": "code",
   "execution_count": 28,
   "metadata": {
    "scrolled": false
   },
   "outputs": [
    {
     "data": {
      "text/plain": [
       "{'adult': False,\n",
       " 'backdrop_path': '/5ceIqlRzWH4x1IPU9OfjXHO2Kz6.jpg',\n",
       " 'belongs_to_collection': None,\n",
       " 'budget': 38000000,\n",
       " 'genres': [{'id': 28, 'name': 'Action'},\n",
       "  {'id': 16, 'name': 'Animation'},\n",
       "  {'id': 35, 'name': 'Comedy'},\n",
       "  {'id': 10751, 'name': 'Family'}],\n",
       " 'homepage': 'http://www.foxmovies.com/movies/captain-underpants-the-first-epic-movie',\n",
       " 'id': 268531,\n",
       " 'imdb_id': 'tt2091256',\n",
       " 'original_language': 'en',\n",
       " 'original_title': 'Captain Underpants: The First Epic Movie',\n",
       " 'overview': 'Two mischievous kids hypnotize their mean elementary school principal and turn him into their comic book creation, the kind-hearted and elastic-banded Captain Underpants.',\n",
       " 'popularity': 26.675,\n",
       " 'poster_path': '/AjHZIkzhPXrRNE4VSLVWx6dirK9.jpg',\n",
       " 'production_companies': [{'id': 521,\n",
       "   'logo_path': '/kP7t6RwGz2AvvTkvnI1uteEwHet.png',\n",
       "   'name': 'DreamWorks Animation',\n",
       "   'origin_country': 'US'}],\n",
       " 'production_countries': [{'iso_3166_1': 'US',\n",
       "   'name': 'United States of America'}],\n",
       " 'release_date': '2017-06-01',\n",
       " 'revenue': 125289450,\n",
       " 'runtime': 89,\n",
       " 'spoken_languages': [{'iso_639_1': 'en', 'name': 'English'}],\n",
       " 'status': 'Released',\n",
       " 'tagline': '',\n",
       " 'title': 'Captain Underpants: The First Epic Movie',\n",
       " 'video': False,\n",
       " 'vote_average': 6.1,\n",
       " 'vote_count': 774}"
      ]
     },
     "execution_count": 28,
     "metadata": {},
     "output_type": "execute_result"
    }
   ],
   "source": [
    "full_movie_results.info()"
   ]
  },
  {
   "cell_type": "code",
   "execution_count": 29,
   "metadata": {},
   "outputs": [],
   "source": [
    "normal_movie_fields = ['budget', 'genres', 'homepage', 'imdb_id', 'overview', 'popularity'\\\n",
    "                       , 'release_date', 'revenue', 'runtime', 'vote_average', 'vote_count']"
   ]
  },
  {
   "cell_type": "code",
   "execution_count": 30,
   "metadata": {},
   "outputs": [
    {
     "data": {
      "text/plain": [
       "set()"
      ]
     },
     "execution_count": 30,
     "metadata": {},
     "output_type": "execute_result"
    }
   ],
   "source": [
    "set(normal_movie_fields).difference(set(full_movie_results.info().keys()))"
   ]
  },
  {
   "cell_type": "code",
   "execution_count": 31,
   "metadata": {
    "scrolled": true
   },
   "outputs": [
    {
     "data": {
      "text/plain": [
       "dict_keys(['adult', 'backdrop_path', 'belongs_to_collection', 'budget', 'genres', 'homepage', 'id', 'imdb_id', 'original_language', 'original_title', 'overview', 'popularity', 'poster_path', 'production_companies', 'production_countries', 'release_date', 'revenue', 'runtime', 'spoken_languages', 'status', 'tagline', 'title', 'video', 'vote_average', 'vote_count'])"
      ]
     },
     "execution_count": 31,
     "metadata": {},
     "output_type": "execute_result"
    }
   ],
   "source": [
    "(full_movie_results.info().keys())"
   ]
  },
  {
   "cell_type": "code",
   "execution_count": 55,
   "metadata": {},
   "outputs": [],
   "source": [
    "def get_movie_API_results(movie_title): \n",
    "        \n",
    "    # Select requested fields from response \n",
    "    normal_movie_fields = ['budget', 'homepage', 'imdb_id', 'overview', 'popularity'\\\n",
    "                           , 'release_date', 'revenue', 'runtime', 'vote_average', 'vote_count']\n",
    "    \n",
    "    # Find the Movie in TMDB \n",
    "    search_results = search.movie(query=movie_title)\n",
    "    n_results = len(search_results['results'])\n",
    "#     print(\"N Results: \", n_results)\n",
    "    if n_results == 0:\n",
    "        movie_results = {key:np.nan for key in normal_movie_fields}\n",
    "        movie_results['Number of Search Results'] = n_results\n",
    "        movie_results['title_query'] = movie_title \n",
    "        movie_results = pd.Series(movie_results)\n",
    "\n",
    "        return(movie_results)\n",
    "    \n",
    "    temp_id = search_results['results'][0]['id']\n",
    "    full_movie_results = tmdb.Movies(temp_id)\n",
    "\n",
    "    assert(set(normal_movie_fields).difference(set(full_movie_results.info().keys()))== set())\\\n",
    "    , 'Movie result schema is missing a field'\n",
    "    movie_results = {attr:getattr(full_movie_results, attr) for attr in normal_movie_fields}\n",
    "    # TODO Fix genre parsing \n",
    "    \n",
    "    \n",
    "    # Append number of search results (incase there are multiple and we choose the wrong one)\n",
    "    movie_results['Number of Search Results'] = n_results\n",
    "    movie_results['title_query'] = movie_title\n",
    "    movie_results = pd.Series(movie_results)\n",
    "    \n",
    "    time.sleep(0.3)\n",
    "    return(movie_results)"
   ]
  },
  {
   "cell_type": "code",
   "execution_count": 38,
   "metadata": {},
   "outputs": [
    {
     "data": {
      "text/plain": [
       "budget                                                                      0\n",
       "homepage                               https://www.netflix.com/title/80239932\n",
       "imdb_id                                                             tt9170648\n",
       "overview                    Trevor Noah gets out from behind the \"Daily Sh...\n",
       "popularity                                                              6.902\n",
       "release_date                                                       2018-11-20\n",
       "revenue                                                                     0\n",
       "runtime                                                                    63\n",
       "vote_average                                                              7.1\n",
       "vote_count                                                                 64\n",
       "Number of Search Results                                                    1\n",
       "title_query                                      Trevor Noah: Son of Patricia\n",
       "dtype: object"
      ]
     },
     "execution_count": 38,
     "metadata": {},
     "output_type": "execute_result"
    }
   ],
   "source": [
    "r1 = get_movie_API_results(row1['Title'])\n",
    "r1 "
   ]
  },
  {
   "cell_type": "code",
   "execution_count": 39,
   "metadata": {},
   "outputs": [
    {
     "data": {
      "text/plain": [
       "budget                                                               38000000\n",
       "homepage                    http://www.foxmovies.com/movies/captain-underp...\n",
       "imdb_id                                                             tt2091256\n",
       "overview                    Two mischievous kids hypnotize their mean elem...\n",
       "popularity                                                             26.675\n",
       "release_date                                                       2017-06-01\n",
       "revenue                                                             125289450\n",
       "runtime                                                                    89\n",
       "vote_average                                                              6.1\n",
       "vote_count                                                                774\n",
       "Number of Search Results                                                    1\n",
       "title_query                          Captain Underpants: The First Epic Movie\n",
       "dtype: object"
      ]
     },
     "execution_count": 39,
     "metadata": {},
     "output_type": "execute_result"
    }
   ],
   "source": [
    "r2 = get_movie_API_results(row2['Title'])\n",
    "r2"
   ]
  },
  {
   "cell_type": "code",
   "execution_count": 62,
   "metadata": {
    "scrolled": false
   },
   "outputs": [],
   "source": [
    "demo_df = movies['Title'].iloc[:20].apply(get_movie_API_results)"
   ]
  },
  {
   "cell_type": "code",
   "execution_count": 63,
   "metadata": {},
   "outputs": [
    {
     "data": {
      "text/html": [
       "<div>\n",
       "<style scoped>\n",
       "    .dataframe tbody tr th:only-of-type {\n",
       "        vertical-align: middle;\n",
       "    }\n",
       "\n",
       "    .dataframe tbody tr th {\n",
       "        vertical-align: top;\n",
       "    }\n",
       "\n",
       "    .dataframe thead th {\n",
       "        text-align: right;\n",
       "    }\n",
       "</style>\n",
       "<table border=\"1\" class=\"dataframe\">\n",
       "  <thead>\n",
       "    <tr style=\"text-align: right;\">\n",
       "      <th></th>\n",
       "      <th>budget</th>\n",
       "      <th>homepage</th>\n",
       "      <th>imdb_id</th>\n",
       "      <th>overview</th>\n",
       "      <th>popularity</th>\n",
       "      <th>release_date</th>\n",
       "      <th>revenue</th>\n",
       "      <th>runtime</th>\n",
       "      <th>vote_average</th>\n",
       "      <th>vote_count</th>\n",
       "      <th>Number of Search Results</th>\n",
       "      <th>title_query</th>\n",
       "    </tr>\n",
       "  </thead>\n",
       "  <tbody>\n",
       "    <tr>\n",
       "      <th>3</th>\n",
       "      <td>0.0</td>\n",
       "      <td>https://www.netflix.com/title/80239932</td>\n",
       "      <td>tt9170648</td>\n",
       "      <td>Trevor Noah gets out from behind the \"Daily Sh...</td>\n",
       "      <td>6.902</td>\n",
       "      <td>2018-11-20</td>\n",
       "      <td>0.0</td>\n",
       "      <td>63.0</td>\n",
       "      <td>7.1</td>\n",
       "      <td>64.0</td>\n",
       "      <td>1</td>\n",
       "      <td>Trevor Noah: Son of Patricia</td>\n",
       "    </tr>\n",
       "    <tr>\n",
       "      <th>19</th>\n",
       "      <td>38000000.0</td>\n",
       "      <td>http://www.foxmovies.com/movies/captain-underp...</td>\n",
       "      <td>tt2091256</td>\n",
       "      <td>Two mischievous kids hypnotize their mean elem...</td>\n",
       "      <td>26.675</td>\n",
       "      <td>2017-06-01</td>\n",
       "      <td>125289450.0</td>\n",
       "      <td>89.0</td>\n",
       "      <td>6.1</td>\n",
       "      <td>774.0</td>\n",
       "      <td>1</td>\n",
       "      <td>Captain Underpants: The First Epic Movie</td>\n",
       "    </tr>\n",
       "    <tr>\n",
       "      <th>66</th>\n",
       "      <td>0.0</td>\n",
       "      <td>http://www.netflix.com/savingcapitalism</td>\n",
       "      <td>tt6185286</td>\n",
       "      <td>Former Secretary of Labor Robert Reich meets w...</td>\n",
       "      <td>6.267</td>\n",
       "      <td>2017-08-25</td>\n",
       "      <td>0.0</td>\n",
       "      <td>73.0</td>\n",
       "      <td>6.9</td>\n",
       "      <td>27.0</td>\n",
       "      <td>1</td>\n",
       "      <td>Saving Capitalism</td>\n",
       "    </tr>\n",
       "    <tr>\n",
       "      <th>67</th>\n",
       "      <td>0.0</td>\n",
       "      <td></td>\n",
       "      <td>tt3762912</td>\n",
       "      <td>Controversial hedge fund titan Bill Ackman is ...</td>\n",
       "      <td>9.855</td>\n",
       "      <td>2017-03-17</td>\n",
       "      <td>0.0</td>\n",
       "      <td>99.0</td>\n",
       "      <td>7.3</td>\n",
       "      <td>71.0</td>\n",
       "      <td>1</td>\n",
       "      <td>Betting on Zero</td>\n",
       "    </tr>\n",
       "    <tr>\n",
       "      <th>81</th>\n",
       "      <td>100000.0</td>\n",
       "      <td>https://invisiblemoneydocumentary.wordpress.com/</td>\n",
       "      <td>tt5033790</td>\n",
       "      <td>Not since the invention of the Internet has th...</td>\n",
       "      <td>7.893</td>\n",
       "      <td>2016-12-30</td>\n",
       "      <td>0.0</td>\n",
       "      <td>90.0</td>\n",
       "      <td>6.5</td>\n",
       "      <td>64.0</td>\n",
       "      <td>2</td>\n",
       "      <td>Banking on Bitcoin</td>\n",
       "    </tr>\n",
       "  </tbody>\n",
       "</table>\n",
       "</div>"
      ],
      "text/plain": [
       "        budget                                           homepage    imdb_id  \\\n",
       "3          0.0             https://www.netflix.com/title/80239932  tt9170648   \n",
       "19  38000000.0  http://www.foxmovies.com/movies/captain-underp...  tt2091256   \n",
       "66         0.0            http://www.netflix.com/savingcapitalism  tt6185286   \n",
       "67         0.0                                                     tt3762912   \n",
       "81    100000.0   https://invisiblemoneydocumentary.wordpress.com/  tt5033790   \n",
       "\n",
       "                                             overview  popularity  \\\n",
       "3   Trevor Noah gets out from behind the \"Daily Sh...       6.902   \n",
       "19  Two mischievous kids hypnotize their mean elem...      26.675   \n",
       "66  Former Secretary of Labor Robert Reich meets w...       6.267   \n",
       "67  Controversial hedge fund titan Bill Ackman is ...       9.855   \n",
       "81  Not since the invention of the Internet has th...       7.893   \n",
       "\n",
       "   release_date      revenue  runtime  vote_average  vote_count  \\\n",
       "3    2018-11-20          0.0     63.0           7.1        64.0   \n",
       "19   2017-06-01  125289450.0     89.0           6.1       774.0   \n",
       "66   2017-08-25          0.0     73.0           6.9        27.0   \n",
       "67   2017-03-17          0.0     99.0           7.3        71.0   \n",
       "81   2016-12-30          0.0     90.0           6.5        64.0   \n",
       "\n",
       "    Number of Search Results                               title_query  \n",
       "3                          1              Trevor Noah: Son of Patricia  \n",
       "19                         1  Captain Underpants: The First Epic Movie  \n",
       "66                         1                         Saving Capitalism  \n",
       "67                         1                           Betting on Zero  \n",
       "81                         2                        Banking on Bitcoin  "
      ]
     },
     "execution_count": 63,
     "metadata": {},
     "output_type": "execute_result"
    }
   ],
   "source": [
    "demo_df.head()"
   ]
  },
  {
   "cell_type": "raw",
   "metadata": {
    "scrolled": true
   },
   "source": [
    "demo_df.to_list()"
   ]
  },
  {
   "cell_type": "raw",
   "metadata": {},
   "source": [
    "# Fresh Query \n",
    "all_movies_results = movies['Title'].apply(get_movie_API_results)\n",
    "all_movies_results_df = pd.DataFrame.from_dict(all_movies_results.to_list(), orient='columns')\n",
    "with open('../Data/all_movies_results_df.pkl', 'wb') as hnd:\n",
    "    pickle.dump(all_movies_results_df, hnd)"
   ]
  },
  {
   "cell_type": "code",
   "execution_count": 65,
   "metadata": {},
   "outputs": [],
   "source": [
    "with open('../Data/all_movies_results_df.pkl', 'rb') as hnd:\n",
    "    all_movies_results_df = pickle.load( hnd)"
   ]
  },
  {
   "cell_type": "code",
   "execution_count": 66,
   "metadata": {
    "scrolled": false
   },
   "outputs": [
    {
     "data": {
      "text/html": [
       "<div>\n",
       "<style scoped>\n",
       "    .dataframe tbody tr th:only-of-type {\n",
       "        vertical-align: middle;\n",
       "    }\n",
       "\n",
       "    .dataframe tbody tr th {\n",
       "        vertical-align: top;\n",
       "    }\n",
       "\n",
       "    .dataframe thead th {\n",
       "        text-align: right;\n",
       "    }\n",
       "</style>\n",
       "<table border=\"1\" class=\"dataframe\">\n",
       "  <thead>\n",
       "    <tr style=\"text-align: right;\">\n",
       "      <th></th>\n",
       "      <th>Number of Search Results</th>\n",
       "      <th>budget</th>\n",
       "      <th>homepage</th>\n",
       "      <th>imdb_id</th>\n",
       "      <th>overview</th>\n",
       "      <th>popularity</th>\n",
       "      <th>release_date</th>\n",
       "      <th>revenue</th>\n",
       "      <th>runtime</th>\n",
       "      <th>title_query</th>\n",
       "      <th>vote_average</th>\n",
       "      <th>vote_count</th>\n",
       "    </tr>\n",
       "  </thead>\n",
       "  <tbody>\n",
       "    <tr>\n",
       "      <th>0</th>\n",
       "      <td>1</td>\n",
       "      <td>0.0</td>\n",
       "      <td>https://www.netflix.com/title/80239932</td>\n",
       "      <td>tt9170648</td>\n",
       "      <td>Trevor Noah gets out from behind the \"Daily Sh...</td>\n",
       "      <td>3.145</td>\n",
       "      <td>2018-11-20</td>\n",
       "      <td>0.0</td>\n",
       "      <td>63.0</td>\n",
       "      <td>Trevor Noah: Son of Patricia</td>\n",
       "      <td>7.1</td>\n",
       "      <td>35.0</td>\n",
       "    </tr>\n",
       "    <tr>\n",
       "      <th>1</th>\n",
       "      <td>1</td>\n",
       "      <td>38000000.0</td>\n",
       "      <td>http://www.foxmovies.com/movies/captain-underp...</td>\n",
       "      <td>tt2091256</td>\n",
       "      <td>Two mischievous kids hypnotize their mean elem...</td>\n",
       "      <td>11.473</td>\n",
       "      <td>2017-06-01</td>\n",
       "      <td>125289450.0</td>\n",
       "      <td>89.0</td>\n",
       "      <td>Captain Underpants: The First Epic Movie</td>\n",
       "      <td>6.0</td>\n",
       "      <td>565.0</td>\n",
       "    </tr>\n",
       "    <tr>\n",
       "      <th>2</th>\n",
       "      <td>1</td>\n",
       "      <td>0.0</td>\n",
       "      <td>http://www.netflix.com/savingcapitalism</td>\n",
       "      <td>tt6185286</td>\n",
       "      <td>Former Secretary of Labor Robert Reich meets w...</td>\n",
       "      <td>1.285</td>\n",
       "      <td>2017-11-21</td>\n",
       "      <td>0.0</td>\n",
       "      <td>73.0</td>\n",
       "      <td>Saving Capitalism</td>\n",
       "      <td>7.1</td>\n",
       "      <td>17.0</td>\n",
       "    </tr>\n",
       "    <tr>\n",
       "      <th>3</th>\n",
       "      <td>1</td>\n",
       "      <td>0.0</td>\n",
       "      <td>None</td>\n",
       "      <td>tt3762912</td>\n",
       "      <td>Controversial hedge fund titan Bill Ackman is ...</td>\n",
       "      <td>2.099</td>\n",
       "      <td>2017-03-17</td>\n",
       "      <td>0.0</td>\n",
       "      <td>99.0</td>\n",
       "      <td>Betting on Zero</td>\n",
       "      <td>7.4</td>\n",
       "      <td>45.0</td>\n",
       "    </tr>\n",
       "    <tr>\n",
       "      <th>4</th>\n",
       "      <td>1</td>\n",
       "      <td>100000.0</td>\n",
       "      <td>https://invisiblemoneydocumentary.wordpress.com/</td>\n",
       "      <td>tt5033790</td>\n",
       "      <td>Not since the invention of the Internet has th...</td>\n",
       "      <td>2.766</td>\n",
       "      <td>2016-12-30</td>\n",
       "      <td>0.0</td>\n",
       "      <td>90.0</td>\n",
       "      <td>Banking on Bitcoin</td>\n",
       "      <td>6.5</td>\n",
       "      <td>54.0</td>\n",
       "    </tr>\n",
       "  </tbody>\n",
       "</table>\n",
       "</div>"
      ],
      "text/plain": [
       "   Number of Search Results      budget  \\\n",
       "0                         1         0.0   \n",
       "1                         1  38000000.0   \n",
       "2                         1         0.0   \n",
       "3                         1         0.0   \n",
       "4                         1    100000.0   \n",
       "\n",
       "                                            homepage    imdb_id  \\\n",
       "0             https://www.netflix.com/title/80239932  tt9170648   \n",
       "1  http://www.foxmovies.com/movies/captain-underp...  tt2091256   \n",
       "2            http://www.netflix.com/savingcapitalism  tt6185286   \n",
       "3                                               None  tt3762912   \n",
       "4   https://invisiblemoneydocumentary.wordpress.com/  tt5033790   \n",
       "\n",
       "                                            overview  popularity release_date  \\\n",
       "0  Trevor Noah gets out from behind the \"Daily Sh...       3.145   2018-11-20   \n",
       "1  Two mischievous kids hypnotize their mean elem...      11.473   2017-06-01   \n",
       "2  Former Secretary of Labor Robert Reich meets w...       1.285   2017-11-21   \n",
       "3  Controversial hedge fund titan Bill Ackman is ...       2.099   2017-03-17   \n",
       "4  Not since the invention of the Internet has th...       2.766   2016-12-30   \n",
       "\n",
       "       revenue  runtime                               title_query  \\\n",
       "0          0.0     63.0              Trevor Noah: Son of Patricia   \n",
       "1  125289450.0     89.0  Captain Underpants: The First Epic Movie   \n",
       "2          0.0     73.0                         Saving Capitalism   \n",
       "3          0.0     99.0                           Betting on Zero   \n",
       "4          0.0     90.0                        Banking on Bitcoin   \n",
       "\n",
       "   vote_average  vote_count  \n",
       "0           7.1        35.0  \n",
       "1           6.0       565.0  \n",
       "2           7.1        17.0  \n",
       "3           7.4        45.0  \n",
       "4           6.5        54.0  "
      ]
     },
     "execution_count": 66,
     "metadata": {},
     "output_type": "execute_result"
    }
   ],
   "source": [
    "all_movies_results_df.head()"
   ]
  },
  {
   "cell_type": "code",
   "execution_count": 67,
   "metadata": {},
   "outputs": [
    {
     "data": {
      "text/html": [
       "<div>\n",
       "<style scoped>\n",
       "    .dataframe tbody tr th:only-of-type {\n",
       "        vertical-align: middle;\n",
       "    }\n",
       "\n",
       "    .dataframe tbody tr th {\n",
       "        vertical-align: top;\n",
       "    }\n",
       "\n",
       "    .dataframe thead th {\n",
       "        text-align: right;\n",
       "    }\n",
       "</style>\n",
       "<table border=\"1\" class=\"dataframe\">\n",
       "  <thead>\n",
       "    <tr style=\"text-align: right;\">\n",
       "      <th></th>\n",
       "      <th>Number of Search Results</th>\n",
       "      <th>budget</th>\n",
       "      <th>popularity</th>\n",
       "      <th>revenue</th>\n",
       "      <th>runtime</th>\n",
       "      <th>vote_average</th>\n",
       "      <th>vote_count</th>\n",
       "    </tr>\n",
       "  </thead>\n",
       "  <tbody>\n",
       "    <tr>\n",
       "      <th>count</th>\n",
       "      <td>48.000000</td>\n",
       "      <td>4.500000e+01</td>\n",
       "      <td>45.000000</td>\n",
       "      <td>4.500000e+01</td>\n",
       "      <td>45.000000</td>\n",
       "      <td>45.000000</td>\n",
       "      <td>45.000000</td>\n",
       "    </tr>\n",
       "    <tr>\n",
       "      <th>mean</th>\n",
       "      <td>3.729167</td>\n",
       "      <td>3.360222e+07</td>\n",
       "      <td>12.186178</td>\n",
       "      <td>1.542482e+08</td>\n",
       "      <td>99.977778</td>\n",
       "      <td>6.802222</td>\n",
       "      <td>2826.733333</td>\n",
       "    </tr>\n",
       "    <tr>\n",
       "      <th>std</th>\n",
       "      <td>5.804399</td>\n",
       "      <td>5.757290e+07</td>\n",
       "      <td>12.541833</td>\n",
       "      <td>3.144806e+08</td>\n",
       "      <td>30.735299</td>\n",
       "      <td>1.348482</td>\n",
       "      <td>4509.871720</td>\n",
       "    </tr>\n",
       "    <tr>\n",
       "      <th>min</th>\n",
       "      <td>0.000000</td>\n",
       "      <td>0.000000e+00</td>\n",
       "      <td>0.600000</td>\n",
       "      <td>0.000000e+00</td>\n",
       "      <td>25.000000</td>\n",
       "      <td>0.000000</td>\n",
       "      <td>0.000000</td>\n",
       "    </tr>\n",
       "    <tr>\n",
       "      <th>25%</th>\n",
       "      <td>1.000000</td>\n",
       "      <td>0.000000e+00</td>\n",
       "      <td>3.356000</td>\n",
       "      <td>0.000000e+00</td>\n",
       "      <td>87.000000</td>\n",
       "      <td>6.300000</td>\n",
       "      <td>56.000000</td>\n",
       "    </tr>\n",
       "    <tr>\n",
       "      <th>50%</th>\n",
       "      <td>1.000000</td>\n",
       "      <td>8.000000e+06</td>\n",
       "      <td>10.409000</td>\n",
       "      <td>3.142154e+06</td>\n",
       "      <td>99.000000</td>\n",
       "      <td>7.000000</td>\n",
       "      <td>565.000000</td>\n",
       "    </tr>\n",
       "    <tr>\n",
       "      <th>75%</th>\n",
       "      <td>3.000000</td>\n",
       "      <td>3.900000e+07</td>\n",
       "      <td>17.455000</td>\n",
       "      <td>1.610256e+08</td>\n",
       "      <td>120.000000</td>\n",
       "      <td>7.600000</td>\n",
       "      <td>4015.000000</td>\n",
       "    </tr>\n",
       "    <tr>\n",
       "      <th>max</th>\n",
       "      <td>20.000000</td>\n",
       "      <td>2.200000e+08</td>\n",
       "      <td>74.008000</td>\n",
       "      <td>1.519558e+09</td>\n",
       "      <td>165.000000</td>\n",
       "      <td>8.400000</td>\n",
       "      <td>18827.000000</td>\n",
       "    </tr>\n",
       "  </tbody>\n",
       "</table>\n",
       "</div>"
      ],
      "text/plain": [
       "       Number of Search Results        budget  popularity       revenue  \\\n",
       "count                 48.000000  4.500000e+01   45.000000  4.500000e+01   \n",
       "mean                   3.729167  3.360222e+07   12.186178  1.542482e+08   \n",
       "std                    5.804399  5.757290e+07   12.541833  3.144806e+08   \n",
       "min                    0.000000  0.000000e+00    0.600000  0.000000e+00   \n",
       "25%                    1.000000  0.000000e+00    3.356000  0.000000e+00   \n",
       "50%                    1.000000  8.000000e+06   10.409000  3.142154e+06   \n",
       "75%                    3.000000  3.900000e+07   17.455000  1.610256e+08   \n",
       "max                   20.000000  2.200000e+08   74.008000  1.519558e+09   \n",
       "\n",
       "          runtime  vote_average    vote_count  \n",
       "count   45.000000     45.000000     45.000000  \n",
       "mean    99.977778      6.802222   2826.733333  \n",
       "std     30.735299      1.348482   4509.871720  \n",
       "min     25.000000      0.000000      0.000000  \n",
       "25%     87.000000      6.300000     56.000000  \n",
       "50%     99.000000      7.000000    565.000000  \n",
       "75%    120.000000      7.600000   4015.000000  \n",
       "max    165.000000      8.400000  18827.000000  "
      ]
     },
     "execution_count": 67,
     "metadata": {},
     "output_type": "execute_result"
    }
   ],
   "source": [
    "all_movies_results_df.describe()"
   ]
  },
  {
   "cell_type": "code",
   "execution_count": 68,
   "metadata": {},
   "outputs": [
    {
     "data": {
      "text/plain": [
       "Number of Search Results     0\n",
       "budget                       3\n",
       "homepage                    27\n",
       "imdb_id                      4\n",
       "overview                     3\n",
       "popularity                   3\n",
       "release_date                 3\n",
       "revenue                      3\n",
       "runtime                      3\n",
       "title_query                  0\n",
       "vote_average                 3\n",
       "vote_count                   3\n",
       "dtype: int64"
      ]
     },
     "execution_count": 68,
     "metadata": {},
     "output_type": "execute_result"
    }
   ],
   "source": [
    "all_movies_results_df.isna().sum()"
   ]
  },
  {
   "cell_type": "code",
   "execution_count": 38,
   "metadata": {},
   "outputs": [
    {
     "data": {
      "text/plain": [
       "Number of Search Results    0.000000\n",
       "budget                      0.062500\n",
       "homepage                    0.562500\n",
       "imdb_id                     0.083333\n",
       "overview                    0.062500\n",
       "popularity                  0.062500\n",
       "release_date                0.062500\n",
       "revenue                     0.062500\n",
       "runtime                     0.062500\n",
       "title_query                 0.000000\n",
       "vote_average                0.062500\n",
       "vote_count                  0.062500\n",
       "dtype: float64"
      ]
     },
     "execution_count": 38,
     "metadata": {},
     "output_type": "execute_result"
    }
   ],
   "source": [
    "# Missing Rate\n",
    "all_movies_results_df.isna().sum()/all_movies_results_df.shape[0]"
   ]
  },
  {
   "cell_type": "code",
   "execution_count": 39,
   "metadata": {},
   "outputs": [],
   "source": [
    "missing_movies = all_movies_results_df[all_movies_results_df['budget'].isna()]"
   ]
  },
  {
   "cell_type": "code",
   "execution_count": 40,
   "metadata": {},
   "outputs": [
    {
     "data": {
      "text/plain": [
       "12    BoJack Horseman Christmas Special: Sabrina's C...\n",
       "31                       Samurai Champloo: Unholy Union\n",
       "45                     House of Cards: Season 1 (Recap)\n",
       "Name: title_query, dtype: object"
      ]
     },
     "execution_count": 40,
     "metadata": {},
     "output_type": "execute_result"
    }
   ],
   "source": [
    "missing_movies['title_query']"
   ]
  },
  {
   "cell_type": "code",
   "execution_count": null,
   "metadata": {},
   "outputs": [],
   "source": []
  },
  {
   "cell_type": "code",
   "execution_count": 41,
   "metadata": {},
   "outputs": [
    {
     "data": {
      "text/plain": [
       "True"
      ]
     },
     "execution_count": 41,
     "metadata": {},
     "output_type": "execute_result"
    }
   ],
   "source": [
    "os.path.isfile('../Data/all_movies_results_df.pkl')"
   ]
  },
  {
   "cell_type": "code",
   "execution_count": 42,
   "metadata": {},
   "outputs": [
    {
     "name": "stdout",
     "output_type": "stream",
     "text": [
      "Existing pickle exists\n",
      "Number of movies:  48\n",
      "Number of missing movies:  3\n",
      "12    BoJack Horseman Christmas Special: Sabrina's C...\n",
      "31                       Samurai Champloo: Unholy Union\n",
      "45                     House of Cards: Season 1 (Recap)\n",
      "Name: title_query, dtype: object\n"
     ]
    }
   ],
   "source": [
    "movie_df_raw = eda1.generate_movie_df(netflix_df=netflix_df)"
   ]
  },
  {
   "cell_type": "code",
   "execution_count": 44,
   "metadata": {},
   "outputs": [
    {
     "data": {
      "text/html": [
       "<div>\n",
       "<style scoped>\n",
       "    .dataframe tbody tr th:only-of-type {\n",
       "        vertical-align: middle;\n",
       "    }\n",
       "\n",
       "    .dataframe tbody tr th {\n",
       "        vertical-align: top;\n",
       "    }\n",
       "\n",
       "    .dataframe thead th {\n",
       "        text-align: right;\n",
       "    }\n",
       "</style>\n",
       "<table border=\"1\" class=\"dataframe\">\n",
       "  <thead>\n",
       "    <tr style=\"text-align: right;\">\n",
       "      <th></th>\n",
       "      <th>Number of Search Results</th>\n",
       "      <th>budget</th>\n",
       "      <th>homepage</th>\n",
       "      <th>imdb_id</th>\n",
       "      <th>overview</th>\n",
       "      <th>popularity</th>\n",
       "      <th>release_date</th>\n",
       "      <th>revenue</th>\n",
       "      <th>runtime</th>\n",
       "      <th>title_query</th>\n",
       "      <th>vote_average</th>\n",
       "      <th>vote_count</th>\n",
       "    </tr>\n",
       "  </thead>\n",
       "  <tbody>\n",
       "    <tr>\n",
       "      <th>0</th>\n",
       "      <td>1</td>\n",
       "      <td>0.0</td>\n",
       "      <td>https://www.netflix.com/title/80239932</td>\n",
       "      <td>tt9170648</td>\n",
       "      <td>Trevor Noah gets out from behind the \"Daily Sh...</td>\n",
       "      <td>3.145</td>\n",
       "      <td>2018-11-20</td>\n",
       "      <td>0.0</td>\n",
       "      <td>63.0</td>\n",
       "      <td>Trevor Noah: Son of Patricia</td>\n",
       "      <td>7.1</td>\n",
       "      <td>35.0</td>\n",
       "    </tr>\n",
       "    <tr>\n",
       "      <th>1</th>\n",
       "      <td>1</td>\n",
       "      <td>38000000.0</td>\n",
       "      <td>http://www.foxmovies.com/movies/captain-underp...</td>\n",
       "      <td>tt2091256</td>\n",
       "      <td>Two mischievous kids hypnotize their mean elem...</td>\n",
       "      <td>11.473</td>\n",
       "      <td>2017-06-01</td>\n",
       "      <td>125289450.0</td>\n",
       "      <td>89.0</td>\n",
       "      <td>Captain Underpants: The First Epic Movie</td>\n",
       "      <td>6.0</td>\n",
       "      <td>565.0</td>\n",
       "    </tr>\n",
       "    <tr>\n",
       "      <th>2</th>\n",
       "      <td>1</td>\n",
       "      <td>0.0</td>\n",
       "      <td>http://www.netflix.com/savingcapitalism</td>\n",
       "      <td>tt6185286</td>\n",
       "      <td>Former Secretary of Labor Robert Reich meets w...</td>\n",
       "      <td>1.285</td>\n",
       "      <td>2017-11-21</td>\n",
       "      <td>0.0</td>\n",
       "      <td>73.0</td>\n",
       "      <td>Saving Capitalism</td>\n",
       "      <td>7.1</td>\n",
       "      <td>17.0</td>\n",
       "    </tr>\n",
       "    <tr>\n",
       "      <th>3</th>\n",
       "      <td>1</td>\n",
       "      <td>0.0</td>\n",
       "      <td>None</td>\n",
       "      <td>tt3762912</td>\n",
       "      <td>Controversial hedge fund titan Bill Ackman is ...</td>\n",
       "      <td>2.099</td>\n",
       "      <td>2017-03-17</td>\n",
       "      <td>0.0</td>\n",
       "      <td>99.0</td>\n",
       "      <td>Betting on Zero</td>\n",
       "      <td>7.4</td>\n",
       "      <td>45.0</td>\n",
       "    </tr>\n",
       "    <tr>\n",
       "      <th>4</th>\n",
       "      <td>1</td>\n",
       "      <td>100000.0</td>\n",
       "      <td>https://invisiblemoneydocumentary.wordpress.com/</td>\n",
       "      <td>tt5033790</td>\n",
       "      <td>Not since the invention of the Internet has th...</td>\n",
       "      <td>2.766</td>\n",
       "      <td>2016-12-30</td>\n",
       "      <td>0.0</td>\n",
       "      <td>90.0</td>\n",
       "      <td>Banking on Bitcoin</td>\n",
       "      <td>6.5</td>\n",
       "      <td>54.0</td>\n",
       "    </tr>\n",
       "  </tbody>\n",
       "</table>\n",
       "</div>"
      ],
      "text/plain": [
       "   Number of Search Results      budget  \\\n",
       "0                         1         0.0   \n",
       "1                         1  38000000.0   \n",
       "2                         1         0.0   \n",
       "3                         1         0.0   \n",
       "4                         1    100000.0   \n",
       "\n",
       "                                            homepage    imdb_id  \\\n",
       "0             https://www.netflix.com/title/80239932  tt9170648   \n",
       "1  http://www.foxmovies.com/movies/captain-underp...  tt2091256   \n",
       "2            http://www.netflix.com/savingcapitalism  tt6185286   \n",
       "3                                               None  tt3762912   \n",
       "4   https://invisiblemoneydocumentary.wordpress.com/  tt5033790   \n",
       "\n",
       "                                            overview  popularity release_date  \\\n",
       "0  Trevor Noah gets out from behind the \"Daily Sh...       3.145   2018-11-20   \n",
       "1  Two mischievous kids hypnotize their mean elem...      11.473   2017-06-01   \n",
       "2  Former Secretary of Labor Robert Reich meets w...       1.285   2017-11-21   \n",
       "3  Controversial hedge fund titan Bill Ackman is ...       2.099   2017-03-17   \n",
       "4  Not since the invention of the Internet has th...       2.766   2016-12-30   \n",
       "\n",
       "       revenue  runtime                               title_query  \\\n",
       "0          0.0     63.0              Trevor Noah: Son of Patricia   \n",
       "1  125289450.0     89.0  Captain Underpants: The First Epic Movie   \n",
       "2          0.0     73.0                         Saving Capitalism   \n",
       "3          0.0     99.0                           Betting on Zero   \n",
       "4          0.0     90.0                        Banking on Bitcoin   \n",
       "\n",
       "   vote_average  vote_count  \n",
       "0           7.1        35.0  \n",
       "1           6.0       565.0  \n",
       "2           7.1        17.0  \n",
       "3           7.4        45.0  \n",
       "4           6.5        54.0  "
      ]
     },
     "execution_count": 44,
     "metadata": {},
     "output_type": "execute_result"
    }
   ],
   "source": [
    "movie_df_raw.head()"
   ]
  },
  {
   "cell_type": "code",
   "execution_count": null,
   "metadata": {},
   "outputs": [],
   "source": []
  },
  {
   "cell_type": "code",
   "execution_count": null,
   "metadata": {},
   "outputs": [],
   "source": []
  },
  {
   "cell_type": "code",
   "execution_count": null,
   "metadata": {},
   "outputs": [],
   "source": []
  }
 ],
 "metadata": {
  "kernelspec": {
   "display_name": "Python 3",
   "language": "python",
   "name": "python3"
  },
  "language_info": {
   "codemirror_mode": {
    "name": "ipython",
    "version": 3
   },
   "file_extension": ".py",
   "mimetype": "text/x-python",
   "name": "python",
   "nbconvert_exporter": "python",
   "pygments_lexer": "ipython3",
   "version": "3.6.7"
  },
  "toc": {
   "base_numbering": 1,
   "nav_menu": {},
   "number_sections": true,
   "sideBar": true,
   "skip_h1_title": false,
   "title_cell": "Table of Contents",
   "title_sidebar": "Contents",
   "toc_cell": false,
   "toc_position": {},
   "toc_section_display": true,
   "toc_window_display": false
  }
 },
 "nbformat": 4,
 "nbformat_minor": 2
}
