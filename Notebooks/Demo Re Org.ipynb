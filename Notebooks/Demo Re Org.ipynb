{
 "cells": [
  {
   "cell_type": "code",
   "execution_count": 1,
   "metadata": {},
   "outputs": [
    {
     "name": "stderr",
     "output_type": "stream",
     "text": [
      "/home/owner/anaconda3/lib/python3.7/site-packages/ipykernel_launcher.py:13: TqdmExperimentalWarning: Using `tqdm.autonotebook.tqdm` in notebook mode. Use `tqdm.tqdm` instead to force console mode (e.g. in jupyter console)\n",
      "  del sys.path[0]\n",
      "/home/owner/anaconda3/lib/python3.7/site-packages/tqdm/std.py:668: FutureWarning: The Panel class is removed from pandas. Accessing it from the top-level namespace will also be removed in the next version\n",
      "  from pandas import Panel\n",
      "/home/owner/anaconda3/lib/python3.7/site-packages/fuzzywuzzy/fuzz.py:11: UserWarning: Using slow pure-python SequenceMatcher. Install python-Levenshtein to remove this warning\n",
      "  warnings.warn('Using slow pure-python SequenceMatcher. Install python-Levenshtein to remove this warning')\n"
     ]
    }
   ],
   "source": [
    "import pandas as pd\n",
    "import numpy as np \n",
    "import matplotlib.pyplot as plt\n",
    "import tmdbsimple as tmdb\n",
    "import os\n",
    "import re\n",
    "import sys\n",
    "import pickle\n",
    "import datetime\n",
    "import time\n",
    "import pdbs\n",
    "import uuid\n",
    "from tqdm.autonotebook import tqdm\n",
    "tqdm.pandas()\n",
    "import sqlite3\n",
    "from fuzzywuzzy import fuzz\n",
    "%load_ext autoreload\n",
    "%autoreload 2\n",
    "sys.path.append(os.path.abspath('../src'))"
   ]
  },
  {
   "cell_type": "code",
   "execution_count": 2,
   "metadata": {},
   "outputs": [],
   "source": [
    "import gather_data as data_agg"
   ]
  },
  {
   "cell_type": "code",
   "execution_count": 11,
   "metadata": {},
   "outputs": [],
   "source": [
    "# netflix_path = '../Data/NetflixViewingHistory.csv' ; user_id = 'malcolm' # MT Small pt1\n",
    "# netflix_path = '/home/owner/Downloads/NetflixViewingHistory (1).csv'; user_id='vinny' # Lauryn, Vinny (big)\n",
    "# netflix_path = '/home/owner/Downloads/NetflixViewingHistory (2).csv'; user_id='malcolm2' # MT Small pt2\n",
    "\n",
    "with open('../Data/api_key.pkl', 'rb') as hnd:\n",
    "    key = pickle.load(hnd)['api_key']\n",
    "db_location = '../Data/netflix_viewing1.db'"
   ]
  },
  {
   "cell_type": "raw",
   "metadata": {},
   "source": [
    "!rm $db_location"
   ]
  },
  {
   "cell_type": "code",
   "execution_count": 12,
   "metadata": {},
   "outputs": [],
   "source": [
    "def connect_db():\n",
    "    conn = sqlite3.connect(db_location)\n",
    "    return(conn)\n",
    "search= tmdb.Search()"
   ]
  },
  {
   "cell_type": "code",
   "execution_count": 13,
   "metadata": {},
   "outputs": [],
   "source": [
    "conn = connect_db()"
   ]
  },
  {
   "cell_type": "code",
   "execution_count": null,
   "metadata": {},
   "outputs": [],
   "source": []
  },
  {
   "cell_type": "markdown",
   "metadata": {},
   "source": [
    "## Build Test set "
   ]
  },
  {
   "cell_type": "raw",
   "metadata": {},
   "source": [
    "data = pd.read_csv(netflix_path)\n",
    "data.head(20)"
   ]
  },
  {
   "cell_type": "raw",
   "metadata": {},
   "source": [
    "data_sm = data.iloc[[0,19]]\n",
    "data_sm"
   ]
  },
  {
   "cell_type": "raw",
   "metadata": {},
   "source": [
    "test_path = '../Data/test.csv'\n",
    "data_sm.to_csv(test_path, index=False)"
   ]
  },
  {
   "cell_type": "code",
   "execution_count": 15,
   "metadata": {},
   "outputs": [],
   "source": [
    "netflix_path = '../Data/test.csv'\n",
    "user_id='test'"
   ]
  },
  {
   "cell_type": "markdown",
   "metadata": {},
   "source": [
    "## Demo Run Through"
   ]
  },
  {
   "cell_type": "code",
   "execution_count": 16,
   "metadata": {
    "scrolled": false
   },
   "outputs": [
    {
     "name": "stdout",
     "output_type": "stream",
     "text": [
      "User: test\n",
      "Total number of TV Show + Movies: 2\n",
      "Total number of movies: 1\n",
      "Found 1 matches in db \n",
      "Did not find 0 titles, querying TMDB for results\n",
      "Total number of Episodes of TV Shows: 1\n",
      "Number of unique TV Shows: 1\n",
      "Found 1 matches in db \n",
      "Did not find 0 titles, querying TMDB for results\n"
     ]
    }
   ],
   "source": [
    "data_pipeline = data_agg.DataPipeline(netflix_path, key, db_location, id=user_id)\n",
    "# data_pipeline = data_agg.DataPipeline(test_path, key, db_location)\n",
    "data_pipeline.execute()\n",
    "# netflix_df = data_pipeline.parse_netflix(netflix_path)\n",
    "# # netflix_df = data_pipeline.parse_netflix(test_path)\n",
    "\n",
    "# netflix_df = data_pipeline.get_netflix_df(conn, netflix_path, )\n",
    "# movie_df   = data_pipeline.generate_movie_df(netflix_df)\n",
    "# tv_df      = data_pipeline.generate_tv_df(netflix_df)\n"
   ]
  },
  {
   "cell_type": "raw",
   "metadata": {},
   "source": [
    "conn.commit()\n",
    "conn.close()"
   ]
  },
  {
   "cell_type": "code",
   "execution_count": null,
   "metadata": {},
   "outputs": [],
   "source": []
  },
  {
   "cell_type": "code",
   "execution_count": null,
   "metadata": {},
   "outputs": [],
   "source": [
    "movie_df"
   ]
  },
  {
   "cell_type": "code",
   "execution_count": null,
   "metadata": {},
   "outputs": [],
   "source": [
    "tv_df.columns"
   ]
  },
  {
   "cell_type": "code",
   "execution_count": null,
   "metadata": {},
   "outputs": [],
   "source": [
    "[x for x in tv_df.columns if 'genre' in x.lower()]"
   ]
  },
  {
   "cell_type": "code",
   "execution_count": null,
   "metadata": {},
   "outputs": [],
   "source": []
  },
  {
   "cell_type": "markdown",
   "metadata": {},
   "source": [
    "## Cleaning"
   ]
  },
  {
   "cell_type": "code",
   "execution_count": null,
   "metadata": {},
   "outputs": [],
   "source": [
    "text1 = \"The Jungle Book (2016)\""
   ]
  },
  {
   "cell_type": "code",
   "execution_count": null,
   "metadata": {},
   "outputs": [],
   "source": [
    "re.sub(\".*?\\((.*?)\\)\", '',text1)"
   ]
  },
  {
   "cell_type": "code",
   "execution_count": null,
   "metadata": {},
   "outputs": [],
   "source": [
    "regex = re.compile(\".*?\\((.*?)\\)\")\n",
    "result = re.findall(regex, text1)\n",
    "result"
   ]
  },
  {
   "cell_type": "code",
   "execution_count": null,
   "metadata": {},
   "outputs": [],
   "source": [
    "re.sub(\"[\\(\\[].*?[\\)\\]]\", \"\", text1)\n"
   ]
  },
  {
   "cell_type": "code",
   "execution_count": null,
   "metadata": {},
   "outputs": [],
   "source": []
  },
  {
   "cell_type": "code",
   "execution_count": null,
   "metadata": {},
   "outputs": [],
   "source": [
    "data_pipeline.all_movies_results_df"
   ]
  },
  {
   "cell_type": "code",
   "execution_count": null,
   "metadata": {},
   "outputs": [],
   "source": [
    "movie_df.head()"
   ]
  },
  {
   "cell_type": "code",
   "execution_count": null,
   "metadata": {
    "scrolled": true
   },
   "outputs": [],
   "source": [
    "raw_movies = netflix_df[netflix_df['TV Show flag'] == 'Movie']\n",
    "raw_movies"
   ]
  },
  {
   "cell_type": "code",
   "execution_count": null,
   "metadata": {},
   "outputs": [],
   "source": []
  },
  {
   "cell_type": "markdown",
   "metadata": {},
   "source": [
    "## Practice using API "
   ]
  },
  {
   "cell_type": "code",
   "execution_count": null,
   "metadata": {
    "scrolled": true
   },
   "outputs": [],
   "source": [
    "search_term = \"Gladiator\"\n",
    "search_results = search.movie(query=search_term)\n",
    "search_results"
   ]
  },
  {
   "cell_type": "code",
   "execution_count": null,
   "metadata": {},
   "outputs": [],
   "source": [
    "names = [{'New Title': x['title']\n",
    "       , 'TMDB id' : x['id']\n",
    "       , 'Popularity':x['popularity']\n",
    "       , 'Cosine Distance': fuzz.ratio(search_term, x['title'])} for x in search_results['results']]\n",
    "names_df = pd.DataFrame(names).sort_values(['Cosine Distance', 'Popularity'], ascending=False)\n",
    "keeper_id = names_df.iloc[0]['TMDB id']\n",
    "keeper_id"
   ]
  },
  {
   "cell_type": "code",
   "execution_count": null,
   "metadata": {},
   "outputs": [],
   "source": [
    "pd.DataFrame(names).sort_values(['Cosine Distance', 'Popularity'], ascending=False)"
   ]
  },
  {
   "cell_type": "code",
   "execution_count": null,
   "metadata": {},
   "outputs": [],
   "source": []
  },
  {
   "cell_type": "code",
   "execution_count": null,
   "metadata": {},
   "outputs": [],
   "source": []
  },
  {
   "cell_type": "code",
   "execution_count": null,
   "metadata": {
    "scrolled": true
   },
   "outputs": [],
   "source": [
    "full_movie_results = tmdb.Movies(keeper_id).info()\n",
    "full_movie_results"
   ]
  },
  {
   "cell_type": "code",
   "execution_count": null,
   "metadata": {
    "scrolled": false
   },
   "outputs": [],
   "source": [
    "full_movie_results"
   ]
  },
  {
   "cell_type": "code",
   "execution_count": null,
   "metadata": {},
   "outputs": [],
   "source": []
  },
  {
   "cell_type": "code",
   "execution_count": null,
   "metadata": {},
   "outputs": [],
   "source": [
    "normal_movie_fields = ['budget', 'homepage', 'imdb_id', 'overview', 'popularity' \\\n",
    "            , 'release_date', 'revenue', 'runtime', 'vote_average', 'vote_count', 'tagline']\n",
    "movie_results = {attr: full_movie_results.get(attr) for attr in normal_movie_fields}\n",
    "movie_results"
   ]
  },
  {
   "cell_type": "code",
   "execution_count": null,
   "metadata": {},
   "outputs": [],
   "source": []
  },
  {
   "cell_type": "code",
   "execution_count": null,
   "metadata": {},
   "outputs": [],
   "source": [
    "search_results['results'][4]"
   ]
  },
  {
   "cell_type": "code",
   "execution_count": null,
   "metadata": {},
   "outputs": [],
   "source": []
  },
  {
   "cell_type": "markdown",
   "metadata": {},
   "source": [
    "## Redo apply and practice with DB "
   ]
  },
  {
   "cell_type": "code",
   "execution_count": null,
   "metadata": {},
   "outputs": [],
   "source": [
    "raw_movies.head()"
   ]
  },
  {
   "cell_type": "code",
   "execution_count": null,
   "metadata": {},
   "outputs": [],
   "source": [
    "def _get_best_tmdb_search_result(search_term, search_results):\n",
    "    \"\"\"\n",
    "    Find best TMDB match based on name and popularity\n",
    "    :return:\n",
    "    \"\"\"\n",
    "    names = [{'New Title': x.get('title', x.get('name'))\n",
    "                 , 'TMDB id': x['id']\n",
    "                 , 'Popularity': x['popularity']\n",
    "                 , 'Cosine Distance': fuzz.ratio(search_term, x.get('title', x.get('name')))} for x in search_results['results']]\n",
    "    names_df = pd.DataFrame(names).sort_values(['Cosine Distance', 'Popularity'], ascending=False)\n",
    "    keeper_id = names_df.iloc[0]['TMDB id']\n",
    "    return(keeper_id)\n",
    "\n",
    "\n",
    "def _get_movie_API_results2(movie_title):\n",
    "    \"\"\"\n",
    "    Query TMDB API for movie title, find best result, return selected fields\n",
    "    :param movie_title:\n",
    "    :return:\n",
    "    \"\"\"\n",
    "    # Select requested fields from response\n",
    "    normal_movie_fields = ['original_title' ,'budget', 'homepage', 'imdb_id', 'overview', 'popularity' \\\n",
    "        , 'release_date', 'revenue', 'runtime', 'vote_average', 'vote_count', 'tagline']\n",
    "\n",
    "    # Find the Movie in TMDB\n",
    "    search_results = search.movie(query=movie_title)\n",
    "    n_results = len(search_results['results'])\n",
    "    #     print(\"N Results: \", n_results)\n",
    "\n",
    "    # Handle 0, 1, multiple tmdb search results\n",
    "    if n_results == 0:\n",
    "        movie_results = {key: np.nan for key in normal_movie_fields}\n",
    "        movie_results['Number of Search Results'] = n_results\n",
    "        movie_results['Input Movie Title'] = movie_title\n",
    "        movie_results['Cosine Distance'] = np.nan\n",
    "        movie_results['Date Pulled'] = datetime.datetime.now().date()\n",
    "        movie_results = pd.Series(movie_results)\n",
    "\n",
    "        return (movie_results)\n",
    "\n",
    "    elif n_results == 1:\n",
    "        temp_id = search_results['results'][0]['id']\n",
    "    elif n_results > 1:\n",
    "        temp_id =  _get_best_tmdb_search_result(movie_title, search_results)\n",
    "\n",
    "    # Get TMDB attributes\n",
    "    full_movie_results = tmdb.Movies(temp_id).info()\n",
    "    movie_results = {attr: full_movie_results.get(attr) for attr in normal_movie_fields}\n",
    "\n",
    "    # Append number of search results (incase there are multiple and we choose the wrong one)\n",
    "    movie_results['Number of Search Results'] = n_results\n",
    "    movie_results['Input Movie Title'] = movie_title\n",
    "    movie_results['Cosine Distance'] = fuzz.ratio(movie_title, movie_results.get('original_title'))\n",
    "    movie_results['Date Pulled'] = datetime.datetime.now().date()\n",
    "\n",
    "    \n",
    "    # Prepare to export\n",
    "    movie_results = pd.Series(movie_results)\n",
    "    new_column_order = normal_movie_fields.copy()\n",
    "    new_column_order.insert(0, 'Input Movie Title')\n",
    "    additional_cols = ['Number of Search Results', 'Cosine Distance', 'Date Pulled']\n",
    "    new_column_order.extend(additional_cols)\n",
    "    movie_results = movie_results[new_column_order]\n",
    "\n",
    "    return (movie_results)\n"
   ]
  },
  {
   "cell_type": "code",
   "execution_count": null,
   "metadata": {},
   "outputs": [],
   "source": []
  },
  {
   "cell_type": "code",
   "execution_count": null,
   "metadata": {},
   "outputs": [],
   "source": [
    "df2 = raw_movies['Title'].apply(lambda x:_get_movie_API_results2( movie_title = x))\n",
    "df2.head()"
   ]
  },
  {
   "cell_type": "code",
   "execution_count": null,
   "metadata": {
    "scrolled": false
   },
   "outputs": [],
   "source": [
    "df2.shape"
   ]
  },
  {
   "cell_type": "code",
   "execution_count": null,
   "metadata": {},
   "outputs": [],
   "source": [
    "df2['original_title'].isna().sum()"
   ]
  },
  {
   "cell_type": "code",
   "execution_count": null,
   "metadata": {},
   "outputs": [],
   "source": [
    "df2.iloc[:20].to_sql('Movies', conn, index=False, if_exists='replace')"
   ]
  },
  {
   "cell_type": "code",
   "execution_count": null,
   "metadata": {},
   "outputs": [],
   "source": []
  },
  {
   "cell_type": "code",
   "execution_count": null,
   "metadata": {},
   "outputs": [],
   "source": [
    "data_pipeline = data_agg.DataPipeline(netflix_path, key, db_location)\n",
    "# data_pipeline.execute()\n",
    "netflix_df = data_pipeline.parse_netflix(netflix_path)\n",
    "movie_df   = data_pipeline.generate_movie_df(netflix_df)\n",
    "# tv_df      = data_pipeline.generate_tv_df(netflix_df)\n"
   ]
  },
  {
   "cell_type": "code",
   "execution_count": null,
   "metadata": {},
   "outputs": [],
   "source": [
    "if 1==1: print (\"hello\")"
   ]
  },
  {
   "cell_type": "markdown",
   "metadata": {},
   "source": [
    "## Demo read from DB "
   ]
  },
  {
   "cell_type": "code",
   "execution_count": null,
   "metadata": {},
   "outputs": [],
   "source": [
    "df1 = pd.read_sql_query('select * from Movies', conn)\n",
    "df1.shape"
   ]
  },
  {
   "cell_type": "code",
   "execution_count": null,
   "metadata": {},
   "outputs": [],
   "source": [
    "df1"
   ]
  },
  {
   "cell_type": "code",
   "execution_count": null,
   "metadata": {},
   "outputs": [],
   "source": [
    "df1.columns"
   ]
  },
  {
   "cell_type": "code",
   "execution_count": null,
   "metadata": {
    "scrolled": true
   },
   "outputs": [],
   "source": [
    "raw_movies"
   ]
  },
  {
   "cell_type": "code",
   "execution_count": null,
   "metadata": {},
   "outputs": [],
   "source": [
    "df3 = raw_movies[['Title', 'Date Watched']].copy()"
   ]
  },
  {
   "cell_type": "code",
   "execution_count": null,
   "metadata": {},
   "outputs": [],
   "source": [
    "df3.shape"
   ]
  },
  {
   "cell_type": "code",
   "execution_count": null,
   "metadata": {},
   "outputs": [],
   "source": [
    "print(\"Unique input movies: \", df3['Title'].nunique(), ' Shape: ', df3.shape[0])\n",
    "print(\"Unique database movies: \", df1['Input Movie Title'].nunique(), \" Shape: \", df1.shape[0])"
   ]
  },
  {
   "cell_type": "code",
   "execution_count": null,
   "metadata": {},
   "outputs": [],
   "source": [
    "missing_ids = pd.merge(df3, df1, left_on = 'Title', right_on='Input Movie Title', how='left')"
   ]
  },
  {
   "cell_type": "code",
   "execution_count": null,
   "metadata": {},
   "outputs": [],
   "source": [
    "missing_ids.shape"
   ]
  },
  {
   "cell_type": "markdown",
   "metadata": {},
   "source": [
    "## TV Show Version "
   ]
  },
  {
   "cell_type": "code",
   "execution_count": null,
   "metadata": {},
   "outputs": [],
   "source": [
    "tv_shows = netflix_df[netflix_df['TV Show flag'] == 'TV Show']"
   ]
  },
  {
   "cell_type": "code",
   "execution_count": null,
   "metadata": {
    "scrolled": true
   },
   "outputs": [],
   "source": [
    "tv_shows"
   ]
  },
  {
   "cell_type": "code",
   "execution_count": null,
   "metadata": {},
   "outputs": [],
   "source": [
    "demo_tv_show = tv_shows['Show Name'].unique()[0]\n",
    "tv_shows['Show Name'].unique()\n"
   ]
  },
  {
   "cell_type": "code",
   "execution_count": null,
   "metadata": {},
   "outputs": [],
   "source": [
    "demo_tv_show"
   ]
  },
  {
   "cell_type": "code",
   "execution_count": null,
   "metadata": {},
   "outputs": [],
   "source": [
    "tv_search_results = search.tv(query=demo_tv_show)\n",
    "tv_search_results"
   ]
  },
  {
   "cell_type": "code",
   "execution_count": null,
   "metadata": {},
   "outputs": [],
   "source": [
    "tv_show_id = tv_search_results['results'][0]['id']\n",
    "tv_show_id"
   ]
  },
  {
   "cell_type": "code",
   "execution_count": null,
   "metadata": {
    "scrolled": true
   },
   "outputs": [],
   "source": [
    "tv_show_query = tmdb.TV(tv_show_id).info()\n",
    "tv_show_query"
   ]
  },
  {
   "cell_type": "code",
   "execution_count": null,
   "metadata": {},
   "outputs": [],
   "source": [
    "all_tv_episodes = netflix_df[netflix_df['TV Show flag'] == 'TV Show']\n",
    "print(f\"Total number of Episodes of TV Shows: {all_tv_episodes.shape[0]}\")\n",
    "user_tv_shows = all_tv_episodes.groupby('Show Name')"
   ]
  },
  {
   "cell_type": "code",
   "execution_count": null,
   "metadata": {
    "scrolled": true
   },
   "outputs": [],
   "source": [
    "all_tv_episodes"
   ]
  },
  {
   "cell_type": "code",
   "execution_count": null,
   "metadata": {},
   "outputs": [],
   "source": []
  },
  {
   "cell_type": "code",
   "execution_count": null,
   "metadata": {},
   "outputs": [],
   "source": []
  },
  {
   "cell_type": "code",
   "execution_count": null,
   "metadata": {},
   "outputs": [],
   "source": []
  },
  {
   "cell_type": "code",
   "execution_count": null,
   "metadata": {},
   "outputs": [],
   "source": [
    "def get_series_watched_gb(df):\n",
    "    \n",
    "    out = {}\n",
    "    out['Number of Episodes'] = df.shape[0]\n",
    "    out['First Episode Watcheed'] = df['Date Watched'].min()\n",
    "    out['Last Episode Watched'] = df['Date Watched'].max()\n",
    "    out['Number of Seasons Watched'] = df['Season'].nunique()\n",
    "    \n",
    "    # Season Metrics \n",
    "    season_gb = df.groupby('Season')\n",
    "    season_episode_cnt = season_gb.size()\n",
    "    time_to_watch_season = (season_gb['Date Watched'].max() - season_gb['Date Watched'].min())\n",
    "\n",
    "    # Watch Rate is time/# of episodes\n",
    "    episode_watch_rate = time_to_watch_season/season_gb['Date Watched'].size() \n",
    "    \n",
    "    # Longest Time to Watch \n",
    "    out['Longest Time to Watch Season'] = time_to_watch_season.max()\n",
    "    out['Season took Longest to Watch'] = time_to_watch_season.idxmax()\n",
    "    out['# of Episode for Longest to Watch'] = season_episode_cnt.loc[time_to_watch_season.idxmax()]\n",
    "    \n",
    "    # Longest Days/Episode\n",
    "    out['Longest Days/Episode'] = episode_watch_rate.max()\n",
    "    out['Season with Longest Days/Episode'] = episode_watch_rate.idxmax()\n",
    "    out['# of Episode for Longest Days/Episode'] = season_episode_cnt.loc[episode_watch_rate.idxmax()]\n",
    "\n",
    "    # Shortest Time to Watch\n",
    "    out['Shortest Time to Watch Season'] = time_to_watch_season.min()\n",
    "    out['Season took Shortest to Watch'] = time_to_watch_season.idxmin()\n",
    "    out['# of Episode for Shortest Time to Watch'] = season_episode_cnt.loc[time_to_watch_season.idxmin()]\n",
    "    \n",
    "    # Shortest Days/Episode\n",
    "    out['Shortest Days/Episode'] = episode_watch_rate.min()\n",
    "    out['Season with Shortest Days/Episode'] = episode_watch_rate.idxmin()\n",
    "    out['# of Episode for Shortest Days/Episode'] = season_episode_cnt.loc[episode_watch_rate.idxmin()]\n",
    "\n",
    "    \n",
    "    out_series = pd.Series(out)\n",
    "    return(out_series)"
   ]
  },
  {
   "cell_type": "markdown",
   "metadata": {},
   "source": [
    "### Testing Season Function"
   ]
  },
  {
   "cell_type": "code",
   "execution_count": null,
   "metadata": {},
   "outputs": [],
   "source": [
    "temp_df = all_tv_episodes[all_tv_episodes['Show Name'] == 'Black Mirror']\n",
    "temp_df.head()"
   ]
  },
  {
   "cell_type": "code",
   "execution_count": null,
   "metadata": {},
   "outputs": [],
   "source": [
    "temp_df.shape"
   ]
  },
  {
   "cell_type": "code",
   "execution_count": null,
   "metadata": {},
   "outputs": [],
   "source": [
    "season_gb = temp_df.groupby('Season')"
   ]
  },
  {
   "cell_type": "code",
   "execution_count": null,
   "metadata": {},
   "outputs": [],
   "source": [
    "((season_gb['Date Watched'].max() - season_gb['Date Watched'].min())/season_gb['Date Watched'].size())"
   ]
  },
  {
   "cell_type": "code",
   "execution_count": null,
   "metadata": {},
   "outputs": [],
   "source": [
    "season_gb.size()"
   ]
  },
  {
   "cell_type": "code",
   "execution_count": null,
   "metadata": {},
   "outputs": [],
   "source": []
  },
  {
   "cell_type": "markdown",
   "metadata": {},
   "source": [
    "## See Apply Loop"
   ]
  },
  {
   "cell_type": "code",
   "execution_count": null,
   "metadata": {
    "scrolled": true
   },
   "outputs": [],
   "source": [
    "out_df = user_tv_shows.apply(get_series_watched_gb)\n",
    "out_df"
   ]
  },
  {
   "cell_type": "code",
   "execution_count": null,
   "metadata": {},
   "outputs": [],
   "source": [
    "out_df.shape"
   ]
  },
  {
   "cell_type": "code",
   "execution_count": null,
   "metadata": {
    "scrolled": true
   },
   "outputs": [],
   "source": [
    "out_df[out_df['Number of Seasons Watched'] > 2].shape"
   ]
  },
  {
   "cell_type": "code",
   "execution_count": null,
   "metadata": {
    "scrolled": true
   },
   "outputs": [],
   "source": [
    "good_series = out_df[(out_df['Number of Seasons Watched'] > 1) \n",
    "                     & (out_df['Shortest Days/Episode'] > datetime.timedelta(minutes=15))]\n",
    "good_series"
   ]
  },
  {
   "cell_type": "code",
   "execution_count": null,
   "metadata": {},
   "outputs": [],
   "source": [
    "good_series.shape"
   ]
  },
  {
   "cell_type": "code",
   "execution_count": null,
   "metadata": {},
   "outputs": [],
   "source": [
    "\n",
    "def _get_TV_show_details(tv_show_name):\n",
    "\n",
    "    # Select requested_fields from response\n",
    "    normal_tv_show_fields = ['n_production_companies', 'primary_production_co', 'runtime', 'release_date'\n",
    "        , 'n_network', 'primary_network', 'homepage', 'overview', 'popularity', 'vote_average', 'vote_count'\n",
    "        , 'in_production', 'type', 'status', 'number_of_seasons', 'number_of_episodes']\n",
    "\n",
    "    # Search TMDB by TV show name\n",
    "    search_results = search.tv(query=tv_show_name)\n",
    "    n_results = len(search_results['results'])\n",
    "\n",
    "    # Parse search response\n",
    "    if n_results == 0:\n",
    "        tv_show_results = {key:np.nan for key in normal_tv_show_fields}\n",
    "        tv_show_results['Number of Search Results'] = n_results\n",
    "        tv_show_results['Input TV Show Title'] = tv_show_name\n",
    "        tv_show_results['Cosine Distance'] = np.nan\n",
    "        tv_show_results['Date Pulled'] = datetime.datetime.now().date()\n",
    "        tv_show_results = pd.Series(tv_show_results)\n",
    "        return(tv_show_results)\n",
    "\n",
    "    elif n_results == 1:\n",
    "        temp_id = search_results['results'][0]['id']\n",
    "    elif n_results > 1:\n",
    "        temp_id = _get_best_tmdb_search_result(tv_show_name, search_results)\n",
    "\n",
    "    full_tv_show_results=tmdb.TV(temp_id).info()\n",
    "\n",
    "    # Fill dictionary with response items directly\n",
    "    normal_tv_fields = ['homepage', 'overview', 'popularity' \\\n",
    "        , 'vote_average', 'vote_count', 'name', 'id'\n",
    "        , 'in_production', 'type', 'status', 'number_of_seasons', 'number_of_episodes']\n",
    "    tv_show_results = {attr: full_tv_show_results.get(attr) for attr in normal_tv_fields}\n",
    "\n",
    "    # Attributes that require some preprocessing\n",
    "    tv_show_results['n_production_companies'] = len(full_tv_show_results['production_companies'])\n",
    "    tv_show_results['primary_production_co'] = '' if len(full_tv_show_results['production_companies']) == 0 else \\\n",
    "    full_tv_show_results['production_companies'][0]['name']\n",
    "    tv_show_results['runtime'] = 0 if len(full_tv_show_results) == 0 else full_tv_show_results['episode_run_time'][0]\n",
    "    tv_show_results['release_date'] = full_tv_show_results['first_air_date']\n",
    "    tv_show_results['n_network'] = len(full_tv_show_results['networks'])\n",
    "    tv_show_results['primary_network'] = '' if len(full_tv_show_results['networks']) == 0 else \\\n",
    "    full_tv_show_results['networks'][0]['name']\n",
    "\n",
    "    # Append additional fields\n",
    "    tv_show_results['Number of Search Results'] = n_results\n",
    "    tv_show_results['Input TV Show Title'] = tv_show_name\n",
    "    tv_show_results['Cosine Distance'] = fuzz.ratio(tv_show_name, tv_show_results.get('original_name'))\n",
    "    tv_show_results['Date Pulled'] = datetime.datetime.now().date()\n",
    "\n",
    "    return (tv_show_results)\n"
   ]
  },
  {
   "cell_type": "code",
   "execution_count": null,
   "metadata": {
    "scrolled": true
   },
   "outputs": [],
   "source": [
    "tv_df = data_pipeline.generate_tv_df(netflix_df)\n"
   ]
  },
  {
   "cell_type": "code",
   "execution_count": null,
   "metadata": {},
   "outputs": [],
   "source": [
    "df1 = data_pipeline.all_tv_shows_results_df\n",
    "df1.head()"
   ]
  },
  {
   "cell_type": "code",
   "execution_count": null,
   "metadata": {},
   "outputs": [],
   "source": [
    "df1.shape"
   ]
  },
  {
   "cell_type": "code",
   "execution_count": null,
   "metadata": {},
   "outputs": [],
   "source": []
  },
  {
   "cell_type": "code",
   "execution_count": null,
   "metadata": {
    "scrolled": true
   },
   "outputs": [],
   "source": [
    "tv_show_details = data_pipeline._get_TV_show_details('Medici')\n",
    "tv_show_details"
   ]
  },
  {
   "cell_type": "code",
   "execution_count": null,
   "metadata": {
    "scrolled": true
   },
   "outputs": [],
   "source": [
    "tv_show_details.index.tolist()"
   ]
  },
  {
   "cell_type": "code",
   "execution_count": null,
   "metadata": {},
   "outputs": [],
   "source": []
  },
  {
   "cell_type": "code",
   "execution_count": null,
   "metadata": {},
   "outputs": [],
   "source": [
    "tv_tbl = pd.read_sql('select * from TV_Shows', conn)\n",
    "tv_tbl.shape"
   ]
  },
  {
   "cell_type": "code",
   "execution_count": null,
   "metadata": {
    "scrolled": true
   },
   "outputs": [],
   "source": [
    "tv_tbl.head()"
   ]
  },
  {
   "cell_type": "code",
   "execution_count": null,
   "metadata": {},
   "outputs": [],
   "source": [
    "tv_tbl['homepage'].nunique()"
   ]
  },
  {
   "cell_type": "code",
   "execution_count": null,
   "metadata": {
    "scrolled": true
   },
   "outputs": [],
   "source": [
    "tv_tbl.columns"
   ]
  },
  {
   "cell_type": "code",
   "execution_count": null,
   "metadata": {},
   "outputs": [],
   "source": [
    "deduped = tv_tbl.drop_duplicates()\n",
    "deduped.shape"
   ]
  },
  {
   "cell_type": "code",
   "execution_count": null,
   "metadata": {},
   "outputs": [],
   "source": [
    "deduped.to_sql('TV_Shows', conn, index=False, if_exists='replace')"
   ]
  },
  {
   "cell_type": "code",
   "execution_count": null,
   "metadata": {},
   "outputs": [],
   "source": []
  },
  {
   "cell_type": "markdown",
   "metadata": {},
   "source": [
    "## Pandas SQL "
   ]
  },
  {
   "cell_type": "code",
   "execution_count": null,
   "metadata": {
    "scrolled": true
   },
   "outputs": [],
   "source": [
    "tbl1 = pd.DataFrame(['a', 'b', 'c', 'd'], index = [1,2,3,4])\n",
    "tbl1"
   ]
  },
  {
   "cell_type": "code",
   "execution_count": null,
   "metadata": {},
   "outputs": [],
   "source": [
    "tbl2 = pd.DataFrame(['c', 'd', 'e'], index=[1, 2, 3])\n",
    "tbl2"
   ]
  },
  {
   "cell_type": "code",
   "execution_count": null,
   "metadata": {},
   "outputs": [],
   "source": [
    "pd.merge(tbl1, tbl2, indicator='i', how='left')"
   ]
  },
  {
   "cell_type": "code",
   "execution_count": null,
   "metadata": {},
   "outputs": [],
   "source": [
    "def get_db_tables(db_location):\n",
    "    con = sqlite3.connect(db_location)\n",
    "    cursor = con.cursor()\n",
    "    cursor.execute(\"SELECT name FROM sqlite_master WHERE type='table';\")\n",
    "    tbls = cursor.fetchall()\n",
    "    tbls = [x[0] for x in tbls]\n",
    "    return(tbls)\n"
   ]
  },
  {
   "cell_type": "code",
   "execution_count": null,
   "metadata": {},
   "outputs": [],
   "source": [
    "tbl1.to_sql('temp', conn)"
   ]
  },
  {
   "cell_type": "code",
   "execution_count": null,
   "metadata": {},
   "outputs": [],
   "source": [
    "get_db_tables(db_location)"
   ]
  },
  {
   "cell_type": "code",
   "execution_count": null,
   "metadata": {},
   "outputs": [],
   "source": [
    "conn.cursor().execute('select * from TV_Shows').fetchall()"
   ]
  },
  {
   "cell_type": "code",
   "execution_count": null,
   "metadata": {},
   "outputs": [],
   "source": [
    "sql2 = 'PRAGMA table_info(TV_Shows)'\n",
    "conn.cursor().execute(sql2).fetchall()"
   ]
  }
 ],
 "metadata": {
  "kernelspec": {
   "display_name": "Python 3",
   "language": "python",
   "name": "python3"
  },
  "language_info": {
   "codemirror_mode": {
    "name": "ipython",
    "version": 3
   },
   "file_extension": ".py",
   "mimetype": "text/x-python",
   "name": "python",
   "nbconvert_exporter": "python",
   "pygments_lexer": "ipython3",
   "version": "3.7.0"
  },
  "toc": {
   "base_numbering": 1,
   "nav_menu": {},
   "number_sections": true,
   "sideBar": true,
   "skip_h1_title": false,
   "title_cell": "Table of Contents",
   "title_sidebar": "Contents",
   "toc_cell": false,
   "toc_position": {
    "height": "579.2px",
    "left": "26px",
    "top": "110.8px",
    "width": "218px"
   },
   "toc_section_display": true,
   "toc_window_display": true
  }
 },
 "nbformat": 4,
 "nbformat_minor": 2
}
